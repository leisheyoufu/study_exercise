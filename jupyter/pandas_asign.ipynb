{
 "cells": [
  {
   "cell_type": "code",
   "execution_count": 2,
   "metadata": {},
   "outputs": [
    {
     "name": "stdout",
     "output_type": "stream",
     "text": [
      "             A   B   C   D\n",
      "2013-01-01   0   1   2   3\n",
      "2013-01-02   4   5   6   7\n",
      "2013-01-03   8   9  10  11\n",
      "2013-01-04  12  13  14  15\n",
      "2013-01-05  16  17  18  19\n",
      "2013-01-06  20  21  22  23\n",
      "             A    B     C   D\n",
      "2013-01-01   0  222     2   3\n",
      "2013-01-02   4    5     6   7\n",
      "2013-01-03   8    9  1111  11\n",
      "2013-01-04  12   13    14  15\n",
      "2013-01-05  16   17    18  19\n",
      "2013-01-06  20   21    22  23\n"
     ]
    }
   ],
   "source": [
    "import pandas as pd\n",
    "import numpy as np\n",
    "\n",
    "dates = pd.date_range('20130101', periods=6)\n",
    "df = pd.DataFrame(np.arange(24).reshape((6,4)), index=dates, columns=['A','B','C','D'])\n",
    "print(df)\n",
    "df.iloc[2,2] = 1111\n",
    "df.loc['20130101','B'] = 222\n",
    "print(df)\n",
    "df[df.A>0] = 0"
   ]
  },
  {
   "cell_type": "code",
   "execution_count": 3,
   "metadata": {},
   "outputs": [
    {
     "name": "stdout",
     "output_type": "stream",
     "text": [
      "             A   B   C   D\n",
      "2013-01-01   0   1   2   3\n",
      "2013-01-02   4   5   6   7\n",
      "2013-01-03   8   9  10  11\n",
      "2013-01-04  12  13  14  15\n",
      "2013-01-05  16  17  18  19\n",
      "2013-01-06  20  21  22  23\n",
      "            A  B  C  D\n",
      "2013-01-01  0  1  2  3\n",
      "2013-01-02  4  5  6  7\n",
      "2013-01-03  0  0  0  0\n",
      "2013-01-04  0  0  0  0\n",
      "2013-01-05  0  0  0  0\n",
      "2013-01-06  0  0  0  0\n"
     ]
    }
   ],
   "source": [
    "import pandas as pd\n",
    "import numpy as np\n",
    "\n",
    "dates = pd.date_range('20130101', periods=6)\n",
    "df = pd.DataFrame(np.arange(24).reshape((6,4)), index=dates, columns=['A','B','C','D'])\n",
    "print(df)\n",
    "df[df.A>4] = 0\n",
    "print(df)"
   ]
  },
  {
   "cell_type": "code",
   "execution_count": 5,
   "metadata": {},
   "outputs": [
    {
     "name": "stdout",
     "output_type": "stream",
     "text": [
      "             A   B   C   D\n",
      "2013-01-01   0   1   2   3\n",
      "2013-01-02   4   5   6   7\n",
      "2013-01-03   8   9  10  11\n",
      "2013-01-04  12  13  14  15\n",
      "2013-01-05  16  17  18  19\n",
      "2013-01-06  20  21  22  23\n",
      "             A  B   C   D\n",
      "2013-01-01   0  1   2   3\n",
      "2013-01-02   4  5   6   7\n",
      "2013-01-03   8  0  10  11\n",
      "2013-01-04  12  0  14  15\n",
      "2013-01-05  16  0  18  19\n",
      "2013-01-06  20  0  22  23\n"
     ]
    }
   ],
   "source": [
    "import pandas as pd\n",
    "import numpy as np\n",
    "\n",
    "dates = pd.date_range('20130101', periods=6)\n",
    "df = pd.DataFrame(np.arange(24).reshape((6,4)), index=dates, columns=['A','B','C','D'])\n",
    "print(df)\n",
    "df.B[df.A>4] = 0\n",
    "print(df)"
   ]
  },
  {
   "cell_type": "code",
   "execution_count": 17,
   "metadata": {},
   "outputs": [
    {
     "name": "stdout",
     "output_type": "stream",
     "text": [
      "             A   B   C   D\n",
      "2013-01-01   0   1   2   3\n",
      "2013-01-02   4   5   6   7\n",
      "2013-01-03   8   9  10  11\n",
      "2013-01-04  12  13  14  15\n",
      "2013-01-05  16  17  18  19\n",
      "2013-01-06  20  21  22  23\n",
      "             A   B   C   D   F\n",
      "2013-01-01   0   1   2   3 NaN\n",
      "2013-01-02   4   5   6   7 NaN\n",
      "2013-01-03   8   9  10  11 NaN\n",
      "2013-01-04  12  13  14  15 NaN\n",
      "2013-01-05  16  17  18  19 NaN\n",
      "2013-01-06  20  21  22  23 NaN\n",
      "             A   B   C   D   F  E\n",
      "2013-01-01   0   1   2   3 NaN  0\n",
      "2013-01-02   4   5   6   7 NaN  1\n",
      "2013-01-03   8   9  10  11 NaN  2\n",
      "2013-01-04  12  13  14  15 NaN  3\n",
      "2013-01-05  16  17  18  19 NaN  4\n",
      "2013-01-06  20  21  22  23 NaN  5\n",
      "-------------------series --------------------\n",
      "2013-01-01    0\n",
      "2013-01-02    1\n",
      "2013-01-03    2\n",
      "2013-01-04    3\n",
      "2013-01-05    4\n",
      "2013-01-06    5\n",
      "Freq: D, dtype: int64\n"
     ]
    }
   ],
   "source": [
    "import pandas as pd\n",
    "import numpy as np\n",
    "\n",
    "dates = pd.date_range('20130101', periods=6)\n",
    "df = pd.DataFrame(np.arange(24).reshape((6,4)), index=dates, columns=['A','B','C','D'])\n",
    "print(df)\n",
    "df['F'] = np.nan   # add a column\n",
    "print(df)\n",
    "df['E'] = pd.Series(range(6), index=pd.date_range('20130101', periods=6))\n",
    "print(df)\n",
    "print(\"-------------------series --------------------\")\n",
    "s = pd.Series(range(6), index=pd.date_range('20130101', periods=6))\n",
    "print(s)"
   ]
  },
  {
   "cell_type": "code",
   "execution_count": null,
   "metadata": {},
   "outputs": [],
   "source": []
  }
 ],
 "metadata": {
  "kernelspec": {
   "display_name": "Python 3",
   "language": "python",
   "name": "python3"
  },
  "language_info": {
   "codemirror_mode": {
    "name": "ipython",
    "version": 3
   },
   "file_extension": ".py",
   "mimetype": "text/x-python",
   "name": "python",
   "nbconvert_exporter": "python",
   "pygments_lexer": "ipython3",
   "version": "3.5.2"
  }
 },
 "nbformat": 4,
 "nbformat_minor": 1
}
