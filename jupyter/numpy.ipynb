{
 "worksheets": [
  {
   "cells": [
    {
     "cell_type": "code",
     "metadata": {},
     "outputs": [
      {
       "output_type": "stream",
       "stream": "stdout",
       "text": [
        "int32\n",
        "[[2 3 4]\n",
        " [5 6 7]]\n",
        "[[ 0.  0.  0.]\n",
        " [ 0.  0.  0.]]\n",
        "[ 1.  1.]\n",
        "[[  1.66994188e-321   0.00000000e+000   0.00000000e+000]\n",
        " [  0.00000000e+000   0.00000000e+000   0.00000000e+000]]\n",
        "[10 12 14 16 18]\n",
        "[[ 0  1  2  3]\n",
        " [ 4  5  6  7]\n",
        " [ 8  9 10 11]]\n",
        "----------------\n",
        "[  1.     3.25   5.5    7.75  10.  ]\n",
        "[[  1.    2.8   4.6]\n",
        " [  6.4   8.2  10. ]]\n"
       ]
      }
     ],
     "input": [
      "a = np.array([2,23,4], dtype=np.int)\n",
      "print (a.dtype)\n",
      "a = np.array([[2,3,4], [5,6,7]])\n",
      "print (a)\n",
      "a = np.zeros((2,3))\n",
      "print (a)\n",
      "a = np.ones((2,))\n",
      "print (a)\n",
      "a = np.empty((2,3))  # near 0\n",
      "print (a)\n",
      "a = np.arange(10,20,2)\n",
      "print (a)\n",
      "a = np.arange(12).reshape((3,4))\n",
      "print (a)\n",
      "print ('----------------')\n",
      "a = np.linspace(1,10, 5)  # generate 1-10, 5 segments array\n",
      "print (a)\n",
      "a = np.linspace(1,10,6).reshape((2,3))\n",
      "print (a)"
     ],
     "language": "python",
     "prompt_number": 12
    },
    {
     "cell_type": "code",
     "metadata": {},
     "outputs": [
      {
       "output_type": "stream",
       "stream": "stdout",
       "text": [
        "(array([10, 20, 30, 40]), array([0, 1, 2, 3]))\n",
        "[10 19 28 37]\n",
        "[0 1 4 9]\n",
        "[-5.44021111  9.12945251 -9.88031624  7.4511316 ]\n",
        "-----------------------\n",
        "[ True  True  True False]\n",
        "[False False False  True]\n",
        "[[1 1]\n",
        " [0 1]]\n",
        "[[0 1]\n",
        " [2 3]]\n",
        "('multiply result:', array([[0, 1],\n",
        "       [0, 3]]))\n",
        "('matrix multiply:', array([[2, 4],\n",
        "       [2, 3]]))\n",
        "('matrix multiply:', array([[2, 4],\n",
        "       [2, 3]]))\n",
        "------------------------\n",
        "[[ 0.02906264  0.40670825  0.17867927  0.6537555 ]\n",
        " [ 0.46833367  0.89164484  0.28657209  0.20790215]]\n",
        "3.12265840375\n",
        "0.029062639889\n",
        "0.891644835343\n",
        "[ 0.02906264  0.20790215]\n",
        "[ 0.02906264  0.40670825  0.17867927  0.20790215]\n"
       ]
      }
     ],
     "input": [
      "a = np.array([10,20,30,40])\n",
      "b = np.arange(4)\n",
      "print(a,b)\n",
      "c = a-b\n",
      "print(c)  # add one by one\n",
      "c = b**2\n",
      "print(c)  # pow(2), one by eon\n",
      "c = 10*np.sin(a)\n",
      "print (c)  # sin every item\n",
      "c = 10*np.cos(a)\n",
      "print('-----------------------')\n",
      "b = np.arange(4)\n",
      "print(b<3)\n",
      "print(b==3)\n",
      "a = np.array([[1,1],[0,1]])\n",
      "b = np.arange(4).reshape((2,2))\n",
      "print(a)\n",
      "print(b)\n",
      "c = a*b    # multiply one by one\n",
      "print(\"multiply result:\", c)\n",
      "c = np.dot(a,b)\n",
      "print(\"matrix multiply:\", c)\n",
      "c = a.dot(b)\n",
      "print(\"matrix multiply:\", c)\n",
      "print(\"------------------------\")\n",
      "a = np.random.random((2,4))   # generate random 2 x 3 matrix 0-1\n",
      "print(a)\n",
      "print(np.sum(a))   # sum all the item of matrix\n",
      "print(np.min(a))\n",
      "print(np.max(a))\n",
      "print(np.min(a,axis=1))   # min value of each row\n",
      "print(np.min(a,axis=0))   # min value of each column"
     ],
     "language": "python",
     "prompt_number": 27
    },
    {
     "cell_type": "code",
     "metadata": {},
     "outputs": [
      {
       "output_type": "stream",
       "stream": "stdout",
       "text": [
        "0\n",
        "11\n",
        "7.5\n",
        "7.5\n",
        "7.5\n",
        "('cumsum', array([ 2,  5,  9, 14, 20, 27, 35, 44, 54, 65, 77, 90]))\n",
        "('diff', array([[1, 1, 1],\n",
        "       [1, 1, 1],\n",
        "       [1, 1, 1]]))\n",
        "(array([0, 0, 0, 0, 1, 1, 1, 1, 2, 2, 2, 2], dtype=int64), array([0, 1, 2, 3, 0, 1, 2, 3, 0, 1, 2, 3], dtype=int64))\n",
        "[[ 9 10 11 12 13 14]\n",
        " [ 3  4  5  6  7  8]]\n",
        "----------------\n",
        "[[14  8]\n",
        " [13  7]\n",
        " [12  6]\n",
        " [11  5]\n",
        " [10  4]\n",
        " [ 9  3]]\n",
        "[[14  8]\n",
        " [13  7]\n",
        " [12  6]\n",
        " [11  5]\n",
        " [10  4]\n",
        " [ 9  3]]\n",
        "[[260 238 216 194 172 150]\n",
        " [238 218 198 178 158 138]\n",
        " [216 198 180 162 144 126]\n",
        " [194 178 162 146 130 114]\n",
        " [172 158 144 130 116 102]\n",
        " [150 138 126 114 102  90]]\n",
        "----------------------------------\n",
        "[[14 13 12 11 10  9]\n",
        " [ 8  7  6  5  4  3]]\n",
        "[[9 9 9 9 9 9]\n",
        " [8 7 6 5 5 5]]\n",
        "[ 11.  10.   9.   8.   7.   6.]\n",
        "[ 11.5   5.5]\n"
       ]
      }
     ],
     "input": [
      "a = np.arange(2,14).reshape((3,4))\n",
      "print(np.argmin(a))  # the index of min  value\n",
      "print(np.argmax(a))\n",
      "print(np.average(a))\n",
      "print(a.mean())\n",
      "print(np.median(a))  # mid value\n",
      "print('cumsum', np.cumsum(a))  \n",
      "print('diff', np.diff(a))\n",
      "print(np.nonzero(a))  # row number array,  column number array\n",
      "a = np.arange(14,2,-1).reshape((2,6))\n",
      "print(np.sort(a)) # sort for each num\n",
      "print(\"----------------\")\n",
      "print(np.transpose(a))\n",
      "print(a.T)\n",
      "print((a.T).dot(a))\n",
      "print(\"----------------------------------\")\n",
      "print(a)\n",
      "print(np.clip(a,5,9))  # equal 9 if > 9 , eqal 5 if < 5\n",
      "print(np.mean(a, axis=0))   # calculate the mean value for each column\n",
      "print(np.mean(a, axis=1))   # calculate the mean value for each row"
     ],
     "language": "python",
     "prompt_number": 45
    },
    {
     "cell_type": "code",
     "metadata": {},
     "outputs": [
      {
       "output_type": "stream",
       "stream": "stdout",
       "text": [
        "index of numpy matrix\n",
        "[[ 3  4  5  6]\n",
        " [ 7  8  9 10]\n",
        " [11 12 13 14]]\n",
        "12\n",
        "12\n",
        "[11 12 13 14]\n",
        "[ 4  8 12]\n",
        "[8 9]\n",
        "--------------------------for loop------------------\n",
        "[3 4 5 6]\n",
        "[ 7  8  9 10]\n",
        "[11 12 13 14]\n",
        "[ 3  7 11]\n",
        "[ 4  8 12]\n",
        "[ 5  9 13]\n",
        "[ 6 10 14]\n",
        "3\n",
        "4\n",
        "5\n",
        "6\n",
        "7\n",
        "8\n",
        "9\n",
        "10\n",
        "11\n",
        "12\n",
        "13\n",
        "14\n"
       ]
      }
     ],
     "input": [
      "import numpy as np\n",
      "print(\"index of numpy matrix\")\n",
      "a = np.arange(3,15).reshape((3,4))\n",
      "print(a)\n",
      "print(a[2][1])\n",
      "print(a[2,1])\n",
      "print(a[2, :])   # all the item in the row 2(from row 0)\n",
      "print(a[:,1])  # all the item in the column 1\n",
      "print(a[1,1:3])  # row 1, column 1 and column 2\n",
      "print(\"--------------------------for loop------------------\")\n",
      "for row in a:\n",
      "    print(row)\n",
      "\n",
      "for col in a.T:\n",
      "    print col\n",
      "\n",
      "\n",
      "for item in a.flat:  # a.flattern() , a.flat is a generator\n",
      "    print(item)"
     ],
     "language": "python",
     "prompt_number": 8
    },
    {
     "cell_type": "code",
     "metadata": {},
     "outputs": [
      {
       "output_type": "stream",
       "stream": "stdout",
       "text": [
        "merge numpy array\n",
        "[[1 1 1]\n",
        " [2 2 2]]\n",
        "[1 1 1 2 2 2]\n",
        "((3L,), (3L,))\n",
        "---------------------axis-----------------------\n",
        "(1L, 3L)\n",
        "[[1 1 1]]\n",
        "[[1]\n",
        " [1]\n",
        " [1]]\n",
        "--------------concatenate---------------------\n",
        "(12L, 1L)\n",
        "(3L, 4L)\n"
       ]
      }
     ],
     "input": [
      "import numpy as np\n",
      "print(\"merge numpy array\")\n",
      "a = np.array([1,1,1])\n",
      "b = np.array([2,2,2])\n",
      "print(np.vstack((a,b)))   # vertical stack\n",
      "d = np.hstack((a,b))  # horizontal stack\n",
      "print(d)\n",
      "print(a.shape, a.T.shape)  # transpose() can not be applied to array\n",
      "print(\"---------------------axis-----------------------\")\n",
      "print(a[np.newaxis,:].shape)\n",
      "print(a[np.newaxis,:])  # horizontal axis\n",
      "print(a[:,np.newaxis])  # vertical axis\n",
      "print(\"--------------concatenate---------------------\")\n",
      "a = a[:,np.newaxis]\n",
      "b = b[:,np.newaxis]\n",
      "c = np.concatenate((a,b,b,a), axis=0)\n",
      "print(c.shape)\n",
      "c = np.concatenate((a,b,b,a), axis=1)\n",
      "print(c.shape)"
     ],
     "language": "python",
     "prompt_number": 24
    },
    {
     "cell_type": "code",
     "metadata": {},
     "outputs": [
      {
       "output_type": "stream",
       "stream": "stdout",
       "text": [
        "split numpy array\n",
        "[[ 0  1  2  3]\n",
        " [ 4  5  6  7]\n",
        " [ 8  9 10 11]]\n",
        "[array([[0, 1],\n",
        "       [4, 5],\n",
        "       [8, 9]]), array([[ 2,  3],\n",
        "       [ 6,  7],\n",
        "       [10, 11]])]\n",
        "[array([[0, 1, 2, 3]]), array([[4, 5, 6, 7]]), array([[ 8,  9, 10, 11]])]\n",
        "-------------------------array_split------------------------------\n",
        "[array([[0, 1],\n",
        "       [4, 5],\n",
        "       [8, 9]]), array([[ 2],\n",
        "       [ 6],\n",
        "       [10]]), array([[ 3],\n",
        "       [ 7],\n",
        "       [11]])]\n",
        "-------------------------vsplit------------------------------\n",
        "[array([[0, 1, 2, 3]]), array([[4, 5, 6, 7]]), array([[ 8,  9, 10, 11]])]\n",
        "[array([[0, 1],\n",
        "       [4, 5],\n",
        "       [8, 9]]), array([[ 2,  3],\n",
        "       [ 6,  7],\n",
        "       [10, 11]])]\n"
       ]
      }
     ],
     "input": [
      "import numpy as np\n",
      "print(\"split numpy array\")\n",
      "a = np.arange(12).reshape((3,4))\n",
      "print(a)\n",
      "print(np.split(a,2, axis=1))   # split into two parts\n",
      "print(np.split(a,3)) # vertical split into 3 parts\n",
      "print(\"-------------------------array_split------------------------------\")\n",
      "print(np.array_split(a,3,axis=1))  # not equal split\n",
      "print(\"-------------------------vsplit------------------------------\")\n",
      "print(np.vsplit(a,3))\n",
      "print(np.hsplit(a,2))"
     ],
     "language": "python",
     "prompt_number": 32
    },
    {
     "cell_type": "code",
     "metadata": {},
     "outputs": [
      {
       "output_type": "stream",
       "stream": "stdout",
       "text": [
        "[[ 1.   2.1]\n",
        " [ 2.   1.3]]\n",
        "('b=', matrix([[ 1. ,  7.9],\n",
        "        [ 2. ,  1.3]]))\n",
        "('c=', matrix([[ 1. ,  2.1],\n",
        "        [ 2. ,  1.3]]))\n"
       ]
      }
     ],
     "input": [
      "import numpy as np\n",
      "a = np.matrix([[1,2.1],[2,1.3]])\n",
      "print(a)\n",
      "b = a\n",
      "c = a.copy()\n",
      "a[0,1] = 7.9\n",
      "print(\"b=\",b)\n",
      "print(\"c=\",c)"
     ],
     "language": "python",
     "prompt_number": 39
    },
    {
     "cell_type": "code",
     "metadata": {},
     "outputs": [
      {
       "output_type": "stream",
       "stream": "stdout",
       "text": [
        "retArray=array([[ 1.],\n",
        "       [ 1.],\n",
        "       [ 1.],\n",
        "       [ 1.],\n",
        "       [ 1.]])\n",
        "[[ 2.1]\n",
        " [ 1.1]\n",
        " [ 1. ]\n",
        " [ 1. ]\n",
        " [ 1. ]]\n",
        "return bool array [matrix([[False],\n",
        "        [False],\n",
        "        [ True],\n",
        "        [ True],\n",
        "        [ True]], dtype=bool)]\n",
        "[[ 1.]\n",
        " [ 1.]\n",
        " [ 2.]\n",
        " [ 2.]\n",
        " [ 2.]]\n"
       ]
      }
     ],
     "input": [
      "dataMatrix = np.matrix([[ 1. ,  2.1],\n",
      "        [ 2. ,  1.1],\n",
      "        [ 1.3,  1. ],\n",
      "        [ 1. ,  1. ],\n",
      "        [ 2. ,  1. ]])\n",
      "classLabels = [1.0, 1.0, -1.0, -1.0, 1.0]\n",
      "retArray = np.ones((np.shape(dataMatrix)[0],1))\n",
      "print (\"retArray=%r\" % retArray)\n",
      "print (dataMatrix[:,1]) # CL: 第二个维度\n",
      "print (\"return bool array %r\" % [dataMatrix[:,1] <= 1])\n",
      "# 将第二列 小于等于1的index 改为2\n",
      "retArray[dataMatrix[:,1] <= 1] = 2 \n",
      "print (retArray)"
     ],
     "language": "python",
     "prompt_number": 25
    },
    {
     "cell_type": "code",
     "metadata": {},
     "outputs": [
      {
       "output_type": "stream",
       "stream": "stdout",
       "text": [
        "('array multiply %r', matrix([[13, 20],\n",
        "        [ 5,  8]]))\n",
        "('linspace=%r', array([-1.        , -0.89473684, -0.78947368, -0.68421053, -0.57894737,\n",
        "       -0.47368421, -0.36842105, -0.26315789, -0.15789474, -0.05263158,\n",
        "        0.05263158,  0.15789474,  0.26315789,  0.36842105,  0.47368421,\n",
        "        0.57894737,  0.68421053,  0.78947368,  0.89473684,  1.        ]))\n",
        "numpy random array([-0.00825084, -0.07170269,  0.11612253, -0.03397128, -0.06161736,\n",
        "        0.04028103, -0.02848239, -0.12408476,  0.02463738, -0.07486355,\n",
        "        0.04211884, -0.01991145,  0.00399328,  0.00699585,  0.06265497,\n",
        "        0.1093423 ,  0.09569049,  0.01430924, -0.01744895,  0.0232835 ])\n"
       ]
      }
     ],
     "input": [
      "import numpy as np\n",
      "\n",
      "a=np.mat('4 3; 2 1')\n",
      "b=np.mat('1 2; 3 4')\n",
      "print (\"array multiply %r\", a*b)\n",
      "x=np.linspace(-1,1,20)\n",
      "print ('linspace=%r', x)\n",
      "x=np.random.normal(0,0.05,(20,))\n",
      "print (\"numpy random gause %r\" % x)"
     ],
     "language": "python",
     "prompt_number": 13
    },
    {
     "cell_type": "code",
     "metadata": {},
     "outputs": [
      {
       "output_type": "stream",
       "stream": "stdout",
       "text": [
        "[ 0.   0.1  0.2  0.3  0.4  0.5  0.6  0.7  0.8  0.9  1.   1.1  1.2  1.3  1.4\n",
        "  1.5  1.6  1.7  1.8  1.9  2.   2.1  2.2  2.3  2.4  2.5  2.6  2.7  2.8  2.9\n",
        "  3.   3.1  3.2  3.3  3.4  3.5  3.6  3.7  3.8  3.9  4.   4.1  4.2  4.3  4.4\n",
        "  4.5  4.6  4.7  4.8  4.9]\n",
        "before shuffer x= array([-1.        , -0.77777778, -0.55555556, -0.33333333, -0.11111111,\n",
        "        0.11111111,  0.33333333,  0.55555556,  0.77777778,  1.        ])"
       ]
      },
      {
       "output_type": "stream",
       "stream": "stdout",
       "text": [
        "\n",
        "after shuffer x= array([ 1.        ,  0.77777778,  0.11111111, -0.77777778,  0.55555556,\n",
        "       -0.33333333, -1.        ,  0.33333333, -0.11111111, -0.55555556])\n"
       ]
      }
     ],
     "input": [
      "import numpy as np\n",
      "import matplotlib.pyplot as plt\n",
      "x = np.arange(0, 5, 0.1)  # 0, 5, 每次递增0.1\n",
      "print (x)\n",
      "line, = plt.plot(x, x*x) \n",
      "plt.show()\n",
      "x=np.linspace(-1,1,10)\n",
      "print (\"before shuffer x= %r\" % x)\n",
      "np.random.shuffle(x)  # 发牌，就是打乱\n",
      "print (\"after shuffer x= %r\" % x)\n",
      "np.random.normal()  \n",
      "y=0.5*x+2+np.random.normal(0,0.05,(10,))"
     ],
     "language": "python",
     "prompt_number": 3
    },
    {
     "cell_type": "code",
     "metadata": {},
     "outputs": [],
     "input": [
      ""
     ],
     "language": "python"
    }
   ]
  }
 ],
 "cells": [],
 "metadata": {
  "name": "numpy"
 },
 "nbformat": 3,
 "nbformat_minor": 0
}