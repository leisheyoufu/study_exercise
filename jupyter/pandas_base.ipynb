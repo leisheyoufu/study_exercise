{
 "cells": [
  {
   "cell_type": "code",
   "execution_count": 3,
   "metadata": {},
   "outputs": [
    {
     "name": "stdout",
     "output_type": "stream",
     "text": [
      "0     1.0\n",
      "1     3.0\n",
      "2     6.0\n",
      "3     NaN\n",
      "4    44.0\n",
      "5     1.0\n",
      "dtype: float64\n",
      "DatetimeIndex(['2016-01-01', '2016-01-02', '2016-01-03', '2016-01-04',\n",
      "               '2016-01-05', '2016-01-06'],\n",
      "              dtype='datetime64[ns]', freq='D')\n",
      "                   a         b         c         d\n",
      "2016-01-01 -0.547377 -1.041379  1.233774 -0.593130\n",
      "2016-01-02 -0.539570  0.063478 -1.507823 -0.957669\n",
      "2016-01-03  0.440422 -0.524890 -0.625927  0.042910\n",
      "2016-01-04  0.678767  0.483310  0.435574  0.830956\n",
      "2016-01-05 -1.347920  0.511621 -1.784942 -1.057020\n",
      "2016-01-06 -0.154020  0.530956 -0.586869 -0.678014\n",
      "------------------------------------------------\n",
      "   0  1   2   3\n",
      "0  0  1   2   3\n",
      "1  4  5   6   7\n",
      "2  8  9  10  11\n",
      "----dataframe from dict-------------------------\n",
      "     A          B    C  D      E    F\n",
      "0  1.0 2013-01-01  1.0  3   test  foo\n",
      "1  1.0 2013-01-01  1.0  3  train  foo\n",
      "2  1.0 2013-01-01  1.0  3   test  foo\n",
      "3  1.0 2013-01-01  1.0  3  train  foo\n",
      "A           float64\n",
      "B    datetime64[ns]\n",
      "C           float32\n",
      "D             int32\n",
      "E          category\n",
      "F            object\n",
      "dtype: object\n",
      "--------------index, column---------------\n",
      "Int64Index([0, 1, 2, 3], dtype='int64')\n",
      "Index([u'A', u'B', u'C', u'D', u'E', u'F'], dtype='object')\n",
      "[[1.0 Timestamp('2013-01-01 00:00:00') 1.0 3 'test' 'foo']\n",
      " [1.0 Timestamp('2013-01-01 00:00:00') 1.0 3 'train' 'foo']\n",
      " [1.0 Timestamp('2013-01-01 00:00:00') 1.0 3 'test' 'foo']\n",
      " [1.0 Timestamp('2013-01-01 00:00:00') 1.0 3 'train' 'foo']]\n",
      "--------------describe ------------------\n",
      "         A    C    D\n",
      "count  4.0  4.0  4.0\n",
      "mean   1.0  1.0  3.0\n",
      "std    0.0  0.0  0.0\n",
      "min    1.0  1.0  3.0\n",
      "25%    1.0  1.0  3.0\n",
      "50%    1.0  1.0  3.0\n",
      "75%    1.0  1.0  3.0\n",
      "max    1.0  1.0  3.0\n",
      "--------------tranpot--------------------\n",
      "                     0                    1                    2  \\\n",
      "A                    1                    1                    1   \n",
      "B  2013-01-01 00:00:00  2013-01-01 00:00:00  2013-01-01 00:00:00   \n",
      "C                    1                    1                    1   \n",
      "D                    3                    3                    3   \n",
      "E                 test                train                 test   \n",
      "F                  foo                  foo                  foo   \n",
      "\n",
      "                     3  \n",
      "A                    1  \n",
      "B  2013-01-01 00:00:00  \n",
      "C                    1  \n",
      "D                    3  \n",
      "E                train  \n",
      "F                  foo  \n",
      "--------------sort-----------------------\n",
      "     F      E  D    C          B    A\n",
      "0  foo   test  3  1.0 2013-01-01  1.0\n",
      "1  foo  train  3  1.0 2013-01-01  1.0\n",
      "2  foo   test  3  1.0 2013-01-01  1.0\n",
      "3  foo  train  3  1.0 2013-01-01  1.0\n",
      "--------------sort by row----------------\n",
      "     A          B    C  D      E    F\n",
      "3  1.0 2013-01-01  1.0  3  train  foo\n",
      "2  1.0 2013-01-01  1.0  3   test  foo\n",
      "1  1.0 2013-01-01  1.0  3  train  foo\n",
      "0  1.0 2013-01-01  1.0  3   test  foo\n",
      "--------------sort by value--------------\n",
      "     A          B    C  D      E    F\n",
      "0  1.0 2013-01-01  1.0  3   test  foo\n",
      "2  1.0 2013-01-01  1.0  3   test  foo\n",
      "1  1.0 2013-01-01  1.0  3  train  foo\n",
      "3  1.0 2013-01-01  1.0  3  train  foo\n"
     ]
    }
   ],
   "source": [
    "import pandas as pd\n",
    "import numpy as np\n",
    "s = pd.Series([1,3,6,np.nan,44,1])  # np.nan -->non\n",
    "print(s)\n",
    "dates = pd.date_range('20160101',periods=6)\n",
    "print(dates)\n",
    "df = pd.DataFrame(np.random.randn(6,4), index=dates, columns=['a','b','c','d'])       # 6 rows 4 columns\n",
    "print(df)\n",
    "print(\"------------------------------------------------\")\n",
    "df = pd.DataFrame(np.arange(12).reshape((3,4)))\n",
    "print(df)  # add omdex 0,1,2,3 and 0,1,2 automatically\n",
    "\n",
    "print(\"----dataframe from dict-------------------------\")\n",
    "df2 = pd.DataFrame({'A':1., 'B': pd.Timestamp('20130101'), \n",
    "                    'C': pd.Series(1,index=list(range(4)),dtype='float32'),\n",
    "                    'D':np.array([3]*4,dtype='int32'),\n",
    "                    'E': pd.Categorical([\"test\", \"train\",\"test\",\"train\"]),\n",
    "                    'F': 'foo'})\n",
    "print(df2)\n",
    "print(df2.dtypes)\n",
    "print(\"--------------index, column---------------\")\n",
    "print(df2.index)\n",
    "print(df2.columns)\n",
    "print(df2.values)\n",
    "print(\"--------------describe ------------------\")\n",
    "print(df2.describe())   \n",
    "print(\"--------------tranpot--------------------\")\n",
    "print(df2.T)\n",
    "print(\"--------------sort-----------------------\")\n",
    "print(df2.sort_index(axis=1,ascending=False))   # sort by column\n",
    "print(\"--------------sort by row----------------\")\n",
    "print(df2.sort_index(axis=0,ascending=False))\n",
    "\n",
    "print(\"--------------sort by value--------------\")\n",
    "print(df2.sort_values(by='E'))"
   ]
  },
  {
   "cell_type": "code",
   "execution_count": 35,
   "metadata": {},
   "outputs": [
    {
     "name": "stdout",
     "output_type": "stream",
     "text": [
      "[(1, 1.0) (1, 1.0) (1, 1.0)]\n",
      "[1 1 1]\n"
     ]
    }
   ],
   "source": [
    "import numpy as np\n",
    "import pandas as pd\n",
    "my_array = np.ones(3, dtype=([('foo', int), ('bar', float)]))\n",
    "print (my_array)\n",
    "print ((my_array['foo']))"
   ]
  },
  {
   "cell_type": "code",
   "execution_count": 18,
   "metadata": {},
   "outputs": [
    {
     "name": "stdout",
     "output_type": "stream",
     "text": [
      "     Col1 Col2\n",
      "Row1    1    2\n",
      "Row2    3    4\n"
     ]
    }
   ],
   "source": [
    "data = np.array([['','Col1','Col2'],\n",
    "                ['Row1',1,2],\n",
    "                ['Row2',3,4]])\n",
    "                \n",
    "print(pd.DataFrame(data=data[1:,1:],\n",
    "                  index=data[1:,0],\n",
    "                  columns=data[0,1:]))"
   ]
  },
  {
   "cell_type": "code",
   "execution_count": 11,
   "metadata": {},
   "outputs": [
    {
     "name": "stdout",
     "output_type": "stream",
     "text": [
      "   A\n",
      "0  4\n",
      "1  5\n",
      "2  6\n",
      "3  7\n"
     ]
    }
   ],
   "source": [
    "my_df = pd.DataFrame(data=[4,5,6,7], index=range(0,4), columns=['A'])\n",
    "print (my_df)\n",
    "my_series = pd.Series({\"Belgium\":\"Brussels\", \"India\":\"New Delhi\", \"United Kingdom\":\"London\", \"United States\":\"Washington\"})\n",
    "print (my_series)"
   ]
  },
  {
   "cell_type": "code",
   "execution_count": 19,
   "metadata": {},
   "outputs": [
    {
     "name": "stdout",
     "output_type": "stream",
     "text": [
      "   0  1  2\n",
      "0  1  2  3\n",
      "1  4  5  6\n",
      "(2, 3)\n",
      "2\n",
      "[0, 1, 2]\n",
      "2\n"
     ]
    }
   ],
   "source": [
    "df = pd.DataFrame(np.array([[1, 2, 3], [4, 5, 6]]))\n",
    "print (df)\n",
    "print (df.shape) \n",
    "print (len(df))\n",
    "print (list(df.columns.values))\n",
    "print (df[0].count())"
   ]
  },
  {
   "cell_type": "code",
   "execution_count": 33,
   "metadata": {},
   "outputs": [
    {
     "name": "stdout",
     "output_type": "stream",
     "text": [
      "[[1 2 3]\n",
      " [4 5 6]\n",
      " [7 8 9]]\n",
      "   A  B  C\n",
      "0  1  2  3\n",
      "1  4  5  6\n",
      "2  7  8  9\n",
      "1\n",
      "1\n",
      "1\n",
      "1\n",
      "1\n",
      "A    1\n",
      "B    2\n",
      "C    3\n",
      "Name: 0, dtype: int32\n",
      "0    1\n",
      "1    4\n",
      "2    7\n",
      "Name: A, dtype: int32\n"
     ]
    }
   ],
   "source": [
    "data = np.arange(9).reshape(3,3)\n",
    "data +=1\n",
    "print (a)\n",
    "df = pd.DataFrame(data=a, index=range(0,3), columns=['A','B','C'])\n",
    "print (df)\n",
    "print(df.iloc[0][0])\n",
    "print(df.loc[0]['A'])\n",
    "print(df.at[0,'A'])\n",
    "print(df.iat[0,0])\n",
    "print(df.get_value(0, 'A'))\n",
    "# Use `iloc[]` to select row `0`\n",
    "print(df.iloc[0])\n",
    "\n",
    "# Use `loc[]` to select column `'A'`\n",
    "print(df.loc[:,'A'])"
   ]
  },
  {
   "cell_type": "code",
   "metadata": {},
   "outputs": [],
   "source": [
    "df = pd.DataFrame(data=np.array([[1, 2, 3], [4, 5, 6], [7, 8, 9]]), index= [2, 'A', 4], columns=[48, 49, 50])\n",
    "print (df)\n",
    "# Pass `2` to `loc`\n",
    "print(df.loc[2])\n",
    "\n",
    "# Pass `2` to `iloc`# cl, ilock is the index number(0,1,2?) not index value\n",
    "print(df.iloc[2])\n",
    "\n",
    "# Pass `2` to `ix`\n",
    "print(df.ix[2])"
   ]
  },
  {
   "cell_type": "code",
   "execution_count": 41,
   "metadata": {},
   "outputs": [
    {
     "name": "stdout",
     "output_type": "stream",
     "text": [
      "      48  49  50\n",
      "2.5    1   2   3\n",
      "12.6   4   5   6\n",
      "4.8   60  50  40\n",
      "      48  49  50\n",
      "2.5    1   2   3\n",
      "12.6   4   5   6\n",
      "4.8   11  12  13\n"
     ]
    }
   ],
   "source": [
    "df = pd.DataFrame(data=np.array([[1, 2, 3], [4, 5, 6], [7, 8, 9]]), index= [2.5, 12.6, 4.8], columns=[48, 49, 50])\n",
    "\n",
    "# There's no index labeled `2`, so you will change the index at position `2`\n",
    "df.ix[2] = [60, 50, 40]\n",
    "print(df)\n",
    "\n",
    "# This will make an index labeled `2` and add the new values\n",
    "df.loc[2] = [11, 12, 13]\n",
    "print(df)"
   ]
  },
  {
   "cell_type": "code",
   "execution_count": 42,
   "metadata": {},
   "outputs": [
    {
     "name": "stdout",
     "output_type": "stream",
     "text": [
      "   A  B  C  D\n",
      "0  1  2  3  0\n",
      "1  4  5  6  1\n",
      "2  7  8  9  2\n"
     ]
    }
   ],
   "source": [
    "df = pd.DataFrame(data=np.array([[1, 2, 3], [4, 5, 6], [7, 8, 9]]), columns=['A', 'B', 'C'])\n",
    "\n",
    "# Use `.index`\n",
    "df['D'] = df.index\n",
    "\n",
    "# Print `df`\n",
    "print(df)"
   ]
  },
  {
   "cell_type": "code",
   "execution_count": 62,
   "metadata": {},
   "outputs": [
    {
     "name": "stdout",
     "output_type": "stream",
     "text": [
      "   A  B  C\n",
      "0  1  2  3\n",
      "1  4  5  6\n",
      "2  7  8  9\n",
      "   A  B  C\n",
      "0  1  2  9\n",
      "1  4  5  9\n",
      "2  7  8  9\n"
     ]
    }
   ],
   "source": [
    "df = pd.DataFrame(data=np.array([[1, 2, 3], [4, 5, 6], [7, 8, 9]]), columns=['A', 'B', 'C'])\n",
    "# Study the DataFrame `df`\n",
    "print(df)\n",
    "\n",
    "# Append a column to `df`\n",
    "df.loc[:, 2] = pd.Series(['9', '9', '9'], index=df.index)\n",
    "print (df)"
   ]
  },
  {
   "cell_type": "code",
   "execution_count": 63,
   "metadata": {},
   "outputs": [
    {
     "name": "stdout",
     "output_type": "stream",
     "text": [
      "   A  B  C\n",
      "0  1  2  9\n",
      "1  4  5  9\n",
      "2  7  8  9\n",
      "   A  B  C\n",
      "0  1  2  9\n",
      "1  4  5  9\n",
      "2  7  8  9\n"
     ]
    }
   ],
   "source": [
    "# Check out the weird index of your dataframe\n",
    "print(df)\n",
    "\n",
    "# Use `reset_index()` to reset the values. \n",
    "df.reset_index(level=0, drop=True)\n",
    "print (df)"
   ]
  }
 ],
 "metadata": {
  "kernelspec": {
   "display_name": "Python 2",
   "language": "python",
   "name": "python2"
  },
  "language_info": {
   "codemirror_mode": {
    "name": "ipython",
    "version": 2.0
   },
   "file_extension": ".py",
   "mimetype": "text/x-python",
   "name": "python",
   "nbconvert_exporter": "python",
   "pygments_lexer": "ipython2",
   "version": "2.7.13"
  }
 },
 "nbformat": 4,
 "nbformat_minor": 1
}