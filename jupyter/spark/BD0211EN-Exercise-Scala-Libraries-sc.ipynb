{
 "cells": [
  {
   "cell_type": "markdown",
   "metadata": {
    "deletable": true,
    "editable": true
   },
   "source": [
    "<a href=\"https://cognitiveclass.ai\"><img src = \"https://ibm.box.com/shared/static/9gegpsmnsoo25ikkbl4qzlvlyjbgxs5x.png\" width = 400> </a>"
   ]
  },
  {
   "cell_type": "markdown",
   "metadata": {
    "deletable": true,
    "editable": true
   },
   "source": [
    "<h1 align = \"center\"> Spark Fundamentals I - Introduction to Spark</h1>\n",
    "<h2 align = \"center\"> Scala - Working with Scala Libraries</h2>\n",
    "<br align = \"left\">\n",
    "\n",
    "**Related free online courses:**\n",
    "\n",
    "Related courses can be found in the following learning paths:\n",
    "\n",
    "- [Spark Fundamentals path](http://cocl.us/Spark_Fundamentals_Path)\n",
    "- [Big Data Fundamentals path](http://cocl.us/Big_Data_Fundamentals_Path)\n",
    "\n",
    "<img src = \"http://spark.apache.org/images/spark-logo.png\", height = 100, align = 'left'>"
   ]
  },
  {
   "cell_type": "markdown",
   "metadata": {
    "deletable": true,
    "editable": true
   },
   "source": [
    "## Creating a Spark application using Spark SQL\n",
    "\n",
    "Spark SQL provides the ability to write relational queries to be run on Spark. There is the abstraction SchemaRDD which is to create an RDD in which you can run SQL, HiveQL, and Scala. In this lab section, you will use SQL to find out the average weather and precipitation for a given time period in New York. The purpose is to demonstrate how to use the Spark SQL libraries on Spark.\n",
    "\n",
    "### Please note that in Spark 1.3 DataFrames have replaced schemaRDDs however, it is still possible to switch between the two for supporting legacy systems. DataFrames is the recommended method going forward"
   ]
  },
  {
   "cell_type": "markdown",
   "metadata": {},
   "source": [
    "### Let's first download the data that we will be working with in this lab"
   ]
  },
  {
   "cell_type": "code",
   "execution_count": 1,
   "metadata": {
    "collapsed": true
   },
   "outputs": [],
   "source": [
    "// download module to run shell commands within this notebook\n",
    "import sys.process._"
   ]
  },
  {
   "cell_type": "code",
   "execution_count": 2,
   "metadata": {
    "collapsed": false
   },
   "outputs": [],
   "source": [
    "// download data from IBM Servier\n",
    "// this may take ~30 seconds depending on your internet speed\n",
    "\"wget --quiet https://ibm.box.com/shared/static/j8skrriqeqw66f51iyz911zyqai64j2g.zip\" !\n",
    "println(\"Data Downloaded!\")"
   ]
  },
  {
   "cell_type": "markdown",
   "metadata": {},
   "source": [
    "Let's unzip the data that we just downloaded into a directory dedicated for this course. Let's choose the directory **/resources/jupyter/labs/BD0211EN/**."
   ]
  },
  {
   "cell_type": "code",
   "execution_count": 3,
   "metadata": {
    "collapsed": false
   },
   "outputs": [
    {
     "name": "stdout",
     "output_type": "stream",
     "text": [
      "Data Extracted!\n"
     ]
    }
   ],
   "source": [
    "// unzip the folder's content into \"resources\" directory\n",
    "\"unzip -q -o -d /resources/jupyter/labs/BD0211EN/ j8skrriqeqw66f51iyz911zyqai64j2g.zip\" !\n",
    "println(\"Data Extracted!\")"
   ]
  },
  {
   "cell_type": "markdown",
   "metadata": {},
   "source": [
    "The data is in a folder called **LabData**. Let's list all the files in the data that we just downloaded and extracted."
   ]
  },
  {
   "cell_type": "code",
   "execution_count": 4,
   "metadata": {
    "collapsed": false
   },
   "outputs": [
    {
     "name": "stdout",
     "output_type": "stream",
     "text": [
      "followers.txt\n",
      "notebook.log\n",
      "nyctaxi100.csv\n",
      "nyctaxi.csv\n",
      "nyctaxisub.csv\n",
      "nycweather.csv\n",
      "pom.xml\n",
      "README.md\n",
      "taxistreams.py\n",
      "users.txt\n"
     ]
    }
   ],
   "source": [
    "// list the extracted files\n",
    "\"ls -1 /resources/jupyter/labs/BD0211EN/LabData/\" !"
   ]
  },
  {
   "cell_type": "markdown",
   "metadata": {},
   "source": [
    "Let's take a look at the nycweather data. So run the following code:"
   ]
  },
  {
   "cell_type": "code",
   "execution_count": 5,
   "metadata": {
    "collapsed": false,
    "deletable": true,
    "editable": true
   },
   "outputs": [
    {
     "name": "stdout",
     "output_type": "stream",
     "text": [
      "\"2013-01-01\",1,0\n",
      "\"2013-01-02\",-2,0\n",
      "\"2013-01-03\",-2,0\n",
      "\"2013-01-04\",1,0\n",
      "\"2013-01-05\",3,0\n",
      "\"2013-01-06\",4,0\n",
      "\"2013-01-07\",5,0\n",
      "\"2013-01-08\",6,0\n",
      "\"2013-01-09\",7,0\n",
      "\"2013-01-10\",7,0\n",
      "\"2013-01-11\",6,13.97\n",
      "\"2013-01-12\",7,0.51\n",
      "\"2013-01-13\",8,0\n",
      "\"2013-01-14\",8,2.29\n",
      "\"2013-01-15\",3,3.05\n",
      "\"2013-01-16\",2,17.53\n",
      "\"2013-01-17\",4,0\n",
      "\"2013-01-18\",-1,0\n",
      "\"2013-01-19\",5,0\n",
      "\"2013-01-20\",6,0\n",
      "\"2013-01-21\",-2,0\n",
      "\"2013-01-22\",-7,0\n",
      "\"2013-01-23\",-9,0\n",
      "\"2013-01-24\",-8,0\n",
      "\"2013-01-25\",-7,1.78\n",
      "\"2013-01-26\",-6,0\n",
      "\"2013-01-27\",-3,0\n",
      "\"2013-01-28\",1,5.59\n",
      "\"2013-01-29\",6,1.52\n",
      "\"2013-01-30\",9,1.02\n",
      "\"2013-01-31\",8,22.86\n",
      "\"2013-02-01\",-2,0\n",
      "\"2013-02-02\",-4,0.51\n",
      "\"2013-02-03\",-3,0.51\n",
      "\"2013-02-04\",-3,0\n",
      "\"2013-02-05\",-1,0.51\n",
      "\"2013-02-06\",1,0\n",
      "\"2013-02-07\",-2,0\n",
      "\"2013-02-08\",-1,29.21\n",
      "\"2013-02-09\",-3,9.65\n",
      "\"2013-02-10\",-3,0\n",
      "\"2013-02-11\",4,12.45\n",
      "\"2013-02-12\",4,0\n",
      "\"2013-02-13\",4,0.76\n",
      "\"2013-02-14\",4,0\n",
      "\"2013-02-15\",8,0\n",
      "\"2013-02-16\",2,0.51\n",
      "\"2013-02-17\",-4,0\n",
      "\"2013-02-18\",-3,0\n",
      "\"2013-02-19\",5,3.81\n",
      "\"2013-02-20\",0,0\n",
      "\"2013-02-21\",-2,0\n",
      "\"2013-02-22\",0,0\n",
      "\"2013-02-23\",4,6.6\n",
      "\"2013-02-24\",5,0.25\n",
      "\"2013-02-25\",4,0\n",
      "\"2013-02-26\",4,3.56\n",
      "\"2013-02-27\",6,39.62\n",
      "\"2013-02-28\",7,0\n",
      "\"2013-03-01\",5,0\n",
      "\"2013-03-02\",2,0\n",
      "\"2013-03-03\",2,0\n",
      "\"2013-03-04\",2,0\n",
      "\"2013-03-05\",4,0\n",
      "\"2013-03-06\",4,0\n",
      "\"2013-03-07\",2,4.83\n",
      "\"2013-03-08\",3,14.22\n",
      "\"2013-03-09\",7,0\n",
      "\"2013-03-10\",6,0\n",
      "\"2013-03-11\",8,0\n",
      "\"2013-03-12\",10,20.07\n",
      "\"2013-03-13\",7,0\n",
      "\"2013-03-14\",2,0\n",
      "\"2013-03-15\",4,0\n",
      "\"2013-03-16\",3,3.05\n",
      "\"2013-03-17\",1,0\n",
      "\"2013-03-18\",0,15.24\n",
      "\"2013-03-19\",3,9.14\n",
      "\"2013-03-20\",4,0\n",
      "\"2013-03-21\",2,0\n",
      "\"2013-03-22\",2,0\n",
      "\"2013-03-23\",4,0\n",
      "\"2013-03-24\",4,0\n",
      "\"2013-03-25\",3,4.32\n",
      "\"2013-03-26\",7,0\n",
      "\"2013-03-27\",7,0\n",
      "\"2013-03-28\",7,0\n",
      "\"2013-03-29\",9,0\n",
      "\"2013-03-30\",10,0\n",
      "\"2013-03-31\",9,2.03\n",
      "\"2013-04-01\",10,0\n",
      "\"2013-04-02\",3,0\n",
      "\"2013-04-03\",4,0\n",
      "\"2013-04-04\",6,0\n",
      "\"2013-04-05\",12,0\n",
      "\"2013-04-06\",7,0\n",
      "\"2013-04-07\",9,0\n",
      "\"2013-04-08\",17,0\n",
      "\"2013-04-09\",19,0\n",
      "\"2013-04-10\",18,12.45\n",
      "\"2013-04-11\",12,0\n",
      "\"2013-04-12\",7,16\n",
      "\"2013-04-13\",10,0.25\n",
      "\"2013-04-14\",11,0\n",
      "\"2013-04-15\",11,0\n",
      "\"2013-04-16\",13,0\n",
      "\"2013-04-17\",17,0.51\n",
      "\"2013-04-18\",13,0.25\n",
      "\"2013-04-19\",17,1.27\n",
      "\"2013-04-20\",11,1.52\n",
      "\"2013-04-21\",8,0\n",
      "\"2013-04-22\",9,0\n",
      "\"2013-04-23\",8,0\n",
      "\"2013-04-24\",14,0\n",
      "\"2013-04-25\",13,0\n",
      "\"2013-04-26\",15,0\n",
      "\"2013-04-27\",16,0\n",
      "\"2013-04-28\",16,0\n",
      "\"2013-04-29\",13,1.02\n",
      "\"2013-04-30\",16,0\n",
      "\"2013-05-01\",14,0\n",
      "\"2013-05-02\",16,0\n",
      "\"2013-05-03\",14,0\n",
      "\"2013-05-04\",15,0\n",
      "\"2013-05-05\",13,0\n",
      "\"2013-05-06\",14,0\n",
      "\"2013-05-07\",17,0\n",
      "\"2013-05-08\",15,76.71\n",
      "\"2013-05-09\",16,12.7\n",
      "\"2013-05-10\",21,0.25\n",
      "\"2013-05-11\",19,27.69\n",
      "\"2013-05-12\",16,0\n",
      "\"2013-05-13\",11,0\n",
      "\"2013-05-14\",11,0\n",
      "\"2013-05-15\",17,0\n",
      "\"2013-05-16\",22,0\n",
      "\"2013-05-17\",18,0\n",
      "\"2013-05-18\",16,0.25\n",
      "\"2013-05-19\",14,15.24\n",
      "\"2013-05-20\",21,0\n",
      "\"2013-05-21\",25,0\n",
      "\"2013-05-22\",21,0\n",
      "\"2013-05-23\",22,45.97\n",
      "\"2013-05-24\",13,7.62\n",
      "\"2013-05-25\",10,3.56\n",
      "\"2013-05-26\",14,0\n",
      "\"2013-05-27\",17,0\n",
      "\"2013-05-28\",17,13.21\n",
      "\"2013-05-29\",21,0\n",
      "\"2013-05-30\",27,0\n",
      "\"2013-05-31\",28,0\n",
      "\"2013-06-01\",28,0\n",
      "\"2013-06-02\",26,21.59\n",
      "\"2013-06-03\",22,22.1\n",
      "\"2013-06-04\",19,0\n",
      "\"2013-06-05\",19,0\n",
      "\"2013-06-06\",18,3.3\n",
      "\"2013-06-07\",16,105.66\n",
      "\"2013-06-08\",19,12.19\n",
      "\"2013-06-09\",22,0\n",
      "\"2013-06-10\",19,35.05\n",
      "\"2013-06-11\",22,2.29\n",
      "\"2013-06-12\",22,0\n",
      "\"2013-06-13\",17,32\n",
      "\"2013-06-14\",17,9.65\n",
      "\"2013-06-15\",22,0\n",
      "\"2013-06-16\",23,0\n",
      "\"2013-06-17\",25,0.25\n",
      "\"2013-06-18\",23,4.83\n",
      "\"2013-06-19\",20,0.25\n",
      "\"2013-06-20\",22,0\n",
      "\"2013-06-21\",23,0\n",
      "\"2013-06-22\",24,0\n",
      "\"2013-06-23\",26,0\n",
      "\"2013-06-24\",28,0\n",
      "\"2013-06-25\",28,0\n",
      "\"2013-06-26\",27,1.27\n",
      "\"2013-06-27\",27,6.1\n",
      "\"2013-06-28\",26,0\n",
      "\"2013-06-29\",25,0\n",
      "\"2013-06-30\",27,0\n",
      "\"2013-07-01\",24,21.34\n",
      "\"2013-07-02\",25,2.03\n",
      "\"2013-07-03\",26,13.46\n",
      "\"2013-07-04\",27,0\n",
      "\"2013-07-05\",28,0\n",
      "\"2013-07-06\",29,0\n",
      "\"2013-07-07\",29,0\n",
      "\"2013-07-08\",27,5.59\n",
      "\"2013-07-09\",27,5.84\n",
      "\"2013-07-10\",27,0\n",
      "\"2013-07-11\",27,0\n",
      "\"2013-07-12\",23,6.35\n",
      "\"2013-07-13\",23,1.52\n",
      "\"2013-07-14\",28,0\n",
      "\"2013-07-15\",30,0\n",
      "\"2013-07-16\",30,0\n",
      "\"2013-07-17\",31,0\n",
      "\"2013-07-18\",32,0\n",
      "\"2013-07-19\",32,0\n",
      "\"2013-07-20\",31,0\n",
      "\"2013-07-21\",28,0\n",
      "\"2013-07-22\",27,1.52\n",
      "\"2013-07-23\",27,7.87\n",
      "\"2013-07-24\",24,0\n",
      "\"2013-07-25\",19,0.25\n",
      "\"2013-07-26\",23,0\n",
      "\"2013-07-27\",24,0\n",
      "\"2013-07-28\",23,6.1\n",
      "\"2013-07-29\",25,0.25\n",
      "\"2013-07-30\",24,0\n",
      "\"2013-07-31\",24,0\n",
      "\"2013-08-01\",22,16.51\n",
      "\"2013-08-02\",24,0\n",
      "\"2013-08-03\",23,1.52\n",
      "\"2013-08-04\",23,0\n",
      "\"2013-08-05\",21,0\n",
      "\"2013-08-06\",23,0\n",
      "\"2013-08-07\",24,0\n",
      "\"2013-08-08\",24,11.68\n",
      "\"2013-08-09\",27,1.27\n",
      "\"2013-08-10\",25,0\n",
      "\"2013-08-11\",23,0\n",
      "\"2013-08-12\",24,1.27\n",
      "\"2013-08-13\",23,21.59\n",
      "\"2013-08-14\",20,0\n",
      "\"2013-08-15\",21,0\n",
      "\"2013-08-16\",23,0\n",
      "\"2013-08-17\",23,0\n",
      "\"2013-08-18\",22,0\n",
      "\"2013-08-19\",23,0\n",
      "\"2013-08-20\",26,0\n",
      "\"2013-08-21\",27,0\n",
      "\"2013-08-22\",24,6.35\n",
      "\"2013-08-23\",25,0\n",
      "\"2013-08-24\",23,0\n",
      "\"2013-08-25\",23,0\n",
      "\"2013-08-26\",24,1.02\n",
      "\"2013-08-27\",26,0.25\n",
      "\"2013-08-28\",26,10.92\n",
      "\"2013-08-29\",24,0\n",
      "\"2013-08-30\",26,0\n",
      "\"2013-08-31\",27,0\n",
      "\"2013-09-01\",27,0\n",
      "\"2013-09-02\",26,1.27\n",
      "\"2013-09-03\",24,0.76\n",
      "\"2013-09-04\",23,0\n",
      "\"2013-09-05\",22,0\n",
      "\"2013-09-06\",18,0\n",
      "\"2013-09-07\",21,0\n",
      "\"2013-09-08\",23,0\n",
      "\"2013-09-09\",18,0\n",
      "\"2013-09-10\",26,0.25\n",
      "\"2013-09-11\",31,0\n",
      "\"2013-09-12\",26,40.64\n",
      "\"2013-09-13\",20,1.52\n",
      "\"2013-09-14\",16,0\n",
      "\"2013-09-15\",17,0\n",
      "\"2013-09-16\",18,0.76\n",
      "\"2013-09-17\",14,0\n",
      "\"2013-09-18\",17,0\n",
      "\"2013-09-19\",19,0\n",
      "\"2013-09-20\",21,0\n",
      "\"2013-09-21\",21,18.29\n",
      "\"2013-09-22\",17,11.43\n",
      "\"2013-09-23\",14,0\n",
      "\"2013-09-24\",16,0\n",
      "\"2013-09-25\",17,0\n",
      "\"2013-09-26\",18,0\n",
      "\"2013-09-27\",17,0\n",
      "\"2013-09-28\",18,0\n",
      "\"2013-09-29\",18,0\n",
      "\"2013-09-30\",19,0\n",
      "\"2013-10-01\",22,0\n",
      "\"2013-10-02\",23,0\n",
      "\"2013-10-03\",22,0\n",
      "\"2013-10-04\",24,0\n",
      "\"2013-10-05\",21,0\n",
      "\"2013-10-06\",20,0\n",
      "\"2013-10-07\",20,6.35\n",
      "\"2013-10-08\",16,0\n",
      "\"2013-10-09\",14,0\n",
      "\"2013-10-10\",16,0\n",
      "\"2013-10-11\",18,0.51\n",
      "\"2013-10-12\",19,0\n",
      "\"2013-10-13\",16,0\n",
      "\"2013-10-14\",15,0\n",
      "\"2013-10-15\",17,0\n",
      "\"2013-10-16\",17,0\n",
      "\"2013-10-17\",19,0.51\n",
      "\"2013-10-18\",17,0\n",
      "\"2013-10-19\",14,0.25\n",
      "\"2013-10-20\",14,0\n",
      "\"2013-10-21\",14,0\n",
      "\"2013-10-22\",15,0\n",
      "\"2013-10-23\",10,0\n",
      "\"2013-10-24\",9,0\n",
      "\"2013-10-25\",8,0\n",
      "\"2013-10-26\",9,0\n",
      "\"2013-10-27\",11,0\n",
      "\"2013-10-28\",11,0\n",
      "\"2013-10-29\",10,0\n",
      "\"2013-10-30\",12,0\n",
      "\"2013-10-31\",16,1.52\n",
      "\"2013-11-01\",18,3.3\n",
      "\"2013-11-02\",17,0\n",
      "\"2013-11-03\",8,0\n",
      "\"2013-11-04\",5,0\n",
      "\"2013-11-05\",9,0\n",
      "\"2013-11-06\",13,0\n",
      "\"2013-11-07\",12,3.3\n",
      "\"2013-11-08\",7,0\n",
      "\"2013-11-09\",7,0\n",
      "\"2013-11-10\",12,0\n",
      "\"2013-11-11\",9,0\n",
      "\"2013-11-12\",6,0.76\n",
      "\"2013-11-13\",1,0\n",
      "\"2013-11-14\",6,0\n",
      "\"2013-11-15\",11,0\n",
      "\"2013-11-16\",12,1.27\n",
      "\"2013-11-17\",13,0.76\n",
      "\"2013-11-18\",14,5.59\n",
      "\"2013-11-19\",7,0\n",
      "\"2013-11-20\",3,0\n",
      "\"2013-11-21\",7,0\n",
      "\"2013-11-22\",12,1.78\n",
      "\"2013-11-23\",6,0\n",
      "\"2013-11-24\",-3,0\n",
      "\"2013-11-25\",-2,0\n",
      "\"2013-11-26\",4,12.95\n",
      "\"2013-11-27\",9,50.29\n",
      "\"2013-11-28\",1,0\n",
      "\"2013-11-29\",1,0\n",
      "\"2013-11-30\",0,0\n",
      "\"2013-12-01\",6,0\n",
      "\"2013-12-02\",7,0\n",
      "\"2013-12-03\",8,0\n",
      "\"2013-12-04\",8,0\n",
      "\"2013-12-05\",12,0.25\n",
      "\"2013-12-06\",10,18.54\n",
      "\"2013-12-07\",3,3.56\n",
      "\"2013-12-08\",-1,2.03\n",
      "\"2013-12-09\",2,7.62\n",
      "\"2013-12-10\",1,5.84\n",
      "\"2013-12-11\",-1,0\n",
      "\"2013-12-12\",-3,0\n",
      "\"2013-12-13\",-2,0\n",
      "\"2013-12-14\",-2,18.54\n",
      "\"2013-12-15\",2,18.29\n",
      "\"2013-12-16\",-2,0\n",
      "\"2013-12-17\",-2,4.83\n",
      "\"2013-12-18\",-1,0\n",
      "\"2013-12-19\",4,0\n",
      "\"2013-12-20\",8,0\n",
      "\"2013-12-21\",14,0.25\n",
      "\"2013-12-22\",19,0\n",
      "\n"
     ]
    }
   ],
   "source": [
    "val lines = scala.io.Source.fromFile(\"/resources/jupyter/labs/BD0211EN/LabData/nycweather.csv\").mkString\n",
    "println(lines)"
   ]
  },
  {
   "cell_type": "markdown",
   "metadata": {
    "deletable": true,
    "editable": true
   },
   "source": [
    "There are three columns in the dataset, the date, the mean temperature in Celsius, and the precipitation for the day. Since we already know the schema, we will infer the schema using reflection.\n",
    "\n",
    "You will first need to define the SparkSQL context. Do so by creating it from an existing SparkContext. Type in:"
   ]
  },
  {
   "cell_type": "code",
   "execution_count": 6,
   "metadata": {
    "collapsed": false,
    "deletable": true,
    "editable": true
   },
   "outputs": [],
   "source": [
    "val sqlContext = new org.apache.spark.sql.SQLContext(sc)"
   ]
  },
  {
   "cell_type": "markdown",
   "metadata": {
    "deletable": true,
    "editable": true
   },
   "source": [
    "Next, you need to import a library for creating a SchemaRDD. Type this:"
   ]
  },
  {
   "cell_type": "code",
   "execution_count": 7,
   "metadata": {
    "collapsed": false,
    "deletable": true,
    "editable": true
   },
   "outputs": [],
   "source": [
    "import sqlContext.implicits._"
   ]
  },
  {
   "cell_type": "markdown",
   "metadata": {
    "deletable": true,
    "editable": true
   },
   "source": [
    "Create a case class in Scala that defines the schema of the table. Type in:"
   ]
  },
  {
   "cell_type": "code",
   "execution_count": 8,
   "metadata": {
    "collapsed": true,
    "deletable": true,
    "editable": true
   },
   "outputs": [],
   "source": [
    "case class Weather(date: String, temp: Int, precipitation: Double)"
   ]
  },
  {
   "cell_type": "markdown",
   "metadata": {
    "deletable": true,
    "editable": true
   },
   "source": [
    "Create the RDD of the Weather object:"
   ]
  },
  {
   "cell_type": "code",
   "execution_count": 11,
   "metadata": {
    "collapsed": false,
    "deletable": true,
    "editable": true
   },
   "outputs": [],
   "source": [
    "val weather = sc.textFile(\"/resources/jupyter/labs/BD0211EN/LabData/nycweather.csv\").map(_.split(\",\")). map(w => Weather(w(0), w(1).trim.toInt, w(2).trim.toDouble)).toDF()\n"
   ]
  },
  {
   "cell_type": "markdown",
   "metadata": {
    "deletable": true,
    "editable": true
   },
   "source": [
    "You first load in the file, and then you map it by splitting it up by the commas and then another mapping to get it into the Weather class.\n",
    "\n",
    "Next you need to register the RDD as a table. Type in:"
   ]
  },
  {
   "cell_type": "code",
   "execution_count": 12,
   "metadata": {
    "collapsed": false,
    "deletable": true,
    "editable": true
   },
   "outputs": [],
   "source": [
    "weather.registerTempTable(\"weather\")"
   ]
  },
  {
   "cell_type": "markdown",
   "metadata": {
    "deletable": true,
    "editable": true
   },
   "source": [
    "At this point, you are ready to create and run some queries on the RDD. You want to get a list of the hottest dates with some precipitation. Type in:"
   ]
  },
  {
   "cell_type": "code",
   "execution_count": 13,
   "metadata": {
    "collapsed": false,
    "deletable": true,
    "editable": true
   },
   "outputs": [
    {
     "data": {
      "text/plain": [
       "Array([\"2013-06-26\",27,1.27], [\"2013-06-27\",27,6.1], [\"2013-07-08\",27,5.59], [\"2013-07-09\",27,5.84], [\"2013-07-22\",27,1.52], [\"2013-07-23\",27,7.87], [\"2013-08-09\",27,1.27], [\"2013-06-02\",26,21.59], [\"2013-07-03\",26,13.46], [\"2013-08-27\",26,0.25], [\"2013-08-28\",26,10.92], [\"2013-09-02\",26,1.27], [\"2013-09-10\",26,0.25], [\"2013-09-12\",26,40.64], [\"2013-06-17\",25,0.25], [\"2013-07-02\",25,2.03], [\"2013-07-29\",25,0.25], [\"2013-07-01\",24,21.34], [\"2013-08-08\",24,11.68], [\"2013-08-12\",24,1.27], [\"2013-08-22\",24,6.35], [\"2013-08-26\",24,1.02], [\"2013-09-03\",24,0.76], [\"2013-06-18\",23,4.83], [\"2013-07-12\",23,6.35], [\"2013-07-13\",23,1.52], [\"2013-07-28\",23,6.1], [\"2013-08-03\",23,1.52], [\"2013-08-13\",23,21.59], [\"2013-05-23\",22,45.97], [\"2013-06-03\",22,22.1], ..."
      ]
     },
     "execution_count": 13,
     "metadata": {},
     "output_type": "execute_result"
    }
   ],
   "source": [
    "val hottest_with_precip = sqlContext.sql(\"SELECT * FROM weather WHERE precipitation > 0.0 ORDER BY temp DESC\")\n",
    "\n",
    "hottest_with_precip.collect()"
   ]
  },
  {
   "cell_type": "markdown",
   "metadata": {
    "deletable": true,
    "editable": true
   },
   "source": [
    "Normal RDD operations will work. Print the top hottest days with some precipitation out to the console:"
   ]
  },
  {
   "cell_type": "code",
   "execution_count": 14,
   "metadata": {
    "collapsed": false,
    "deletable": true,
    "editable": true
   },
   "outputs": [
    {
     "name": "stdout",
     "output_type": "stream",
     "text": [
      "(Date: \"2013-12-21\",Temp : 14,Precip: 0.25)\n",
      "(Date: \"2013-12-17\",Temp : -2,Precip: 4.83)\n",
      "(Date: \"2013-12-15\",Temp : 2,Precip: 18.29)\n",
      "(Date: \"2013-12-14\",Temp : -2,Precip: 18.54)\n",
      "(Date: \"2013-12-10\",Temp : 1,Precip: 5.84)\n",
      "(Date: \"2013-12-09\",Temp : 2,Precip: 7.62)\n",
      "(Date: \"2013-12-08\",Temp : -1,Precip: 2.03)\n",
      "(Date: \"2013-12-07\",Temp : 3,Precip: 3.56)\n",
      "(Date: \"2013-12-06\",Temp : 10,Precip: 18.54)\n",
      "(Date: \"2013-12-05\",Temp : 12,Precip: 0.25)\n"
     ]
    }
   ],
   "source": [
    "hottest_with_precip.map(x => (\"Date: \" + x(0), \"Temp : \" + x(1), \"Precip: \" + x(2))).top(10).foreach(println)"
   ]
  },
  {
   "cell_type": "markdown",
   "metadata": {
    "deletable": true,
    "editable": true
   },
   "source": [
    "## Creating a Spark application using MLlib\n",
    "\n",
    "In this section, Spark will be used to acquire the K-Means clustering for drop-off latitudes and longitudes of taxis for 3 clusters. The sample data contains a subset of taxi trips with hack license, medallion, pickup date/time, drop off date/time, pickup/drop off latitude/longitude, passenger count, trip distance, trip time and other information. As such, this may give a good indication of where to best to hail a cab.\n",
    "\n",
    "Remember, this is only a subset of the file that you used in a previous exercise. If you ran this exercise on the full dataset, it would take a long time as we are only running on a test environment with limited resources.\n",
    "\n",
    "Import the needed packages for K-Means algorithm and Vector packages:"
   ]
  },
  {
   "cell_type": "code",
   "execution_count": 15,
   "metadata": {
    "collapsed": true,
    "deletable": true,
    "editable": true
   },
   "outputs": [],
   "source": [
    "import org.apache.spark.mllib.clustering.KMeans\n",
    "import org.apache.spark.mllib.linalg.Vectors"
   ]
  },
  {
   "cell_type": "markdown",
   "metadata": {
    "deletable": true,
    "editable": true
   },
   "source": [
    "Create an RDD"
   ]
  },
  {
   "cell_type": "code",
   "execution_count": 16,
   "metadata": {
    "collapsed": true,
    "deletable": true,
    "editable": true
   },
   "outputs": [],
   "source": [
    "val taxiFile = sc.textFile(\"/resources/jupyter/labs/BD0211EN/LabData/nyctaxisub.csv\")"
   ]
  },
  {
   "cell_type": "markdown",
   "metadata": {
    "deletable": true,
    "editable": true
   },
   "source": [
    "Determine the number of rows in taxiFile."
   ]
  },
  {
   "cell_type": "code",
   "execution_count": 17,
   "metadata": {
    "collapsed": false,
    "deletable": true,
    "editable": true
   },
   "outputs": [
    {
     "data": {
      "text/plain": [
       "250000"
      ]
     },
     "execution_count": 17,
     "metadata": {},
     "output_type": "execute_result"
    }
   ],
   "source": [
    "taxiFile.count()"
   ]
  },
  {
   "cell_type": "markdown",
   "metadata": {
    "deletable": true,
    "editable": true
   },
   "source": [
    "Cleanse the data."
   ]
  },
  {
   "cell_type": "code",
   "execution_count": 18,
   "metadata": {
    "collapsed": true,
    "deletable": true,
    "editable": true
   },
   "outputs": [],
   "source": [
    "val taxiData=taxiFile.filter(_.contains(\"2013\")).\n",
    "    filter(_.split(\",\")(3)!=\"\" ).    //dropoff_latitude\n",
    "    filter(_.split(\",\")(4)!=\"\")      //dropoff_longitude"
   ]
  },
  {
   "cell_type": "markdown",
   "metadata": {
    "deletable": true,
    "editable": true
   },
   "source": [
    "The first filter limits the rows to those that occurred in the year 2013. This will also remove any header in the file. The third and fourth columns contain the drop off latitude and longitude. The transformation will throw exceptions if these values are empty.\n",
    "\n",
    "Do another count to see what was removed."
   ]
  },
  {
   "cell_type": "code",
   "execution_count": 19,
   "metadata": {
    "collapsed": false,
    "deletable": true,
    "editable": true
   },
   "outputs": [
    {
     "data": {
      "text/plain": [
       "249999"
      ]
     },
     "execution_count": 19,
     "metadata": {},
     "output_type": "execute_result"
    }
   ],
   "source": [
    "taxiData.count()"
   ]
  },
  {
   "cell_type": "markdown",
   "metadata": {
    "deletable": true,
    "editable": true
   },
   "source": [
    "In this case, if we had used the full set of data, it would have filtered out a great many more lines.\n",
    "\n",
    "To fence the area roughly to New York City use this command:"
   ]
  },
  {
   "cell_type": "code",
   "execution_count": 20,
   "metadata": {
    "collapsed": false,
    "deletable": true,
    "editable": true
   },
   "outputs": [],
   "source": [
    "val taxiFence=taxiData.\n",
    "    filter(_.split(\",\")(3).toDouble>40.70).\n",
    "    filter(_.split(\",\")(3).toDouble<40.86).\n",
    "    filter(_.split(\",\")(4).toDouble>(-74.02)).\n",
    "    filter(_.split(\",\")(4).toDouble<(-73.93))"
   ]
  },
  {
   "cell_type": "markdown",
   "metadata": {
    "deletable": true,
    "editable": true
   },
   "source": [
    "Determine how many are left in taxiFence:"
   ]
  },
  {
   "cell_type": "code",
   "execution_count": 21,
   "metadata": {
    "collapsed": false,
    "deletable": true,
    "editable": true
   },
   "outputs": [
    {
     "data": {
      "text/plain": [
       "206646"
      ]
     },
     "execution_count": 21,
     "metadata": {},
     "output_type": "execute_result"
    }
   ],
   "source": [
    "taxiFence.count()"
   ]
  },
  {
   "cell_type": "markdown",
   "metadata": {
    "deletable": true,
    "editable": true
   },
   "source": [
    "Approximately, 43,354 rows were dropped since these drop-off points are outside of New York City.\n",
    "\n",
    "Create Vectors with the latitudes and longitudes that will be used as input to the K-Means algorithm."
   ]
  },
  {
   "cell_type": "code",
   "execution_count": 23,
   "metadata": {
    "collapsed": true,
    "deletable": true,
    "editable": true
   },
   "outputs": [],
   "source": [
    "val taxi=taxiFence.\n",
    "    map{\n",
    "        line=>Vectors.dense(\n",
    "            line.split(',').slice(3,5).map(_ .toDouble)\n",
    "        )\n",
    "    }"
   ]
  },
  {
   "cell_type": "code",
   "execution_count": 24,
   "metadata": {
    "collapsed": false,
    "deletable": true,
    "editable": true
   },
   "outputs": [
    {
     "name": "stdout",
     "output_type": "stream",
     "text": [
      "(40.75703155351417,-73.98081909551594)\n",
      "(40.72485514327806,-73.99587153564757)\n",
      "(40.78713693572286,-73.95706839545623)\n"
     ]
    }
   ],
   "source": [
    "val iterationCount=10\n",
    "val clusterCount=3\n",
    "\n",
    "val model=KMeans.train(taxi,clusterCount,iterationCount)\n",
    "val clusterCenters=model.clusterCenters.map(_.toArray)\n",
    "\n",
    "clusterCenters.foreach(lines=>println(lines(0),lines(1)))"
   ]
  },
  {
   "cell_type": "markdown",
   "metadata": {
    "deletable": true,
    "editable": true
   },
   "source": [
    "Now we know the map co-ordinates. Not surprisingly, the second point is between the Theater District and Grand Central. The third point is in The Village, NYU, Soho and Little Italy area. The first point is the Upper East Side, presumably where people are more likely to take cabs than subways.\n",
    "\n"
   ]
  },
  {
   "cell_type": "markdown",
   "metadata": {
    "deletable": true,
    "editable": true
   },
   "source": [
    "## Creating a Spark application using Spark Streaming\n",
    "\n",
    "This section focuses on Spark Streams, an easy to build, scalable, stateful (e.g. sliding windows) stream processing library. Streaming jobs are written the same way Spark batch jobs are coded and support Java, Scala and Python. In this exercise, taxi trip data will be streamed using a socket connection and then analyzed to provide a summary of number of passengers by taxi vendor. This will be implemented in the Spark shell using Scala.\n",
    "\n",
    "There are two relevant files for this section. The first one is the nyctaxi100.csv which will serve as the source of the stream. The other file is a python file, taxistreams.py, which will feed the csv file through a socket connection to simulate a stream.\n",
    "\n",
    "### <span style=\"color: red\">IN ORDER TO START THE STREAM PLEASE OPEN A NEW PYTHON NOTEBOOK AND RUN THE CODE BELOW IN IT:</span> \n",
    "\n",
    "To open a new Python notebook click on the blue notebook button at the top right of this page, next to the search box. Choose PYTHON 3 and then copy and past the code below into the cell in the new Python notebook. Run the cell as normal. To interrupt the kernel hit the STOP button in the Action buttons above.\n",
    "\n",
    "```\n",
    "!python /resources/jupyter/labs/BD0211EN/LabData/taxistreams.py\n",
    "\n",
    "```\n",
    "\n",
    "Once started, the program will bind and listen to the localhost socket 7777. When a connection is made, it will read ‘nyctaxi100.csv’ and send across the socket. The sleep is set such that one line will be sent every 0.5 seconds, or 2 rows a second. This was intentionally set to a high value to make it easier to view the data during execution.\n",
    "\n",
    "Turn off logging so that you can see the output of the application and Import the required libraries:"
   ]
  },
  {
   "cell_type": "code",
   "execution_count": 3,
   "metadata": {
    "collapsed": true,
    "deletable": true,
    "editable": true
   },
   "outputs": [],
   "source": [
    "import org.apache.log4j.Logger\n",
    "import org.apache.log4j.Level\n",
    "Logger.getLogger(\"org\").setLevel(Level.OFF)\n",
    "Logger.getLogger(\"akka\").setLevel(Level.OFF)\n",
    "\n",
    "import org.apache.spark._\n",
    "import org.apache.spark.streaming._\n",
    "import org.apache.spark.streaming.StreamingContext._"
   ]
  },
  {
   "cell_type": "markdown",
   "metadata": {
    "deletable": true,
    "editable": true
   },
   "source": [
    "Create the StreamingContext by using the existing SparkContext (sc). It will be using a 1 second batch interval, which means the stream is divided to 1 second batches and each batch becomes a RDD. This is intentional to make it easier to read the data during execution."
   ]
  },
  {
   "cell_type": "code",
   "execution_count": 4,
   "metadata": {
    "collapsed": false,
    "deletable": true,
    "editable": true
   },
   "outputs": [],
   "source": [
    "val ssc = new StreamingContext(sc, Seconds(1))"
   ]
  },
  {
   "cell_type": "markdown",
   "metadata": {
    "deletable": true,
    "editable": true
   },
   "source": [
    "Create the socket stream that connects to the localhost socket 7777. This matches the port that the Python script is listening on. Each batch from the Stream be a lines RDD."
   ]
  },
  {
   "cell_type": "code",
   "execution_count": 6,
   "metadata": {
    "collapsed": true,
    "deletable": true,
    "editable": true
   },
   "outputs": [],
   "source": [
    "val lines = ssc.socketTextStream(\"localhost\", 7777)"
   ]
  },
  {
   "cell_type": "markdown",
   "metadata": {
    "deletable": true,
    "editable": true
   },
   "source": [
    "Next, put in the business logic to split up the lines on each comma and mapping pass(15), which is the vendor, and pass(7), which is the passenger count. Then this is reduced by key resulting in a summary of number of passengers by vendor."
   ]
  },
  {
   "cell_type": "code",
   "execution_count": 7,
   "metadata": {
    "collapsed": true,
    "deletable": true,
    "editable": true
   },
   "outputs": [],
   "source": [
    "val pass = lines.map(_.split(\",\")).\n",
    "    map(pass=>(pass(15), pass(7).toInt)).\n",
    "    reduceByKey(_+_)"
   ]
  },
  {
   "cell_type": "markdown",
   "metadata": {
    "deletable": true,
    "editable": true
   },
   "source": [
    "Print out to the console:"
   ]
  },
  {
   "cell_type": "code",
   "execution_count": 8,
   "metadata": {
    "collapsed": true,
    "deletable": true,
    "editable": true
   },
   "outputs": [],
   "source": [
    "pass.print()"
   ]
  },
  {
   "cell_type": "markdown",
   "metadata": {
    "deletable": true,
    "editable": true
   },
   "source": [
    "The next two line starts the stream. "
   ]
  },
  {
   "cell_type": "code",
   "execution_count": 9,
   "metadata": {
    "collapsed": false,
    "deletable": true,
    "editable": true
   },
   "outputs": [
    {
     "name": "stdout",
     "output_type": "stream",
     "text": [
      "-------------------------------------------\n",
      "Time: 1532834880000 ms\n",
      "-------------------------------------------\n",
      "\n",
      "-------------------------------------------\n",
      "Time: 1532834881000 ms\n",
      "-------------------------------------------\n",
      "\n",
      "-------------------------------------------\n",
      "Time: 1532834882000 ms\n",
      "-------------------------------------------\n",
      "\n",
      "-------------------------------------------\n",
      "Time: 1532834883000 ms\n",
      "-------------------------------------------\n",
      "\n"
     ]
    },
    {
     "data": {
      "text/plain": [
       "Name: java.lang.InterruptedException\n",
       "Message: null\n",
       "StackTrace: java.util.concurrent.locks.AbstractQueuedSynchronizer$ConditionObject.reportInterruptAfterWait(AbstractQueuedSynchronizer.java:2014)\n",
       "java.util.concurrent.locks.AbstractQueuedSynchronizer$ConditionObject.await(AbstractQueuedSynchronizer.java:2048)\n",
       "org.apache.spark.streaming.ContextWaiter.waitForStopOrError(ContextWaiter.scala:63)\n",
       "org.apache.spark.streaming.StreamingContext.awaitTermination(StreamingContext.scala:642)\n",
       "$line40.$read$$iwC$$iwC$$iwC$$iwC$$iwC$$iwC$$iwC$$iwC$$iwC$$iwC.<init>(<console>:34)\n",
       "$line40.$read$$iwC$$iwC$$iwC$$iwC$$iwC$$iwC$$iwC$$iwC$$iwC.<init>(<console>:39)\n",
       "$line40.$read$$iwC$$iwC$$iwC$$iwC$$iwC$$iwC$$iwC$$iwC.<init>(<console>:41)\n",
       "$line40.$read$$iwC$$iwC$$iwC$$iwC$$iwC$$iwC$$iwC.<init>(<console>:43)\n",
       "$line40.$read$$iwC$$iwC$$iwC$$iwC$$iwC$$iwC.<init>(<console>:45)\n",
       "$line40.$read$$iwC$$iwC$$iwC$$iwC$$iwC.<init>(<console>:47)\n",
       "$line40.$read$$iwC$$iwC$$iwC$$iwC.<init>(<console>:49)\n",
       "$line40.$read$$iwC$$iwC$$iwC.<init>(<console>:51)\n",
       "$line40.$read$$iwC$$iwC.<init>(<console>:53)\n",
       "$line40.$read$$iwC.<init>(<console>:55)\n",
       "$line40.$read.<init>(<console>:57)\n",
       "$line40.$read$.<init>(<console>:61)\n",
       "$line40.$read$.<clinit>(<console>)\n",
       "$line40.$eval$.<init>(<console>:7)\n",
       "$line40.$eval$.<clinit>(<console>)\n",
       "$line40.$eval.$print(<console>)\n",
       "sun.reflect.NativeMethodAccessorImpl.invoke0(Native Method)\n",
       "sun.reflect.NativeMethodAccessorImpl.invoke(NativeMethodAccessorImpl.java:62)\n",
       "sun.reflect.DelegatingMethodAccessorImpl.invoke(DelegatingMethodAccessorImpl.java:43)\n",
       "java.lang.reflect.Method.invoke(Method.java:498)\n",
       "org.apache.spark.repl.SparkIMain$ReadEvalPrint.call(SparkIMain.scala:1065)\n",
       "org.apache.spark.repl.SparkIMain$Request.loadAndRun(SparkIMain.scala:1346)\n",
       "org.apache.spark.repl.SparkIMain.loadAndRunReq$1(SparkIMain.scala:840)\n",
       "org.apache.spark.repl.SparkIMain.interpret(SparkIMain.scala:871)\n",
       "org.apache.spark.repl.SparkIMain.interpret(SparkIMain.scala:819)\n",
       "org.apache.toree.kernel.interpreter.scala.ScalaInterpreter$$anonfun$interpretAddTask$1$$anonfun$apply$3.apply(ScalaInterpreter.scala:361)\n",
       "org.apache.toree.kernel.interpreter.scala.ScalaInterpreter$$anonfun$interpretAddTask$1$$anonfun$apply$3.apply(ScalaInterpreter.scala:356)\n",
       "org.apache.toree.global.StreamState$.withStreams(StreamState.scala:81)\n",
       "org.apache.toree.kernel.interpreter.scala.ScalaInterpreter$$anonfun$interpretAddTask$1.apply(ScalaInterpreter.scala:355)\n",
       "org.apache.toree.kernel.interpreter.scala.ScalaInterpreter$$anonfun$interpretAddTask$1.apply(ScalaInterpreter.scala:355)\n",
       "org.apache.toree.utils.TaskManager$$anonfun$add$2$$anon$1.run(TaskManager.scala:140)\n",
       "java.util.concurrent.ThreadPoolExecutor.runWorker(ThreadPoolExecutor.java:1149)\n",
       "java.util.concurrent.ThreadPoolExecutor$Worker.run(ThreadPoolExecutor.java:624)\n",
       "java.lang.Thread.run(Thread.java:748)"
      ]
     },
     "execution_count": 9,
     "metadata": {},
     "output_type": "execute_result"
    }
   ],
   "source": [
    "ssc.start()\n",
    "ssc.awaitTermination()"
   ]
  },
  {
   "cell_type": "markdown",
   "metadata": {
    "deletable": true,
    "editable": true
   },
   "source": [
    "It will take a few cycles for the connection to be recognized, and then the data is sent. In this case, 2 rows per second of taxi trip data is receive in a 1 second batch interval.\n",
    "\n",
    "In the Python terminal, the contents of the file are printed as they are streamed.\n",
    "\n",
    "**Note: TO STOP THE STREAM PLEASE INTERRUPT THE KERNEL IN BOTH THE OTHER PYTHON NOTEBOOK AND THIS NOTEBOOK. THEN RESTART THIS NOTEBOOK'S KERNEL TO CONTINUE ONTO THE GRAPHX APPLICATION**\n",
    "\n",
    "This is just a simple example showing how you can take streaming data into Spark and do some type of processing on it. In the case here, the taxi and the number of passengers was extracted from the data stream."
   ]
  },
  {
   "cell_type": "markdown",
   "metadata": {
    "deletable": true,
    "editable": true
   },
   "source": [
    "## Creating a Spark application using GraphX\n",
    "\n",
    "Users.txt is a set of users and followers is the relationship between the users. Take a look at the contents of these two files."
   ]
  },
  {
   "cell_type": "code",
   "execution_count": 10,
   "metadata": {
    "collapsed": false,
    "deletable": true,
    "editable": true
   },
   "outputs": [
    {
     "name": "stdout",
     "output_type": "stream",
     "text": [
      "Users: \n",
      "1,BarackObama,Barack Obama\n",
      "2,ladygaga,Goddess of Love\n",
      "3,jeresig,John Resig\n",
      "4,justinbieber,Justin Bieber\n",
      "6,matei_zaharia,Matei Zaharia\n",
      "7,odersky,Martin Odersky\n",
      "8,anonsys\n",
      "\n",
      "Followers: \n",
      "2 1\n",
      "4 1\n",
      "1 2\n",
      "6 3\n",
      "7 3\n",
      "7 6\n",
      "6 7\n",
      "3 7\n",
      "\n"
     ]
    }
   ],
   "source": [
    "println(\"Users: \")\n",
    "println(scala.io.Source.fromFile(\"/resources/jupyter/labs/BD0211EN/LabData/users.txt\").mkString)\n",
    "\n",
    "println(\"Followers: \")\n",
    "println(scala.io.Source.fromFile(\"/resources/jupyter/labs/BD0211EN/LabData/followers.txt\").mkString)"
   ]
  },
  {
   "cell_type": "markdown",
   "metadata": {
    "deletable": true,
    "editable": true
   },
   "source": [
    "Import the GraphX package:"
   ]
  },
  {
   "cell_type": "code",
   "execution_count": 11,
   "metadata": {
    "collapsed": true,
    "deletable": true,
    "editable": true
   },
   "outputs": [],
   "source": [
    "import org.apache.spark.graphx._"
   ]
  },
  {
   "cell_type": "markdown",
   "metadata": {
    "deletable": true,
    "editable": true
   },
   "source": [
    "Create the users RDD and parse into tuples of user id and attribute list:"
   ]
  },
  {
   "cell_type": "code",
   "execution_count": 19,
   "metadata": {
    "collapsed": false,
    "deletable": true,
    "editable": true
   },
   "outputs": [
    {
     "name": "stdout",
     "output_type": "stream",
     "text": [
      "(1,[Ljava.lang.String;@3dda9edf)\n",
      "(2,[Ljava.lang.String;@2453670a)\n",
      "(3,[Ljava.lang.String;@62e1e727)\n",
      "(4,[Ljava.lang.String;@55f90c2c)\n",
      "(6,[Ljava.lang.String;@3c3c5c2a)\n"
     ]
    }
   ],
   "source": [
    "val users = (sc.textFile(\"/resources/jupyter/labs/BD0211EN/LabData/users.txt\").map(line => line.split(\",\")).map(parts => (parts.head.toLong, parts.tail)))\n",
    "\n",
    "users.take(5).foreach(println)"
   ]
  },
  {
   "cell_type": "markdown",
   "metadata": {
    "deletable": true,
    "editable": true
   },
   "source": [
    "Parse the edge data, which is already in userId -> userId format"
   ]
  },
  {
   "cell_type": "code",
   "execution_count": 20,
   "metadata": {
    "collapsed": false,
    "deletable": true,
    "editable": true
   },
   "outputs": [],
   "source": [
    "val followerGraph = GraphLoader.edgeListFile(sc, \"/resources/jupyter/labs/BD0211EN/LabData/followers.txt\")"
   ]
  },
  {
   "cell_type": "markdown",
   "metadata": {
    "deletable": true,
    "editable": true
   },
   "source": [
    "Attach the user attributes"
   ]
  },
  {
   "cell_type": "code",
   "execution_count": 21,
   "metadata": {
    "collapsed": true,
    "deletable": true,
    "editable": true
   },
   "outputs": [],
   "source": [
    "val graph = followerGraph.outerJoinVertices(users) {\n",
    "    case (uid, deg, Some(attrList)) => attrList\n",
    "    case (uid, deg, None) => Array.empty[String]\n",
    "}"
   ]
  },
  {
   "cell_type": "markdown",
   "metadata": {
    "deletable": true,
    "editable": true
   },
   "source": [
    "Restrict the graph to users with usernames and names:"
   ]
  },
  {
   "cell_type": "code",
   "execution_count": 15,
   "metadata": {
    "collapsed": true,
    "deletable": true,
    "editable": true
   },
   "outputs": [],
   "source": [
    "val subgraph = graph.subgraph(vpred = (vid, attr) => attr.size == 2)"
   ]
  },
  {
   "cell_type": "markdown",
   "metadata": {
    "deletable": true,
    "editable": true
   },
   "source": [
    "Compute the PageRank"
   ]
  },
  {
   "cell_type": "code",
   "execution_count": 16,
   "metadata": {
    "collapsed": false,
    "deletable": true,
    "editable": true
   },
   "outputs": [],
   "source": [
    "val pagerankGraph = subgraph.pageRank(0.001)"
   ]
  },
  {
   "cell_type": "markdown",
   "metadata": {
    "deletable": true,
    "editable": true
   },
   "source": [
    "Get the attributes of the top pagerank users"
   ]
  },
  {
   "cell_type": "code",
   "execution_count": 17,
   "metadata": {
    "collapsed": true,
    "deletable": true,
    "editable": true
   },
   "outputs": [],
   "source": [
    "val userInfoWithPageRank = subgraph.outerJoinVertices(pagerankGraph.vertices) {\n",
    "    case (uid, attrList, Some(pr)) => (pr, attrList.toList)\n",
    "    case (uid, attrList, None) => (0.0, attrList.toList)\n",
    "}"
   ]
  },
  {
   "cell_type": "markdown",
   "metadata": {
    "deletable": true,
    "editable": true
   },
   "source": [
    "Print the line out:"
   ]
  },
  {
   "cell_type": "code",
   "execution_count": 18,
   "metadata": {
    "collapsed": false,
    "deletable": true,
    "editable": true
   },
   "outputs": [
    {
     "name": "stdout",
     "output_type": "stream",
     "text": [
      "(1,(1.453834747463902,List(BarackObama, Barack Obama)))\n",
      "(2,(1.3857595353443166,List(ladygaga, Goddess of Love)))\n",
      "(7,(1.2892158818481694,List(odersky, Martin Odersky)))\n",
      "(3,(0.9936187772892124,List(jeresig, John Resig)))\n",
      "(6,(0.697916749785472,List(matei_zaharia, Matei Zaharia)))\n"
     ]
    }
   ],
   "source": [
    "println(userInfoWithPageRank.vertices.top(5)(Ordering.by(_._2._1)).mkString(\"\\n\"))"
   ]
  },
  {
   "cell_type": "markdown",
   "metadata": {},
   "source": [
    "<div class=\"alert alert-success alertsuccess\" style=\"margin-top: 20px\">\n",
    "**Tip**: Enjoyed using Jupyter notebooks with Spark? Get yourself a free \n",
    "    <a href=\"http://cocl.us/DSX_on_Cloud\">IBM Cloud</a> account where you can use Data Science Experience notebooks\n",
    "    and have *two* Spark executors for free!\n",
    "</div>"
   ]
  },
  {
   "cell_type": "markdown",
   "metadata": {
    "deletable": true,
    "editable": true
   },
   "source": [
    "## Summary\n",
    "\n",
    "Having completed this exercise, you should have some familiarity with using the Spark libraries. In particular, you use Spark SQL to effectively query data inside of Spark. You used Spark Streaming to process incoming streams of batch data. You used Spark's MLlib to compute the *k*-means algorithm to find the best place to hail a cab. Finally, you used Spark's GraphX library to perform and parallel graph calculations on a dataset to find the attributes of the top users."
   ]
  },
  {
   "cell_type": "markdown",
   "metadata": {
    "deletable": true,
    "editable": true
   },
   "source": [
    "This notebook is part of the free course on **Cognitive Class** called *Spark Fundamentals I*. If you accessed this notebook outside the course, you can take this free self-paced course, online by going to: http://cocl.us/Spark_Fundamentals_I"
   ]
  },
  {
   "cell_type": "markdown",
   "metadata": {
    "deletable": true,
    "editable": true
   },
   "source": [
    "### About the Authors:  \n",
    "Hi! It's [Alex Aklson](https://www.linkedin.com/in/aklson/), one of the authors of this notebook. I hope you found this lab educational! There is much more to learn about Spark but you are well on your way. Feel free to connect with me if you have any questions.\n",
    "<hr>"
   ]
  }
 ],
 "metadata": {
  "kernelspec": {
   "display_name": "Apache Toree - Scala",
   "language": "scala",
   "name": "apache_toree_scala"
  },
  "language_info": {
   "name": "scala",
   "version": "2.10.4"
  },
  "widgets": {
   "state": {},
   "version": "1.1.2"
  }
 },
 "nbformat": 4,
 "nbformat_minor": 0
}
