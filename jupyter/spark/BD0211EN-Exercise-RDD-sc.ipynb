{
 "cells": [
  {
   "cell_type": "markdown",
   "metadata": {
    "deletable": true,
    "editable": true
   },
   "source": [
    "<a href=\"https://cognitiveclass.ai\"><img src = \"https://ibm.box.com/shared/static/9gegpsmnsoo25ikkbl4qzlvlyjbgxs5x.png\" width = 400> </a>"
   ]
  },
  {
   "cell_type": "markdown",
   "metadata": {
    "deletable": true,
    "editable": true
   },
   "source": [
    "<h1 align = \"center\"> Spark Fundamentals I - Introduction to Spark </h1>\n",
    "<h2 align = \"center\"> Scala - Working with RDD operations </h2>\n",
    "<br align = \"left\">\n",
    "\n",
    "**Related free online courses:**  \n",
    "\n",
    "Related courses can be found in the following learning paths:\n",
    "\n",
    "- [Spark Fundamentals path](http://cocl.us/Spark_Fundamentals_Path)\n",
    "- [Big Data Fundamentals path](http://cocl.us/Big_Data_Fundamentals_Path)\n",
    "\n",
    "<img src = \"http://spark.apache.org/images/spark-logo.png\", height = 100, align = 'left'>"
   ]
  },
  {
   "cell_type": "markdown",
   "metadata": {
    "deletable": true,
    "editable": true
   },
   "source": [
    "### Starting with Spark using Scala"
   ]
  },
  {
   "cell_type": "markdown",
   "metadata": {},
   "source": [
    "### Run the following lines of code to get the data"
   ]
  },
  {
   "cell_type": "code",
   "execution_count": 1,
   "metadata": {
    "collapsed": false
   },
   "outputs": [],
   "source": [
    "// download the required module to run shell commands within the notebook\n",
    "import sys.process._"
   ]
  },
  {
   "cell_type": "code",
   "execution_count": 2,
   "metadata": {
    "collapsed": false
   },
   "outputs": [
    {
     "name": "stdout",
     "output_type": "stream",
     "text": [
      "Data Downloaded!\n"
     ]
    }
   ],
   "source": [
    "// download the data from the IBM Server\n",
    "// this may take ~30 seconds depending on your internet speed\n",
    "\"wget --quiet https://ibm.box.com/shared/static/j8skrriqeqw66f51iyz911zyqai64j2g.zip\" !\n",
    "println(\"Data Downloaded!\")"
   ]
  },
  {
   "cell_type": "markdown",
   "metadata": {},
   "source": [
    "Let's unzip the data that we just downloaded into a directory dedicated for this course. Let's choose the directory **/resources/jupyter/labs/BD0211EN/**."
   ]
  },
  {
   "cell_type": "code",
   "execution_count": 3,
   "metadata": {
    "collapsed": false
   },
   "outputs": [
    {
     "name": "stdout",
     "output_type": "stream",
     "text": [
      "Data Extracted!\n"
     ]
    }
   ],
   "source": [
    "// this may take ~30 seconds depending on your internet speed\n",
    "\"unzip -q -o -d /resources/jupyter/labs/BD0211EN/ j8skrriqeqw66f51iyz911zyqai64j2g.zip\" !\n",
    "println(\"Data Extracted!\")"
   ]
  },
  {
   "cell_type": "markdown",
   "metadata": {},
   "source": [
    "The data is in a folder called **LabData**. Let's list all the files in the data that we just downloaded and extracted."
   ]
  },
  {
   "cell_type": "code",
   "execution_count": 4,
   "metadata": {
    "collapsed": false
   },
   "outputs": [
    {
     "name": "stdout",
     "output_type": "stream",
     "text": [
      "followers.txt\n",
      "notebook.log\n",
      "nyctaxi100.csv\n",
      "nyctaxi.csv\n",
      "nyctaxisub.csv\n",
      "nycweather.csv\n",
      "pom.xml\n",
      "README.md\n",
      "taxistreams.py\n",
      "users.txt\n"
     ]
    }
   ],
   "source": [
    "// list the extracted files\n",
    "\"ls -1 /resources/jupyter/labs/BD0211EN/LabData\" !"
   ]
  },
  {
   "cell_type": "markdown",
   "metadata": {
    "deletable": true,
    "editable": true
   },
   "source": [
    "Now we are going to create an RDD file from the file README. This is created using the spark context \".textFile\" just as in the previous lab. As we know the initial operation is a transformation, so nothing actually happens. We're just telling it that we want to create a readme RDD. \n",
    "\n",
    "Run the code in the following cell. This was an RDD transformation, thus it returned a pointer to a RDD, which we have named as readme. "
   ]
  },
  {
   "cell_type": "code",
   "execution_count": 5,
   "metadata": {
    "collapsed": true,
    "deletable": true,
    "editable": true,
    "scrolled": true
   },
   "outputs": [],
   "source": [
    "val readme = sc.textFile(\"/resources/jupyter/labs/BD0211EN/LabData/README.md\")"
   ]
  },
  {
   "cell_type": "markdown",
   "metadata": {
    "deletable": true,
    "editable": true
   },
   "source": [
    "Let’s perform some RDD actions on this text file. Count the number of items in the RDD using this command:"
   ]
  },
  {
   "cell_type": "code",
   "execution_count": 6,
   "metadata": {
    "collapsed": false,
    "deletable": true,
    "editable": true,
    "scrolled": true
   },
   "outputs": [
    {
     "data": {
      "text/plain": [
       "98"
      ]
     },
     "execution_count": 6,
     "metadata": {},
     "output_type": "execute_result"
    }
   ],
   "source": [
    "readme.count()"
   ]
  },
  {
   "cell_type": "markdown",
   "metadata": {
    "deletable": true,
    "editable": true
   },
   "source": [
    "Let’s run another action. Run this command to find the first item in the RDD:"
   ]
  },
  {
   "cell_type": "code",
   "execution_count": 7,
   "metadata": {
    "collapsed": false,
    "deletable": true,
    "editable": true,
    "scrolled": true
   },
   "outputs": [
    {
     "data": {
      "text/plain": [
       "# Apache Spark"
      ]
     },
     "execution_count": 7,
     "metadata": {},
     "output_type": "execute_result"
    }
   ],
   "source": [
    "readme.first()"
   ]
  },
  {
   "cell_type": "markdown",
   "metadata": {
    "deletable": true,
    "editable": true
   },
   "source": [
    "Now let’s try a transformation. Use the filter transformation to return a new RDD with a subset of the items in the file. Type in this command:"
   ]
  },
  {
   "cell_type": "code",
   "execution_count": 8,
   "metadata": {
    "collapsed": false,
    "deletable": true,
    "editable": true,
    "scrolled": true
   },
   "outputs": [
    {
     "data": {
      "text/plain": [
       "18"
      ]
     },
     "execution_count": 8,
     "metadata": {},
     "output_type": "execute_result"
    }
   ],
   "source": [
    "val linesWithSpark = readme.filter(line => line.contains(\"Spark\"))\n",
    "linesWithSpark.count()"
   ]
  },
  {
   "cell_type": "markdown",
   "metadata": {
    "deletable": true,
    "editable": true
   },
   "source": [
    "Again, this returned a pointer to a RDD with the results of the filter transformation.\n",
    "\n",
    "You can even chain together transformations and actions. To find out how many lines contains the word “Spark”, type in:"
   ]
  },
  {
   "cell_type": "code",
   "execution_count": 9,
   "metadata": {
    "collapsed": false,
    "deletable": true,
    "editable": true,
    "scrolled": true
   },
   "outputs": [
    {
     "data": {
      "text/plain": [
       "18"
      ]
     },
     "execution_count": 9,
     "metadata": {},
     "output_type": "execute_result"
    }
   ],
   "source": [
    "readme.filter(line => line.contains(\"Spark\")).count()"
   ]
  },
  {
   "cell_type": "markdown",
   "metadata": {
    "deletable": true,
    "editable": true
   },
   "source": [
    "### More on RDD Operations\n",
    "\n",
    "This section builds upon the previous section. In this section, you will see that RDD can be used for more complex computations. You will find the line from that readme file with the most words in it."
   ]
  },
  {
   "cell_type": "code",
   "execution_count": 12,
   "metadata": {
    "collapsed": false,
    "deletable": true,
    "editable": true,
    "scrolled": true
   },
   "outputs": [
    {
     "data": {
      "text/plain": [
       "14"
      ]
     },
     "execution_count": 12,
     "metadata": {},
     "output_type": "execute_result"
    }
   ],
   "source": [
    "readme.map(line => line.split(\" \").size).\n",
    "                    reduce((a, b) => if (a > b) a else b)"
   ]
  },
  {
   "cell_type": "markdown",
   "metadata": {
    "deletable": true,
    "editable": true
   },
   "source": [
    "There are two parts to this. The first maps a line to an integer value, the number of words in that line. In the second part reduce is called to find the line with the most words in it. The arguments to map and reduce are Scala function literals (closures), but you can use any language feature or Scala/Java library.\n",
    "\n",
    "In the next step, you use the Math.max() function to show that you can indeed use a Java library instead.\n",
    "Import in the java.lang.Math library:"
   ]
  },
  {
   "cell_type": "code",
   "execution_count": 13,
   "metadata": {
    "collapsed": true,
    "deletable": true,
    "editable": true,
    "scrolled": true
   },
   "outputs": [],
   "source": [
    "import java.lang.Math"
   ]
  },
  {
   "cell_type": "markdown",
   "metadata": {
    "deletable": true,
    "editable": true
   },
   "source": [
    "Now run with the max function:"
   ]
  },
  {
   "cell_type": "code",
   "execution_count": 14,
   "metadata": {
    "collapsed": false,
    "deletable": true,
    "editable": true,
    "scrolled": true
   },
   "outputs": [
    {
     "data": {
      "text/plain": [
       "14"
      ]
     },
     "execution_count": 14,
     "metadata": {},
     "output_type": "execute_result"
    }
   ],
   "source": [
    "readme.map(line => line.split(\" \").size).\n",
    "        reduce((a, b) => Math.max(a, b))"
   ]
  },
  {
   "cell_type": "markdown",
   "metadata": {
    "deletable": true,
    "editable": true
   },
   "source": [
    "Spark has a MapReduce data flow pattern. We can use this to do a word count on the readme file."
   ]
  },
  {
   "cell_type": "code",
   "execution_count": 15,
   "metadata": {
    "collapsed": true,
    "deletable": true,
    "editable": true,
    "scrolled": true
   },
   "outputs": [],
   "source": [
    "val wordCounts = readme.flatMap(line => line.split(\" \")).\n",
    "                        map(word => (word, 1)).\n",
    "                        reduceByKey((a,b) => a + b)"
   ]
  },
  {
   "cell_type": "markdown",
   "metadata": {
    "deletable": true,
    "editable": true
   },
   "source": [
    "Here we combined the flatMap, map, and the reduceByKey functions to do a word count of each word in the readme file.\n",
    "\n",
    "To collect the word counts, use the collect action.\n",
    "\n",
    "#### It should be noted that the collect function brings all of the data into the driver node. For a small dataset, this isacceptable but, for a large dataset this can cause an Out Of Memory error. It is recommended to use collect() for testing only. The safer approach is to use the take() function e.g. take(n).foreach(println)"
   ]
  },
  {
   "cell_type": "code",
   "execution_count": 16,
   "metadata": {
    "collapsed": false,
    "deletable": true,
    "editable": true,
    "scrolled": true
   },
   "outputs": [
    {
     "name": "stdout",
     "output_type": "stream",
     "text": [
      "(package,1)\n",
      "(this,1)\n",
      "(Version\"](http://spark.apache.org/docs/latest/building-spark.html#specifying-the-hadoop-version),1)\n",
      "(Because,1)\n",
      "(Python,2)\n",
      "(cluster.,1)\n",
      "(its,1)\n",
      "([run,1)\n",
      "(general,2)\n",
      "(have,1)\n",
      "(pre-built,1)\n",
      "(locally.,1)\n",
      "(locally,2)\n",
      "(changed,1)\n",
      "(sc.parallelize(1,1)\n",
      "(only,1)\n",
      "(several,1)\n",
      "(This,2)\n",
      "(basic,1)\n",
      "(Configuration,1)\n",
      "(learning,,1)\n",
      "(documentation,3)\n",
      "(YARN,,1)\n",
      "(graph,1)\n",
      "(Hive,2)\n",
      "(first,1)\n",
      "([\"Specifying,1)\n",
      "(\"yarn\",1)\n",
      "(page](http://spark.apache.org/documentation.html),1)\n",
      "([params]`.,1)\n",
      "(application,1)\n",
      "([project,2)\n",
      "(prefer,1)\n",
      "(SparkPi,2)\n",
      "(<http://spark.apache.org/>,1)\n",
      "(engine,1)\n",
      "(version,1)\n",
      "(file,1)\n",
      "(documentation,,1)\n",
      "(MASTER,1)\n",
      "(example,3)\n",
      "(distribution.,1)\n",
      "(are,1)\n",
      "(params,1)\n",
      "(scala>,1)\n",
      "(DataFrames,,1)\n",
      "(provides,1)\n",
      "(refer,2)\n",
      "(configure,1)\n",
      "(Interactive,2)\n",
      "(R,,1)\n",
      "(can,6)\n",
      "(build,3)\n",
      "(when,1)\n",
      "(easiest,1)\n",
      "(Apache,1)\n",
      "(systems.,1)\n",
      "(Distributions\"](http://spark.apache.org/docs/latest/hadoop-third-party-distributions.html),1)\n",
      "(works,1)\n",
      "(how,2)\n",
      "(package.,1)\n",
      "(1000).count(),1)\n",
      "(Note,1)\n",
      "(Data.,1)\n",
      "(>>>,1)\n",
      "(Scala,2)\n",
      "(Alternatively,,1)\n",
      "(variable,1)\n",
      "(submit,1)\n",
      "(Testing,1)\n",
      "(Streaming,1)\n",
      "(module,,1)\n",
      "(thread,,1)\n",
      "(rich,1)\n",
      "(them,,1)\n",
      "(detailed,2)\n",
      "(stream,1)\n",
      "(GraphX,1)\n",
      "(distribution,1)\n",
      "([\"Third,1)\n",
      "(Please,3)\n",
      "(return,2)\n",
      "(is,6)\n",
      "(Thriftserver,1)\n",
      "(same,1)\n",
      "(start,1)\n",
      "(built,1)\n",
      "(one,2)\n",
      "(with,4)\n",
      "(Party,1)\n",
      "(Spark](#building-spark).,1)\n",
      "(Spark\"](http://spark.apache.org/docs/latest/building-spark.html).,1)\n",
      "(data,1)\n",
      "(wiki](https://cwiki.apache.org/confluence/display/SPARK).,1)\n",
      "(using,2)\n",
      "(talk,1)\n",
      "(Shell,2)\n",
      "(class,2)\n",
      "(README,1)\n",
      "(computing,1)\n",
      "(Python,,2)\n",
      "(example:,1)\n",
      "(##,8)\n",
      "(from,1)\n",
      "(set,2)\n",
      "(building,3)\n",
      "(N,1)\n",
      "(Hadoop-supported,1)\n",
      "(other,1)\n",
      "(Example,1)\n",
      "(analysis.,1)\n",
      "(runs.,1)\n",
      "(Building,1)\n",
      "(higher-level,1)\n",
      "(need,1)\n",
      "(Big,1)\n",
      "(fast,1)\n",
      "(guide,,1)\n",
      "(Java,,1)\n",
      "(<class>,1)\n",
      "(uses,1)\n",
      "(SQL,2)\n",
      "(will,1)\n",
      "(guidance,3)\n",
      "(requires,1)\n",
      "(,67)\n",
      "(Documentation,1)\n",
      "(web,1)\n",
      "(cluster,2)\n",
      "(using:,1)\n",
      "(MLlib,1)\n",
      "(shell:,2)\n",
      "(Scala,,1)\n",
      "(supports,2)\n",
      "(built,,1)\n",
      "(./dev/run-tests,1)\n",
      "(build/mvn,1)\n",
      "(sample,1)\n",
      "(For,2)\n",
      "(Programs,1)\n",
      "(Spark,14)\n",
      "(particular,3)\n",
      "(The,1)\n",
      "(processing.,1)\n",
      "(APIs,1)\n",
      "(computation,1)\n",
      "(Try,1)\n",
      "([Configuration,1)\n",
      "(./bin/pyspark,1)\n",
      "(A,1)\n",
      "(through,1)\n",
      "(#,1)\n",
      "(library,1)\n",
      "(following,2)\n",
      "(More,1)\n",
      "(which,2)\n",
      "(See,1)\n",
      "(also,5)\n",
      "(storage,1)\n",
      "(should,2)\n",
      "(To,2)\n",
      "(for,12)\n",
      "(Once,1)\n",
      "(setup,1)\n",
      "(mesos://,1)\n",
      "(Maven](http://maven.apache.org/).,1)\n",
      "(latest,1)\n",
      "(processing,,1)\n",
      "(the,21)\n",
      "(your,1)\n",
      "(not,1)\n",
      "(different,1)\n",
      "(distributions.,1)\n",
      "(given.,1)\n",
      "(About,1)\n",
      "(if,4)\n",
      "(instructions.,1)\n",
      "(be,2)\n",
      "(do,2)\n",
      "(Tests,1)\n",
      "(no,1)\n",
      "(./bin/run-example,2)\n",
      "(programs,,1)\n",
      "(including,3)\n",
      "(`./bin/run-example,1)\n",
      "(Spark.,1)\n",
      "(Versions,1)\n",
      "(HDFS,1)\n",
      "(individual,1)\n",
      "(spark://,1)\n",
      "(It,2)\n",
      "(an,3)\n",
      "(programming,1)\n",
      "(machine,1)\n",
      "(run:,1)\n",
      "(environment,1)\n",
      "(clean,1)\n",
      "(1000:,2)\n",
      "(And,1)\n",
      "(run,7)\n",
      "(./bin/spark-shell,1)\n",
      "(URL,,1)\n",
      "(\"local\",1)\n",
      "(MASTER=spark://host:7077,1)\n",
      "(on,6)\n",
      "(You,3)\n",
      "(threads.,1)\n",
      "(against,1)\n",
      "([Apache,1)\n",
      "(help,1)\n",
      "(print,1)\n",
      "(tests,2)\n",
      "(examples,2)\n",
      "(at,2)\n",
      "(in,5)\n",
      "(-DskipTests,1)\n",
      "(optimized,1)\n",
      "(downloaded,1)\n",
      "(versions,1)\n",
      "(graphs,1)\n",
      "(Guide](http://spark.apache.org/docs/latest/configuration.html),1)\n",
      "(online,1)\n",
      "(usage,1)\n",
      "(abbreviated,1)\n",
      "(comes,1)\n",
      "(directory.,1)\n",
      "(overview,1)\n",
      "([building,1)\n",
      "(`examples`,2)\n",
      "(Many,1)\n",
      "(Running,1)\n",
      "(way,1)\n",
      "(use,3)\n",
      "(Online,1)\n",
      "(site,,1)\n",
      "(tests](https://cwiki.apache.org/confluence/display/SPARK/Useful+Developer+Tools).,1)\n",
      "(running,1)\n",
      "(find,1)\n",
      "(sc.parallelize(range(1000)).count(),1)\n",
      "(contains,1)\n",
      "(project,1)\n",
      "(you,4)\n",
      "(Pi,1)\n",
      "(that,3)\n",
      "(protocols,1)\n",
      "(a,10)\n",
      "(or,3)\n",
      "(high-level,1)\n",
      "(name,1)\n",
      "(Hadoop,,2)\n",
      "(to,14)\n",
      "(available,1)\n",
      "((You,1)\n",
      "(core,1)\n",
      "(instance:,1)\n",
      "(see,1)\n",
      "(of,5)\n",
      "(tools,1)\n",
      "(\"local[N]\",1)\n",
      "(programs,2)\n",
      "(package.),1)\n",
      "([\"Building,1)\n",
      "(must,1)\n",
      "(and,10)\n",
      "(command,,2)\n",
      "(system,1)\n",
      "(Hadoop,4)\n"
     ]
    }
   ],
   "source": [
    "wordCounts.collect().foreach(println)"
   ]
  },
  {
   "cell_type": "markdown",
   "metadata": {
    "collapsed": false,
    "deletable": true,
    "editable": true
   },
   "source": [
    "You can also do:\n",
    "\n",
    "\n",
    " println(wordCounts.collect().mkString(\"\\n\"))\n",
    " \n",
    " println(wordCounts.collect().deep)\n"
   ]
  },
  {
   "cell_type": "markdown",
   "metadata": {
    "deletable": true,
    "editable": true
   },
   "source": [
    "### <span style=\"color: red\">YOUR TURN:</span> \n",
    "\n",
    "#### In the cell below, determine what is the most frequent CHARACTER in the README, and how many times was it used?"
   ]
  },
  {
   "cell_type": "code",
   "execution_count": 18,
   "metadata": {
    "collapsed": false,
    "deletable": true,
    "editable": true
   },
   "outputs": [
    {
     "name": "stdout",
     "output_type": "stream",
     "text": [
      "(,67)\n"
     ]
    }
   ],
   "source": [
    "// WRITE YOUR CODE BELOW\n",
    "val wordCounts = readme.flatMap(line => line.split(\" \")).\n",
    "                        map(word => (word, 1)).\n",
    "                        reduceByKey((a,b) => a + b).\n",
    "                        reduce((a, b) => if (a._2 > b._2) a else b)\n",
    "\n",
    "println(wordCounts)"
   ]
  },
  {
   "cell_type": "markdown",
   "metadata": {
    "deletable": true,
    "editable": true
   },
   "source": [
    "Highlight text for answer:\n",
    "\n",
    "<textarea rows=\"6\" cols=\"80\" style=\"color: white\">\n",
    "val wordCounts = readme.flatMap(line => line.split(\" \")).\n",
    "                        map(word => (word, 1)).\n",
    "                        reduceByKey((a,b) => a + b).\n",
    "                        reduce((a, b) => if (a._2 > b._2) a else b)\n",
    "\n",
    "println(wordCounts)\n",
    "</textarea>"
   ]
  },
  {
   "cell_type": "markdown",
   "metadata": {
    "collapsed": true,
    "deletable": true,
    "editable": true
   },
   "source": [
    "## Analysing a log file\n",
    "\n",
    "First, let's analyze a log file in the current directory."
   ]
  },
  {
   "cell_type": "code",
   "execution_count": 19,
   "metadata": {
    "collapsed": true,
    "deletable": true,
    "editable": true,
    "scrolled": true
   },
   "outputs": [],
   "source": [
    "val logFile = sc.textFile(\"/resources/jupyter/labs/BD0211EN/LabData/notebook.log\")"
   ]
  },
  {
   "cell_type": "markdown",
   "metadata": {
    "deletable": true,
    "editable": true
   },
   "source": [
    "Filter out the lines that contains INFO (or ERROR, if the particular log has it)"
   ]
  },
  {
   "cell_type": "code",
   "execution_count": 20,
   "metadata": {
    "collapsed": false,
    "deletable": true,
    "editable": true,
    "scrolled": true
   },
   "outputs": [],
   "source": [
    "val info = logFile.filter(line => line.contains(\"INFO\"))"
   ]
  },
  {
   "cell_type": "markdown",
   "metadata": {
    "deletable": true,
    "editable": true
   },
   "source": [
    "Count the lines:"
   ]
  },
  {
   "cell_type": "code",
   "execution_count": 21,
   "metadata": {
    "collapsed": false,
    "deletable": true,
    "editable": true,
    "scrolled": true
   },
   "outputs": [
    {
     "data": {
      "text/plain": [
       "13438"
      ]
     },
     "execution_count": 21,
     "metadata": {},
     "output_type": "execute_result"
    }
   ],
   "source": [
    "info.count()"
   ]
  },
  {
   "cell_type": "markdown",
   "metadata": {
    "deletable": true,
    "editable": true
   },
   "source": [
    "Count the lines with Spark in it by combining transformation and action."
   ]
  },
  {
   "cell_type": "code",
   "execution_count": 22,
   "metadata": {
    "collapsed": false,
    "deletable": true,
    "editable": true,
    "scrolled": true
   },
   "outputs": [
    {
     "data": {
      "text/plain": [
       "156"
      ]
     },
     "execution_count": 22,
     "metadata": {},
     "output_type": "execute_result"
    }
   ],
   "source": [
    "info.filter(line => line.contains(\"spark\")).count()"
   ]
  },
  {
   "cell_type": "markdown",
   "metadata": {
    "deletable": true,
    "editable": true
   },
   "source": [
    "Fetch those lines as an array of Strings"
   ]
  },
  {
   "cell_type": "code",
   "execution_count": 23,
   "metadata": {
    "collapsed": false,
    "deletable": true,
    "editable": true,
    "scrolled": true
   },
   "outputs": [
    {
     "name": "stdout",
     "output_type": "stream",
     "text": [
      "15/10/14 14:29:23 INFO Remoting: Remoting started; listening on addresses :[akka.tcp://sparkDriver@172.17.0.22:53333]\n",
      "15/10/14 14:29:23 INFO Utils: Successfully started service 'sparkDriver' on port 53333.\n",
      "15/10/14 14:29:23 INFO DiskBlockManager: Created local directory at /tmp/spark-fe150378-7bad-42b6-876b-d14e2c193eb6/blockmgr-c142f2f1-ebb6-4612-945b-0a67d156230a\n",
      "15/10/14 14:29:23 INFO HttpFileServer: HTTP File server directory is /tmp/spark-fe150378-7bad-42b6-876b-d14e2c193eb6/httpd-ed3f4ab0-7218-48bc-9d8a-3981b1cfe574\n",
      "15/10/14 14:29:24 INFO Utils: Successfully started service 'org.apache.spark.network.netty.NettyBlockTransferService' on port 35726.\n",
      "15/10/15 15:33:42 INFO Remoting: Remoting started; listening on addresses :[akka.tcp://sparkDriver@172.17.0.22:47412]\n",
      "15/10/15 15:33:42 INFO Utils: Successfully started service 'sparkDriver' on port 47412.\n",
      "15/10/15 15:33:42 INFO DiskBlockManager: Created local directory at /tmp/spark-fc035223-3b43-43d1-8d7d-a22dda6b0d46/blockmgr-aad4e583-6a6c-479a-b021-a7e0390ea261\n",
      "15/10/15 15:33:42 INFO HttpFileServer: HTTP File server directory is /tmp/spark-fc035223-3b43-43d1-8d7d-a22dda6b0d46/httpd-80730048-1dcb-4da2-8458-8bf3eba96046\n",
      "15/10/15 15:33:43 INFO Utils: Successfully started service 'org.apache.spark.network.netty.NettyBlockTransferService' on port 47915.\n",
      "15/10/16 13:08:23 INFO Remoting: Remoting started; listening on addresses :[akka.tcp://sparkDriver@172.17.0.22:58378]\n",
      "15/10/16 13:08:23 INFO Utils: Successfully started service 'sparkDriver' on port 58378.\n",
      "15/10/16 13:08:23 INFO DiskBlockManager: Created local directory at /tmp/spark-ca471293-a9b6-4761-b0c9-00799500af70/blockmgr-24ee1e5a-9311-4665-8ce7-56fc1f0601a0\n",
      "15/10/16 13:08:23 INFO HttpFileServer: HTTP File server directory is /tmp/spark-ca471293-a9b6-4761-b0c9-00799500af70/httpd-98632027-ee06-401b-a027-b7973b158023\n",
      "15/10/16 13:08:23 INFO Utils: Successfully started service 'org.apache.spark.network.netty.NettyBlockTransferService' on port 34420.\n",
      "15/10/16 13:13:22 INFO Utils: path = /tmp/spark-ca471293-a9b6-4761-b0c9-00799500af70/blockmgr-24ee1e5a-9311-4665-8ce7-56fc1f0601a0, already present as root for deletion.\n",
      "15/10/16 13:13:22 INFO Utils: Deleting directory /tmp/spark-ca471293-a9b6-4761-b0c9-00799500af70/pyspark-2107622a-f8ad-4b5a-b456-f0e414fbed40\n",
      "15/10/16 13:13:22 INFO Utils: Deleting directory /tmp/spark-ca471293-a9b6-4761-b0c9-00799500af70\n",
      "15/10/16 13:13:27 INFO Remoting: Remoting started; listening on addresses :[akka.tcp://sparkDriver@172.17.0.22:38668]\n",
      "15/10/16 13:13:27 INFO Utils: Successfully started service 'sparkDriver' on port 38668.\n",
      "15/10/16 13:13:27 INFO DiskBlockManager: Created local directory at /tmp/spark-52bdb6b1-7781-4abd-9758-bfc0d2a578ec/blockmgr-e0992345-e860-44ea-aaca-50e75bd99684\n",
      "15/10/16 13:13:27 INFO HttpFileServer: HTTP File server directory is /tmp/spark-52bdb6b1-7781-4abd-9758-bfc0d2a578ec/httpd-fe5e1d28-9663-460b-97fd-e2374b912583\n",
      "15/10/16 13:13:28 INFO Utils: Successfully started service 'org.apache.spark.network.netty.NettyBlockTransferService' on port 44407.\n",
      "15/10/16 14:52:20 INFO Remoting: Remoting started; listening on addresses :[akka.tcp://sparkDriver@172.17.0.22:43750]\n",
      "15/10/16 14:52:20 INFO Utils: Successfully started service 'sparkDriver' on port 43750.\n",
      "15/10/16 14:52:20 INFO DiskBlockManager: Created local directory at /tmp/spark-682ea8cc-d28a-4715-be6e-9c2bdc684ba4/blockmgr-73dbe021-6e2b-43f9-9547-72004cf3a221\n",
      "15/10/16 14:52:20 INFO HttpFileServer: HTTP File server directory is /tmp/spark-682ea8cc-d28a-4715-be6e-9c2bdc684ba4/httpd-a9ac31c5-fdd1-4437-a29f-771847924c71\n",
      "15/10/16 14:52:21 INFO Utils: Successfully started service 'org.apache.spark.network.netty.NettyBlockTransferService' on port 54796.\n",
      "15/10/21 06:09:21 INFO Remoting: Remoting started; listening on addresses :[akka.tcp://sparkDriver@172.17.0.22:43928]\n",
      "15/10/21 06:09:21 INFO Utils: Successfully started service 'sparkDriver' on port 43928.\n",
      "15/10/21 06:09:21 INFO DiskBlockManager: Created local directory at /tmp/spark-228429ff-23c9-4471-88ae-9c5c26535d7a/blockmgr-ed90f7d7-7049-471a-8560-950825742016\n",
      "15/10/21 06:09:21 INFO HttpFileServer: HTTP File server directory is /tmp/spark-228429ff-23c9-4471-88ae-9c5c26535d7a/httpd-3f3cd3ee-81f2-4ba5-be62-ccdb6d62cf52\n",
      "15/10/21 06:09:22 INFO Utils: Successfully started service 'org.apache.spark.network.netty.NettyBlockTransferService' on port 34705.\n",
      "15/10/21 06:18:20 INFO Remoting: Remoting started; listening on addresses :[akka.tcp://sparkDriver@172.17.0.22:34767]\n",
      "15/10/21 06:18:20 INFO Utils: Successfully started service 'sparkDriver' on port 34767.\n",
      "15/10/21 06:18:20 INFO DiskBlockManager: Created local directory at /tmp/spark-2673eda4-a8e0-485b-a32e-b50c3f74e350/blockmgr-5abb109b-5c36-4d13-ac93-7ad13e807555\n",
      "15/10/21 06:18:20 INFO HttpFileServer: HTTP File server directory is /tmp/spark-2673eda4-a8e0-485b-a32e-b50c3f74e350/httpd-81687cf4-f5a6-4a97-8e52-a6096ad60235\n",
      "15/10/21 06:18:21 INFO Utils: Successfully started service 'org.apache.spark.network.netty.NettyBlockTransferService' on port 58989.\n",
      "15/10/21 06:44:27 INFO Utils: path = /tmp/spark-fc035223-3b43-43d1-8d7d-a22dda6b0d46/blockmgr-aad4e583-6a6c-479a-b021-a7e0390ea261, already present as root for deletion.\n",
      "15/10/21 06:44:27 INFO Utils: Deleting directory /tmp/spark-fc035223-3b43-43d1-8d7d-a22dda6b0d46\n",
      "15/10/21 06:44:41 INFO Utils: path = /tmp/spark-228429ff-23c9-4471-88ae-9c5c26535d7a/blockmgr-ed90f7d7-7049-471a-8560-950825742016, already present as root for deletion.\n",
      "15/10/21 06:44:42 INFO Utils: Deleting directory /tmp/spark-228429ff-23c9-4471-88ae-9c5c26535d7a\n",
      "15/10/21 06:46:03 INFO Remoting: Remoting started; listening on addresses :[akka.tcp://sparkDriver@172.17.0.22:44681]\n",
      "15/10/21 06:46:03 INFO Utils: Successfully started service 'sparkDriver' on port 44681.\n",
      "15/10/21 06:46:03 INFO DiskBlockManager: Created local directory at /tmp/spark-03b183d8-7092-4253-9183-5738cd14ccf5/blockmgr-719b62d4-5020-486a-bf06-ff030c696f62\n",
      "15/10/21 06:46:04 INFO HttpFileServer: HTTP File server directory is /tmp/spark-03b183d8-7092-4253-9183-5738cd14ccf5/httpd-ca2b9527-9689-44df-90b9-94eb76bf22c8\n",
      "15/10/21 06:46:04 INFO Utils: Successfully started service 'org.apache.spark.network.netty.NettyBlockTransferService' on port 33807.\n",
      "15/10/21 06:46:06 INFO Utils: path = /tmp/spark-03b183d8-7092-4253-9183-5738cd14ccf5/blockmgr-719b62d4-5020-486a-bf06-ff030c696f62, already present as root for deletion.\n",
      "15/10/21 06:46:06 INFO Utils: Deleting directory /tmp/spark-03b183d8-7092-4253-9183-5738cd14ccf5\n",
      "15/10/21 06:46:18 INFO Utils: path = /tmp/spark-2673eda4-a8e0-485b-a32e-b50c3f74e350/blockmgr-5abb109b-5c36-4d13-ac93-7ad13e807555, already present as root for deletion.\n",
      "15/10/21 06:46:19 INFO Utils: Deleting directory /tmp/spark-2673eda4-a8e0-485b-a32e-b50c3f74e350\n",
      "15/10/21 06:46:20 INFO Remoting: Remoting started; listening on addresses :[akka.tcp://sparkDriver@172.17.0.22:34749]\n",
      "15/10/21 06:46:20 INFO Utils: Successfully started service 'sparkDriver' on port 34749.\n",
      "15/10/21 06:46:20 INFO DiskBlockManager: Created local directory at /tmp/spark-0f142b40-8af5-41a7-b3fc-b03c2392bf8f/blockmgr-fb8c79d9-cb49-4e14-9eae-02211819594f\n",
      "15/10/21 06:46:20 INFO HttpFileServer: HTTP File server directory is /tmp/spark-0f142b40-8af5-41a7-b3fc-b03c2392bf8f/httpd-72d3e35d-a6b4-427b-b7cd-7f40b45041ae\n",
      "15/10/21 06:46:21 INFO Utils: Successfully started service 'org.apache.spark.network.netty.NettyBlockTransferService' on port 43363.\n",
      "15/10/21 06:51:44 INFO Remoting: Remoting started; listening on addresses :[akka.tcp://sparkDriver@172.17.0.22:58291]\n",
      "15/10/21 06:51:44 INFO Utils: Successfully started service 'sparkDriver' on port 58291.\n",
      "15/10/21 06:51:44 INFO DiskBlockManager: Created local directory at /tmp/spark-087dfd65-e3af-498d-9d22-e35dd3d35ef5/blockmgr-22d08b29-3ede-43e5-b659-7938c320c115\n",
      "15/10/21 06:51:44 INFO HttpFileServer: HTTP File server directory is /tmp/spark-087dfd65-e3af-498d-9d22-e35dd3d35ef5/httpd-c3af5d8f-93b1-4ea1-b4cd-d939821a87ee\n",
      "15/10/21 06:51:45 INFO Utils: Successfully started service 'org.apache.spark.network.netty.NettyBlockTransferService' on port 60134.\n",
      "15/10/21 06:53:15 INFO Remoting: Remoting started; listening on addresses :[akka.tcp://sparkDriver@172.17.0.22:52949]\n",
      "15/10/21 06:53:15 INFO Utils: Successfully started service 'sparkDriver' on port 52949.\n",
      "15/10/21 06:53:15 INFO DiskBlockManager: Created local directory at /tmp/spark-a0d30f27-58f2-4803-b7ce-2f437dce18c1/blockmgr-33399bc4-6281-42c6-b023-b7bcd4a56bc2\n",
      "15/10/21 06:53:15 INFO HttpFileServer: HTTP File server directory is /tmp/spark-a0d30f27-58f2-4803-b7ce-2f437dce18c1/httpd-0637bf42-85e3-45a9-a395-9fadcb6744a4\n",
      "15/10/21 06:53:16 INFO Utils: Successfully started service 'org.apache.spark.network.netty.NettyBlockTransferService' on port 42148.\n",
      "15/10/21 06:53:37 INFO Remoting: Remoting started; listening on addresses :[akka.tcp://sparkDriver@172.17.0.22:48625]\n",
      "15/10/21 06:53:37 INFO Utils: Successfully started service 'sparkDriver' on port 48625.\n",
      "15/10/21 06:53:37 INFO DiskBlockManager: Created local directory at /tmp/spark-b42d68f2-0d81-418e-bccc-425aa078bfd3/blockmgr-822dc396-71cd-4fe2-893d-9f536687422a\n",
      "15/10/21 06:53:37 INFO HttpFileServer: HTTP File server directory is /tmp/spark-b42d68f2-0d81-418e-bccc-425aa078bfd3/httpd-034f2b34-e002-40b1-9500-9409076170ec\n",
      "15/10/21 06:53:38 INFO Utils: Successfully started service 'org.apache.spark.network.netty.NettyBlockTransferService' on port 53086.\n",
      "15/10/21 06:54:55 INFO Remoting: Remoting started; listening on addresses :[akka.tcp://sparkDriver@172.17.0.22:34793]\n",
      "15/10/21 06:54:55 INFO Utils: Successfully started service 'sparkDriver' on port 34793.\n",
      "15/10/21 06:54:55 INFO DiskBlockManager: Created local directory at /tmp/spark-3bf9d32b-7ee3-487a-b956-ad88489183bb/blockmgr-c7cde9d3-876b-4def-8d6b-103aab7c5654\n",
      "15/10/21 06:54:56 INFO HttpFileServer: HTTP File server directory is /tmp/spark-3bf9d32b-7ee3-487a-b956-ad88489183bb/httpd-7dd197ab-d78a-45df-a99f-0cdd16edd456\n",
      "15/10/21 06:54:57 INFO Utils: Successfully started service 'org.apache.spark.network.netty.NettyBlockTransferService' on port 50977.\n",
      "15/10/21 06:54:59 INFO Utils: path = /tmp/spark-3bf9d32b-7ee3-487a-b956-ad88489183bb/blockmgr-c7cde9d3-876b-4def-8d6b-103aab7c5654, already present as root for deletion.\n",
      "15/10/21 06:55:00 INFO Utils: Deleting directory /tmp/spark-3bf9d32b-7ee3-487a-b956-ad88489183bb\n",
      "15/10/21 06:55:20 INFO Remoting: Remoting started; listening on addresses :[akka.tcp://sparkDriver@172.17.0.22:53265]\n",
      "15/10/21 06:55:20 INFO Utils: Successfully started service 'sparkDriver' on port 53265.\n",
      "15/10/21 06:55:20 INFO DiskBlockManager: Created local directory at /tmp/spark-a5859c75-a576-49b2-a2a0-a673e1a2738a/blockmgr-80f6b3de-e725-45a4-8df9-34bf5a8b291e\n",
      "15/10/21 06:55:20 INFO HttpFileServer: HTTP File server directory is /tmp/spark-a5859c75-a576-49b2-a2a0-a673e1a2738a/httpd-a749eee4-3bc1-429a-94d0-d221f2f3738a\n",
      "15/10/21 06:55:21 INFO Utils: Successfully started service 'org.apache.spark.network.netty.NettyBlockTransferService' on port 45478.\n",
      "15/10/21 06:55:22 INFO Utils: path = /tmp/spark-a5859c75-a576-49b2-a2a0-a673e1a2738a/blockmgr-80f6b3de-e725-45a4-8df9-34bf5a8b291e, already present as root for deletion.\n",
      "15/10/21 06:55:23 INFO Utils: Deleting directory /tmp/spark-a5859c75-a576-49b2-a2a0-a673e1a2738a/pyspark-6db0c8fd-094a-4f08-bd68-dff219e65350\n",
      "15/10/21 06:55:23 INFO Utils: Deleting directory /tmp/spark-a5859c75-a576-49b2-a2a0-a673e1a2738a\n",
      "15/10/21 07:14:56 INFO Remoting: Remoting started; listening on addresses :[akka.tcp://sparkDriver@172.17.0.22:45827]\n",
      "15/10/21 07:14:56 INFO Utils: Successfully started service 'sparkDriver' on port 45827.\n",
      "15/10/21 07:14:56 INFO DiskBlockManager: Created local directory at /tmp/spark-0f1efbbf-1336-4e53-b9e1-c3a0b791b808/blockmgr-573c0859-eb51-466c-99b6-84c3311f512c\n",
      "15/10/21 07:14:56 INFO HttpFileServer: HTTP File server directory is /tmp/spark-0f1efbbf-1336-4e53-b9e1-c3a0b791b808/httpd-4a3e389d-7784-4587-95d4-46cd1d001fca\n",
      "15/10/21 07:14:57 INFO Utils: Successfully started service 'org.apache.spark.network.netty.NettyBlockTransferService' on port 53959.\n",
      "15/10/21 07:56:30 [INFO] Remoting - Remoting started; listening on addresses :[akka.tcp://sparkDriver@172.17.0.22:39281]\n",
      "15/10/21 15:43:57 INFO Remoting: Remoting started; listening on addresses :[akka.tcp://sparkDriver@172.17.0.22:39173]\n",
      "15/10/21 15:43:57 INFO Utils: Successfully started service 'sparkDriver' on port 39173.\n",
      "15/10/21 15:43:57 INFO DiskBlockManager: Created local directory at /tmp/spark-6e54b9ef-eeee-4cb9-bdd3-c91f0bfba6e8/blockmgr-586c41e5-996a-4a68-87a5-5b736a9618b6\n",
      "15/10/21 15:43:57 INFO HttpFileServer: HTTP File server directory is /tmp/spark-6e54b9ef-eeee-4cb9-bdd3-c91f0bfba6e8/httpd-4b254c9b-ffb8-4603-bf57-49661e22248d\n",
      "15/10/21 15:43:58 INFO Utils: Successfully started service 'org.apache.spark.network.netty.NettyBlockTransferService' on port 54908.\n",
      "15/10/21 17:02:06 INFO Utils: path = /tmp/spark-6e54b9ef-eeee-4cb9-bdd3-c91f0bfba6e8/blockmgr-586c41e5-996a-4a68-87a5-5b736a9618b6, already present as root for deletion.\n",
      "15/10/21 17:02:07 INFO Utils: Deleting directory /tmp/spark-6e54b9ef-eeee-4cb9-bdd3-c91f0bfba6e8\n",
      "15/10/21 17:02:12 INFO Remoting: Remoting started; listening on addresses :[akka.tcp://sparkDriver@172.17.0.22:42749]\n",
      "15/10/21 17:02:12 INFO Utils: Successfully started service 'sparkDriver' on port 42749.\n",
      "15/10/21 17:02:12 INFO DiskBlockManager: Created local directory at /tmp/spark-dc939ed3-9bec-4751-8e83-df927a97a500/blockmgr-264e8036-5ed0-4b03-b896-6ff04e27f572\n",
      "15/10/21 17:02:12 INFO HttpFileServer: HTTP File server directory is /tmp/spark-dc939ed3-9bec-4751-8e83-df927a97a500/httpd-fc7a9c70-76bc-4605-958f-e115bd3e8d47\n",
      "15/10/21 17:02:13 INFO Utils: Successfully started service 'org.apache.spark.network.netty.NettyBlockTransferService' on port 45162.\n",
      "15/10/22 02:32:26 INFO Remoting: Remoting started; listening on addresses :[akka.tcp://sparkDriver@172.17.0.22:44439]\n",
      "15/10/22 02:32:26 INFO Utils: Successfully started service 'sparkDriver' on port 44439.\n",
      "15/10/22 02:32:26 INFO DiskBlockManager: Created local directory at /tmp/spark-9b53112a-7587-40b2-875d-52372b9f0213/blockmgr-ff3b1fac-22e5-4969-8e3a-2aecbf2c0dcc\n",
      "15/10/22 02:32:26 INFO HttpFileServer: HTTP File server directory is /tmp/spark-9b53112a-7587-40b2-875d-52372b9f0213/httpd-af60c2aa-69b8-4878-86e3-43b8fccdb6ac\n",
      "15/10/22 02:32:27 INFO Utils: Successfully started service 'org.apache.spark.network.netty.NettyBlockTransferService' on port 59251.\n",
      "15/10/22 04:36:32 INFO Utils: path = /tmp/spark-dc939ed3-9bec-4751-8e83-df927a97a500/blockmgr-264e8036-5ed0-4b03-b896-6ff04e27f572, already present as root for deletion.\n",
      "15/10/22 04:36:32 INFO Utils: Deleting directory /tmp/spark-dc939ed3-9bec-4751-8e83-df927a97a500\n",
      "15/10/22 04:36:37 INFO Remoting: Remoting started; listening on addresses :[akka.tcp://sparkDriver@172.17.0.22:57259]\n",
      "15/10/22 04:36:37 INFO Utils: Successfully started service 'sparkDriver' on port 57259.\n",
      "15/10/22 04:36:37 INFO DiskBlockManager: Created local directory at /tmp/spark-6ffd920e-2dd5-43d4-a2b8-6b3c3a1ae0c7/blockmgr-f28c1757-42ed-4495-bca7-f4693f2f1846\n",
      "15/10/22 04:36:38 INFO HttpFileServer: HTTP File server directory is /tmp/spark-6ffd920e-2dd5-43d4-a2b8-6b3c3a1ae0c7/httpd-8bda8744-f6f5-481c-9dd9-065b7bf0f7b9\n",
      "15/10/22 04:36:39 INFO Utils: Successfully started service 'org.apache.spark.network.netty.NettyBlockTransferService' on port 34923.\n",
      "15/10/22 05:42:05 INFO Utils: path = /tmp/spark-682ea8cc-d28a-4715-be6e-9c2bdc684ba4/blockmgr-73dbe021-6e2b-43f9-9547-72004cf3a221, already present as root for deletion.\n",
      "15/10/22 05:42:06 INFO Utils: Deleting directory /tmp/spark-682ea8cc-d28a-4715-be6e-9c2bdc684ba4\n",
      "15/10/22 05:42:59 INFO Remoting: Remoting started; listening on addresses :[akka.tcp://sparkDriver@172.17.0.22:32997]\n",
      "15/10/22 05:42:59 INFO Utils: Successfully started service 'sparkDriver' on port 32997.\n",
      "15/10/22 05:42:59 INFO DiskBlockManager: Created local directory at /tmp/spark-cf71c18f-eb1b-4344-8525-a2574c650a59/blockmgr-6da140df-5530-460e-a154-b780fb3839ff\n",
      "15/10/22 05:43:00 INFO HttpFileServer: HTTP File server directory is /tmp/spark-cf71c18f-eb1b-4344-8525-a2574c650a59/httpd-5a4d1c53-dd5f-4d13-8f82-fb56ecc67896\n",
      "15/10/22 05:43:00 INFO Utils: Successfully started service 'org.apache.spark.network.netty.NettyBlockTransferService' on port 39140.\n",
      "15/10/22 05:44:02 INFO Utils: path = /tmp/spark-cf71c18f-eb1b-4344-8525-a2574c650a59/blockmgr-6da140df-5530-460e-a154-b780fb3839ff, already present as root for deletion.\n",
      "15/10/22 05:44:03 INFO Utils: Deleting directory /tmp/spark-cf71c18f-eb1b-4344-8525-a2574c650a59\n",
      "15/10/22 05:44:23 INFO Utils: path = /tmp/spark-b42d68f2-0d81-418e-bccc-425aa078bfd3/blockmgr-822dc396-71cd-4fe2-893d-9f536687422a, already present as root for deletion.\n",
      "15/10/22 05:44:24 INFO Utils: Deleting directory /tmp/spark-b42d68f2-0d81-418e-bccc-425aa078bfd3\n",
      "15/10/22 05:44:31 INFO Utils: path = /tmp/spark-0f142b40-8af5-41a7-b3fc-b03c2392bf8f/blockmgr-fb8c79d9-cb49-4e14-9eae-02211819594f, already present as root for deletion.\n",
      "15/10/22 05:44:32 INFO Utils: Deleting directory /tmp/spark-0f142b40-8af5-41a7-b3fc-b03c2392bf8f/pyspark-9e9ff3f6-2e32-4570-ae7a-22a651278319\n",
      "15/10/22 05:44:32 INFO Utils: Deleting directory /tmp/spark-0f142b40-8af5-41a7-b3fc-b03c2392bf8f\n",
      "15/10/22 05:44:42 INFO Utils: path = /tmp/spark-9b53112a-7587-40b2-875d-52372b9f0213/blockmgr-ff3b1fac-22e5-4969-8e3a-2aecbf2c0dcc, already present as root for deletion.\n",
      "15/10/22 05:44:43 INFO Utils: Deleting directory /tmp/spark-9b53112a-7587-40b2-875d-52372b9f0213/pyspark-00ef6c66-4db7-4741-b890-7647fc2d4f76\n",
      "15/10/22 05:44:43 INFO Utils: Deleting directory /tmp/spark-9b53112a-7587-40b2-875d-52372b9f0213\n",
      "15/10/22 05:44:57 INFO Remoting: Remoting started; listening on addresses :[akka.tcp://sparkDriver@172.17.0.22:46937]\n",
      "15/10/22 05:44:57 INFO Utils: Successfully started service 'sparkDriver' on port 46937.\n",
      "15/10/22 05:44:57 INFO DiskBlockManager: Created local directory at /tmp/spark-a1ac4ef9-edbb-4d59-84b1-fb6158dd824f/blockmgr-e7a8bf00-0701-4cb7-a835-b8448d9fe79c\n",
      "15/10/22 05:44:57 INFO HttpFileServer: HTTP File server directory is /tmp/spark-a1ac4ef9-edbb-4d59-84b1-fb6158dd824f/httpd-91230dd5-3f29-4655-906e-228bc7bde472\n",
      "15/10/22 05:44:57 INFO Utils: Successfully started service 'org.apache.spark.network.netty.NettyBlockTransferService' on port 37166.\n",
      "15/10/22 05:45:01 INFO Utils: path = /tmp/spark-a1ac4ef9-edbb-4d59-84b1-fb6158dd824f/blockmgr-e7a8bf00-0701-4cb7-a835-b8448d9fe79c, already present as root for deletion.\n",
      "15/10/22 05:45:02 INFO Utils: Deleting directory /tmp/spark-a1ac4ef9-edbb-4d59-84b1-fb6158dd824f/pyspark-c5a99eda-9137-401b-99a1-ffeae801f695\n",
      "15/10/22 05:45:02 INFO Utils: Deleting directory /tmp/spark-a1ac4ef9-edbb-4d59-84b1-fb6158dd824f\n",
      "15/10/22 05:48:07 INFO Utils: path = /tmp/spark-087dfd65-e3af-498d-9d22-e35dd3d35ef5/blockmgr-22d08b29-3ede-43e5-b659-7938c320c115, already present as root for deletion.\n",
      "15/10/22 05:48:08 INFO Utils: Deleting directory /tmp/spark-087dfd65-e3af-498d-9d22-e35dd3d35ef5\n",
      "15/10/22 06:12:32 INFO Remoting: Remoting started; listening on addresses :[akka.tcp://sparkDriver@172.17.0.22:56255]\n",
      "15/10/22 06:12:32 INFO Utils: Successfully started service 'sparkDriver' on port 56255.\n",
      "15/10/22 06:12:32 INFO DiskBlockManager: Created local directory at /tmp/spark-7ca4125c-fd13-4197-aa7f-9fe6163feca2/blockmgr-88b233e4-cd52-4810-b90f-fd20425e41c4\n",
      "15/10/22 06:12:32 INFO HttpFileServer: HTTP File server directory is /tmp/spark-7ca4125c-fd13-4197-aa7f-9fe6163feca2/httpd-0f8a2ab5-bb96-4597-98e9-db0d62952c1f\n",
      "15/10/22 06:12:33 INFO Utils: Successfully started service 'org.apache.spark.network.netty.NettyBlockTransferService' on port 34717.\n",
      "15/10/22 06:33:24 INFO Utils: path = /tmp/spark-7ca4125c-fd13-4197-aa7f-9fe6163feca2/blockmgr-88b233e4-cd52-4810-b90f-fd20425e41c4, already present as root for deletion.\n",
      "15/10/22 06:33:25 INFO Utils: Deleting directory /tmp/spark-7ca4125c-fd13-4197-aa7f-9fe6163feca2/pyspark-7fef74de-62da-4241-a21b-35d6b6075968\n",
      "15/10/22 06:33:25 INFO Utils: Deleting directory /tmp/spark-7ca4125c-fd13-4197-aa7f-9fe6163feca2\n",
      "15/10/22 06:33:30 INFO Utils: path = /tmp/spark-fe150378-7bad-42b6-876b-d14e2c193eb6/blockmgr-c142f2f1-ebb6-4612-945b-0a67d156230a, already present as root for deletion.\n",
      "15/10/22 06:33:30 INFO Utils: Deleting directory /tmp/spark-fe150378-7bad-42b6-876b-d14e2c193eb6\n",
      "15/10/22 06:33:35 INFO Utils: path = /tmp/spark-0f1efbbf-1336-4e53-b9e1-c3a0b791b808/blockmgr-573c0859-eb51-466c-99b6-84c3311f512c, already present as root for deletion.\n",
      "15/10/22 06:33:35 INFO Utils: Deleting directory /tmp/spark-0f1efbbf-1336-4e53-b9e1-c3a0b791b808/pyspark-56ef90f8-2b4f-43b5-a7e4-219c544e948e\n",
      "15/10/22 06:33:35 INFO Utils: Deleting directory /tmp/spark-0f1efbbf-1336-4e53-b9e1-c3a0b791b808\n"
     ]
    }
   ],
   "source": [
    "info.filter(line => line.contains(\"spark\")).collect() foreach println"
   ]
  },
  {
   "cell_type": "markdown",
   "metadata": {
    "deletable": true,
    "editable": true
   },
   "source": [
    "Remember that we went over the DAG. It is what provides the fault tolerance in Spark. Nodes can re-compute its state by borrowing the DAG from a neighboring node. You can view the graph of an RDD using the toDebugString command."
   ]
  },
  {
   "cell_type": "code",
   "execution_count": 24,
   "metadata": {
    "collapsed": false,
    "deletable": true,
    "editable": true,
    "scrolled": true
   },
   "outputs": [
    {
     "name": "stdout",
     "output_type": "stream",
     "text": [
      "(2) MapPartitionsRDD[16] at filter at <console>:26 []\n",
      " |  MapPartitionsRDD[15] at textFile at <console>:24 []\n",
      " |  /resources/jupyter/labs/BD0211EN/LabData/notebook.log HadoopRDD[14] at textFile at <console>:24 []\n"
     ]
    }
   ],
   "source": [
    "println(info.toDebugString)"
   ]
  },
  {
   "cell_type": "markdown",
   "metadata": {
    "deletable": true,
    "editable": true
   },
   "source": [
    "## Joining RDDs\n",
    "\n",
    "Next, you are going to create RDDs for the README and the POM file in the current directory."
   ]
  },
  {
   "cell_type": "code",
   "execution_count": 25,
   "metadata": {
    "collapsed": true,
    "deletable": true,
    "editable": true,
    "scrolled": true
   },
   "outputs": [],
   "source": [
    "val readmeFile = sc.textFile(\"/resources/jupyter/labs/BD0211EN/LabData/README.md\")\n",
    "val pom = sc.textFile(\"/resources/jupyter/labs/BD0211EN/LabData/pom.xml\")"
   ]
  },
  {
   "cell_type": "markdown",
   "metadata": {
    "deletable": true,
    "editable": true
   },
   "source": [
    "How many Spark keywords are in each file?"
   ]
  },
  {
   "cell_type": "code",
   "execution_count": 26,
   "metadata": {
    "collapsed": false,
    "deletable": true,
    "editable": true,
    "scrolled": true
   },
   "outputs": [
    {
     "name": "stdout",
     "output_type": "stream",
     "text": [
      "18\n",
      "2\n"
     ]
    }
   ],
   "source": [
    "println(readmeFile.filter(line => line.contains(\"Spark\")).count())\n",
    "println(pom.filter(line => line.contains(\"Spark\")).count())"
   ]
  },
  {
   "cell_type": "markdown",
   "metadata": {
    "deletable": true,
    "editable": true
   },
   "source": [
    "Now do a WordCount on each RDD so that the results are (K,V) pairs of (word,count)"
   ]
  },
  {
   "cell_type": "code",
   "execution_count": 27,
   "metadata": {
    "collapsed": true,
    "deletable": true,
    "editable": true,
    "scrolled": true
   },
   "outputs": [],
   "source": [
    "val readmeCount = readmeFile.\n",
    "                    flatMap(line => line.split(\" \")).\n",
    "                    map(word => (word, 1)).\n",
    "                    reduceByKey(_ + _)\n",
    "\n",
    "val pomCount = pom.\n",
    "                flatMap(line => line.split(\" \")).\n",
    "                map(word => (word, 1)).\n",
    "                reduceByKey(_ + _)"
   ]
  },
  {
   "cell_type": "markdown",
   "metadata": {
    "deletable": true,
    "editable": true
   },
   "source": [
    "To see the array for either of them, just call the collect function on it."
   ]
  },
  {
   "cell_type": "code",
   "execution_count": 28,
   "metadata": {
    "collapsed": false,
    "deletable": true,
    "editable": true,
    "scrolled": true
   },
   "outputs": [
    {
     "name": "stdout",
     "output_type": "stream",
     "text": [
      "Readme Count\n",
      "\n",
      "(package,1)\n",
      "(this,1)\n",
      "(Version\"](http://spark.apache.org/docs/latest/building-spark.html#specifying-the-hadoop-version),1)\n",
      "(Because,1)\n",
      "(Python,2)\n",
      "(cluster.,1)\n",
      "(its,1)\n",
      "([run,1)\n",
      "(general,2)\n",
      "(have,1)\n",
      "(pre-built,1)\n",
      "(locally.,1)\n",
      "(locally,2)\n",
      "(changed,1)\n",
      "(sc.parallelize(1,1)\n",
      "(only,1)\n",
      "(several,1)\n",
      "(This,2)\n",
      "(basic,1)\n",
      "(Configuration,1)\n",
      "(learning,,1)\n",
      "(documentation,3)\n",
      "(YARN,,1)\n",
      "(graph,1)\n",
      "(Hive,2)\n",
      "(first,1)\n",
      "([\"Specifying,1)\n",
      "(\"yarn\",1)\n",
      "(page](http://spark.apache.org/documentation.html),1)\n",
      "([params]`.,1)\n",
      "(application,1)\n",
      "([project,2)\n",
      "(prefer,1)\n",
      "(SparkPi,2)\n",
      "(<http://spark.apache.org/>,1)\n",
      "(engine,1)\n",
      "(version,1)\n",
      "(file,1)\n",
      "(documentation,,1)\n",
      "(MASTER,1)\n",
      "(example,3)\n",
      "(distribution.,1)\n",
      "(are,1)\n",
      "(params,1)\n",
      "(scala>,1)\n",
      "(DataFrames,,1)\n",
      "(provides,1)\n",
      "(refer,2)\n",
      "(configure,1)\n",
      "(Interactive,2)\n",
      "(R,,1)\n",
      "(can,6)\n",
      "(build,3)\n",
      "(when,1)\n",
      "(easiest,1)\n",
      "(Apache,1)\n",
      "(systems.,1)\n",
      "(Distributions\"](http://spark.apache.org/docs/latest/hadoop-third-party-distributions.html),1)\n",
      "(works,1)\n",
      "(how,2)\n",
      "(package.,1)\n",
      "(1000).count(),1)\n",
      "(Note,1)\n",
      "(Data.,1)\n",
      "(>>>,1)\n",
      "(Scala,2)\n",
      "(Alternatively,,1)\n",
      "(variable,1)\n",
      "(submit,1)\n",
      "(Testing,1)\n",
      "(Streaming,1)\n",
      "(module,,1)\n",
      "(thread,,1)\n",
      "(rich,1)\n",
      "(them,,1)\n",
      "(detailed,2)\n",
      "(stream,1)\n",
      "(GraphX,1)\n",
      "(distribution,1)\n",
      "([\"Third,1)\n",
      "(Please,3)\n",
      "(return,2)\n",
      "(is,6)\n",
      "(Thriftserver,1)\n",
      "(same,1)\n",
      "(start,1)\n",
      "(built,1)\n",
      "(one,2)\n",
      "(with,4)\n",
      "(Party,1)\n",
      "(Spark](#building-spark).,1)\n",
      "(Spark\"](http://spark.apache.org/docs/latest/building-spark.html).,1)\n",
      "(data,1)\n",
      "(wiki](https://cwiki.apache.org/confluence/display/SPARK).,1)\n",
      "(using,2)\n",
      "(talk,1)\n",
      "(Shell,2)\n",
      "(class,2)\n",
      "(README,1)\n",
      "(computing,1)\n",
      "(Python,,2)\n",
      "(example:,1)\n",
      "(##,8)\n",
      "(from,1)\n",
      "(set,2)\n",
      "(building,3)\n",
      "(N,1)\n",
      "(Hadoop-supported,1)\n",
      "(other,1)\n",
      "(Example,1)\n",
      "(analysis.,1)\n",
      "(runs.,1)\n",
      "(Building,1)\n",
      "(higher-level,1)\n",
      "(need,1)\n",
      "(Big,1)\n",
      "(fast,1)\n",
      "(guide,,1)\n",
      "(Java,,1)\n",
      "(<class>,1)\n",
      "(uses,1)\n",
      "(SQL,2)\n",
      "(will,1)\n",
      "(guidance,3)\n",
      "(requires,1)\n",
      "(,67)\n",
      "(Documentation,1)\n",
      "(web,1)\n",
      "(cluster,2)\n",
      "(using:,1)\n",
      "(MLlib,1)\n",
      "(shell:,2)\n",
      "(Scala,,1)\n",
      "(supports,2)\n",
      "(built,,1)\n",
      "(./dev/run-tests,1)\n",
      "(build/mvn,1)\n",
      "(sample,1)\n",
      "(For,2)\n",
      "(Programs,1)\n",
      "(Spark,14)\n",
      "(particular,3)\n",
      "(The,1)\n",
      "(processing.,1)\n",
      "(APIs,1)\n",
      "(computation,1)\n",
      "(Try,1)\n",
      "([Configuration,1)\n",
      "(./bin/pyspark,1)\n",
      "(A,1)\n",
      "(through,1)\n",
      "(#,1)\n",
      "(library,1)\n",
      "(following,2)\n",
      "(More,1)\n",
      "(which,2)\n",
      "(See,1)\n",
      "(also,5)\n",
      "(storage,1)\n",
      "(should,2)\n",
      "(To,2)\n",
      "(for,12)\n",
      "(Once,1)\n",
      "(setup,1)\n",
      "(mesos://,1)\n",
      "(Maven](http://maven.apache.org/).,1)\n",
      "(latest,1)\n",
      "(processing,,1)\n",
      "(the,21)\n",
      "(your,1)\n",
      "(not,1)\n",
      "(different,1)\n",
      "(distributions.,1)\n",
      "(given.,1)\n",
      "(About,1)\n",
      "(if,4)\n",
      "(instructions.,1)\n",
      "(be,2)\n",
      "(do,2)\n",
      "(Tests,1)\n",
      "(no,1)\n",
      "(./bin/run-example,2)\n",
      "(programs,,1)\n",
      "(including,3)\n",
      "(`./bin/run-example,1)\n",
      "(Spark.,1)\n",
      "(Versions,1)\n",
      "(HDFS,1)\n",
      "(individual,1)\n",
      "(spark://,1)\n",
      "(It,2)\n",
      "(an,3)\n",
      "(programming,1)\n",
      "(machine,1)\n",
      "(run:,1)\n",
      "(environment,1)\n",
      "(clean,1)\n",
      "(1000:,2)\n",
      "(And,1)\n",
      "(run,7)\n",
      "(./bin/spark-shell,1)\n",
      "(URL,,1)\n",
      "(\"local\",1)\n",
      "(MASTER=spark://host:7077,1)\n",
      "(on,6)\n",
      "(You,3)\n",
      "(threads.,1)\n",
      "(against,1)\n",
      "([Apache,1)\n",
      "(help,1)\n",
      "(print,1)\n",
      "(tests,2)\n",
      "(examples,2)\n",
      "(at,2)\n",
      "(in,5)\n",
      "(-DskipTests,1)\n",
      "(optimized,1)\n",
      "(downloaded,1)\n",
      "(versions,1)\n",
      "(graphs,1)\n",
      "(Guide](http://spark.apache.org/docs/latest/configuration.html),1)\n",
      "(online,1)\n",
      "(usage,1)\n",
      "(abbreviated,1)\n",
      "(comes,1)\n",
      "(directory.,1)\n",
      "(overview,1)\n",
      "([building,1)\n",
      "(`examples`,2)\n",
      "(Many,1)\n",
      "(Running,1)\n",
      "(way,1)\n",
      "(use,3)\n",
      "(Online,1)\n",
      "(site,,1)\n",
      "(tests](https://cwiki.apache.org/confluence/display/SPARK/Useful+Developer+Tools).,1)\n",
      "(running,1)\n",
      "(find,1)\n",
      "(sc.parallelize(range(1000)).count(),1)\n",
      "(contains,1)\n",
      "(project,1)\n",
      "(you,4)\n",
      "(Pi,1)\n",
      "(that,3)\n",
      "(protocols,1)\n",
      "(a,10)\n",
      "(or,3)\n",
      "(high-level,1)\n",
      "(name,1)\n",
      "(Hadoop,,2)\n",
      "(to,14)\n",
      "(available,1)\n",
      "((You,1)\n",
      "(core,1)\n",
      "(instance:,1)\n",
      "(see,1)\n",
      "(of,5)\n",
      "(tools,1)\n",
      "(\"local[N]\",1)\n",
      "(programs,2)\n",
      "(package.),1)\n",
      "([\"Building,1)\n",
      "(must,1)\n",
      "(and,10)\n",
      "(command,,2)\n",
      "(system,1)\n",
      "(Hadoop,4)\n"
     ]
    }
   ],
   "source": [
    "println(\"Readme Count\\n\")\n",
    "readmeCount.collect() foreach println"
   ]
  },
  {
   "cell_type": "code",
   "execution_count": 29,
   "metadata": {
    "collapsed": false,
    "deletable": true,
    "editable": true,
    "scrolled": true
   },
   "outputs": [
    {
     "name": "stdout",
     "output_type": "stream",
     "text": [
      "Pom Count\n",
      "\n",
      "(<id>kinesis-asl</id>,1)\n",
      "(Unless,1)\n",
      "(this,3)\n",
      "(under,4)\n",
      "(implementation=\"org.apache.maven.plugins.shade.resource.ServicesResourceTransformer\",1)\n",
      "(<scope>provided</scope>,8)\n",
      "(</properties>,6)\n",
      "(version=\"1.0\",1)\n",
      "(<artifactId>maven-install-plugin</artifactId>,1)\n",
      "(<plugins>,1)\n",
      "(express,1)\n",
      "(</transformer>,2)\n",
      "(<version>3.2.0</version>,1)\n",
      "(we,1)\n",
      "(WITHOUT,1)\n",
      "(<groupId>commons-io</groupId>,1)\n",
      "(<artifactId>commons-math</artifactId>,1)\n",
      "(\"AS,1)\n",
      "(<artifactId>compress-lzf</artifactId>,1)\n",
      "(<scope>${hbase.deps.scope}</scope>,6)\n",
      "(<artifactId>jersey-json</artifactId>,1)\n",
      "(<id>flume-provided</id>,1)\n",
      "(IS\",1)\n",
      "(already,1)\n",
      "(...-->,1)\n",
      "(ANY,1)\n",
      "(disable,1)\n",
      "(<configuration>,3)\n",
      "(<packaging>jar</packaging>,1)\n",
      "(2.0,1)\n",
      "(<groupId>org.scala-lang</groupId>,1)\n",
      "(file,3)\n",
      "(<shadedArtifactAttached>false</shadedArtifactAttached>,1)\n",
      "(<artifactSet>,1)\n",
      "(<version>${hbase.version}</version>,7)\n",
      "(<groupId>commons-codec</groupId>,1)\n",
      "(are,1)\n",
      "(<version>${project.version}</version>,12)\n",
      "(<artifactId>hadoop-client</artifactId>,1)\n",
      "(<groupId>org.apache.thrift</groupId>,1)\n",
      "(licenses,1)\n",
      "(<resource>log4j.properties</resource>,1)\n",
      "(<artifactId>hadoop-hdfs</artifactId>,1)\n",
      "(SPARK-4455,4)\n",
      "(better,,1)\n",
      "(<artifactId>maven-deploy-plugin</artifactId>,1)\n",
      "(<groupId>com.github.scopt</groupId>,1)\n",
      "(</profile>,6)\n",
      "(v2.4,,1)\n",
      "(<sbt.project.name>examples</sbt.project.name>,1)\n",
      "(Apache,2)\n",
      "(xmlns=\"http://maven.apache.org/POM/4.0.0\",1)\n",
      "(<transformers>,1)\n",
      "(<groupId>com.ning</groupId>,1)\n",
      "(language,1)\n",
      "(Profiles,1)\n",
      "(inclusion,1)\n",
      "(<artifactId>hbase-common</artifactId>,1)\n",
      "(permissions,1)\n",
      "(WARRANTIES,1)\n",
      "(<groupId>commons-cli</groupId>,1)\n",
      "(<resource>reference.conf</resource>,1)\n",
      "(</exclusions>,6)\n",
      "(~,14)\n",
      "(<artifactId>hbase-hadoop1-compat</artifactId>,1)\n",
      "(<groupId>org.slf4j</groupId>,1)\n",
      "(<artifactId>hbase-client</artifactId>,1)\n",
      "(<version>0.9.0</version>,1)\n",
      "(<filter>,1)\n",
      "(them,1)\n",
      "(<id>hbase-provided</id>,1)\n",
      "(<hadoop.deps.scope>provided</hadoop.deps.scope>,1)\n",
      "(<outputDirectory>target/scala-${scala.binary.version}/classes</outputDirectory>,1)\n",
      "(<exclusion>,35)\n",
      "(want,1)\n",
      "(agreed,1)\n",
      "(Version,1)\n",
      "(<artifactId>hadoop-core</artifactId>,1)\n",
      "(implied.,1)\n",
      "(<build>,1)\n",
      "(<groupId>org.apache.hadoop</groupId>,7)\n",
      "(KIND,,1)\n",
      "(is,2)\n",
      "(<exclude>META-INF/*.SF</exclude>,1)\n",
      "(<groupId>com.googlecode.concurrentlinkedhashmap</groupId>,1)\n",
      "(one,1)\n",
      "(<artifactId>commons-codec</artifactId>,1)\n",
      "(with,2)\n",
      "(<artifactId>spark-streaming-kafka_${scala.binary.version}</artifactId>,1)\n",
      "(certain,1)\n",
      "(<artifactId>spark-streaming-mqtt_${scala.binary.version}</artifactId>,1)\n",
      "(<artifactId>spark-bagel_${scala.binary.version}</artifactId>,1)\n",
      "(</project>,1)\n",
      "(<parent>,1)\n",
      "(specific,1)\n",
      "(<artifactId>commons-io</artifactId>,1)\n",
      "(<artifactId>commons-lang</artifactId>,1)\n",
      "(<name>Spark,1)\n",
      "(<flume.deps.scope>provided</flume.deps.scope>,1)\n",
      "(<groupId>commons-lang</groupId>,1)\n",
      "(<artifactId>hbase-server</artifactId>,1)\n",
      "(ASF,1)\n",
      "(</plugin>,3)\n",
      "(<artifactId>hadoop-mapreduce-client-jobclient</artifactId>,1)\n",
      "(<hbase.deps.scope>provided</hbase.deps.scope>,1)\n",
      "(<groupId>com.sun.jersey</groupId>,4)\n",
      "(<id>hadoop-provided</id>,1)\n",
      "(BASIS,,1)\n",
      "(<artifactId>scopt_${scala.binary.version}</artifactId>,1)\n",
      "(<version>1.2.6</version>,1)\n",
      "(<parquet.deps.scope>provided</parquet.deps.scope>,1)\n",
      "(</excludes>,1)\n",
      "(<artifactId>spark-examples_2.10</artifactId>,1)\n",
      "(<artifactId>commons-cli</artifactId>,1)\n",
      "(<hive.deps.scope>provided</hive.deps.scope>,1)\n",
      "(<groupId>org.apache.hbase</groupId>,12)\n",
      "(-->,7)\n",
      "(</includes>,1)\n",
      "(CONDITIONS,1)\n",
      "(implementation=\"org.apache.maven.plugins.shade.resource.AppendingTransformer\">,1)\n",
      "(<groupId>org.apache.spark</groupId>,14)\n",
      "(NOTICE,1)\n",
      "(<artifactId>maven-shade-plugin</artifactId>,1)\n",
      "(</dependency>,25)\n",
      "(uses,1)\n",
      "(writing,,1)\n",
      "(information,1)\n",
      "(assembly,,1)\n",
      "(,2931)\n",
      "(xsi:schemaLocation=\"http://maven.apache.org/POM/4.0.0,1)\n",
      "(law,1)\n",
      "(<artifactId>hbase-testing-util</artifactId>,1)\n",
      "(</dependencies>,2)\n",
      "(<?xml,1)\n",
      "(<artifactId>spark-core_${scala.binary.version}</artifactId>,1)\n",
      "(</filters>,1)\n",
      "(so,1)\n",
      "(<groupId>org.apache.maven.plugins</groupId>,3)\n",
      "(<outputFile>${project.build.directory}/scala-${scala.binary.version}/spark-examples-${project.version}-hadoop${hadoop.version}.jar</outputFile>,1)\n",
      "(<profiles>,1)\n",
      "(<artifactId>spark-streaming-zeromq_${scala.binary.version}</artifactId>,1)\n",
      "(<groupId>net.jpountz.lz4</groupId>,1)\n",
      "(<artifactId>jruby-complete</artifactId>,1)\n",
      "(Software,1)\n",
      "(Spark,1)\n",
      "(<groupId>org.jruby</groupId>,1)\n",
      "(The,2)\n",
      "(limitations,1)\n",
      "(<artifactId>protobuf-java</artifactId>,1)\n",
      "(<artifactId>hbase-protocol</artifactId>,1)\n",
      "(encoding=\"UTF-8\"?>,1)\n",
      "(</plugins>,1)\n",
      "(<properties>,6)\n",
      "(provided.,1)\n",
      "(contributor,1)\n",
      "(<artifactId>netty</artifactId>,2)\n",
      "(following,1)\n",
      "(<artifactId>spark-streaming-flume_${scala.binary.version}</artifactId>,1)\n",
      "(<artifactId>lz4</artifactId>,1)\n",
      "(which,1)\n",
      "(See,2)\n",
      "(<artifactId>spark-hive_${scala.binary.version}</artifactId>,1)\n",
      "(<artifactId>guava</artifactId>,1)\n",
      "(Examples</name>,1)\n",
      "(License.,2)\n",
      "(for,2)\n",
      "(force,1)\n",
      "(<artifactId>hadoop-mapreduce-client-core</artifactId>,1)\n",
      "(<artifactId>hbase-hadoop-compat</artifactId>,2)\n",
      "(obtain,1)\n",
      "(<!--,8)\n",
      "(software,1)\n",
      "(required,1)\n",
      "(<url>http://spark.apache.org/</url>,1)\n",
      "(</profiles>,1)\n",
      "(present,1)\n",
      "(OR,1)\n",
      "(<artifactId>hadoop-annotations</artifactId>,1)\n",
      "(the,10)\n",
      "(hbase,1)\n",
      "(</parent>,1)\n",
      "(not,1)\n",
      "(either,1)\n",
      "(<artifactId>jersey-server</artifactId>,1)\n",
      "(<artifactId>cassandra-all</artifactId>,1)\n",
      "(implementation=\"org.apache.maven.plugins.shade.resource.DontIncludeResourceTransformer\">,1)\n",
      "(<version>1.6.0-SNAPSHOT</version>,1)\n",
      "(</configuration>,3)\n",
      "(<exclude>META-INF/*.RSA</exclude>,1)\n",
      "(</transformers>,1)\n",
      "(be,1)\n",
      "(<include>*:*</include>,1)\n",
      "(<artifactId>spark-parent_2.10</artifactId>,1)\n",
      "(\"License\");,1)\n",
      "(License,3)\n",
      "(<dependencies>,2)\n",
      "(license,1)\n",
      "(<project,1)\n",
      "(<id>parquet-provided</id>,1)\n",
      "(dependencies,1)\n",
      "(by,1)\n",
      "(<groupId>jline</groupId>,1)\n",
      "(<artifactId>hadoop-auth</artifactId>,1)\n",
      "(<scope>test</scope>,2)\n",
      "(<exclude>META-INF/*.DSA</exclude>,1)\n",
      "(<relativePath>../pom.xml</relativePath>,1)\n",
      "(an,1)\n",
      "(<artifactId>scalacheck_${scala.binary.version}</artifactId>,1)\n",
      "(but,1)\n",
      "(<skip>true</skip>,2)\n",
      "(<artifactId>spark-streaming-kinesis-asl_${scala.binary.version}</artifactId>,1)\n",
      "(<artifactId>hbase-annotations</artifactId>,4)\n",
      "(<groupId>org.apache.cassandra.deps</groupId>,1)\n",
      "(<groupId>org.scalacheck</groupId>,1)\n",
      "(xmlns:xsi=\"http://www.w3.org/2001/XMLSchema-instance\",1)\n",
      "(http://maven.apache.org/xsd/maven-4.0.0.xsd\">,1)\n",
      "(<profile>,6)\n",
      "(<artifactId>commons-logging</artifactId>,1)\n",
      "(<groupId>com.twitter</groupId>,1)\n",
      "((the,1)\n",
      "(/>,1)\n",
      "(<filters>,1)\n",
      "(</artifactSet>,1)\n",
      "(<groupId>com.google.guava</groupId>,1)\n",
      "(<artifactId>spark-mllib_${scala.binary.version}</artifactId>,1)\n",
      "(<dependency>,25)\n",
      "(on,1)\n",
      "(You,2)\n",
      "(<groupId>org.spark-project.protobuf</groupId>,1)\n",
      "(agreements.,1)\n",
      "(<excludes>,1)\n",
      "(at,1)\n",
      "(in,3)\n",
      "(<groupId>commons-logging</groupId>,1)\n",
      "(<artifactId>spark-streaming-twitter_${scala.binary.version}</artifactId>,1)\n",
      "(<artifactId>spark-graphx_${scala.binary.version}</artifactId>,1)\n",
      "(<artifactId>slf4j-api</artifactId>,1)\n",
      "(copy,1)\n",
      "(dependencies.,1)\n",
      "(distributed,3)\n",
      "(<artifactId>scala-library</artifactId>,1)\n",
      "(Project,1)\n",
      "(</filter>,1)\n",
      "(<testOutputDirectory>target/scala-${scala.binary.version}/test-classes</testOutputDirectory>,1)\n",
      "(use,1)\n",
      "(except,1)\n",
      "(may,2)\n",
      "(OF,1)\n",
      "(<artifactId>spark-streaming_${scala.binary.version}</artifactId>,1)\n",
      "(<artifactId>libthrift</artifactId>,1)\n",
      "(<includes>,1)\n",
      "(<groupId>org.apache.commons</groupId>,3)\n",
      "(you,1)\n",
      "(<groupId>io.netty</groupId>,2)\n",
      "(<modelVersion>4.0.0</modelVersion>,1)\n",
      "(<artifact>*:*</artifact>,1)\n",
      "(that,1)\n",
      "(a,1)\n",
      "(or,3)\n",
      "(<plugin>,3)\n",
      "(work,1)\n",
      "(to,5)\n",
      "(http://www.apache.org/licenses/LICENSE-2.0,1)\n",
      "(<exclusions>,6)\n",
      "(applicable,1)\n",
      "(<type>test-jar</type>,1)\n",
      "(more,1)\n",
      "(<artifactId>avro</artifactId>,1)\n",
      "(<artifactId>jersey-core</artifactId>,2)\n",
      "(<artifactId>algebird-core_${scala.binary.version}</artifactId>,1)\n",
      "(of,2)\n",
      "(<artifactId>jline</artifactId>,1)\n",
      "(<id>hive-provided</id>,1)\n",
      "((ASF),1)\n",
      "(governing,1)\n",
      "(regarding,1)\n",
      "(<groupId>org.apache.cassandra</groupId>,1)\n",
      "(ownership.,1)\n",
      "(License,,1)\n",
      "(</exclusion>,35)\n",
      "(Foundation,1)\n",
      "(and,1)\n",
      "(copyright,1)\n",
      "(<artifactId>concurrentlinkedhashmap-lru</artifactId>,1)\n",
      "(compliance,1)\n",
      "(</build>,1)\n",
      "(Licensed,1)\n",
      "(<artifactId>commons-math3</artifactId>,2)\n",
      "(additional,1)\n",
      "(<transformer,3)\n"
     ]
    }
   ],
   "source": [
    "println(\"Pom Count\\n\")\n",
    "pomCount.collect() foreach println"
   ]
  },
  {
   "cell_type": "markdown",
   "metadata": {
    "deletable": true,
    "editable": true
   },
   "source": [
    "Now let's join these two RDDs together to get a collective set. The join function combines the two datasets (K,V) and (K,W) together and get (K, (V,W)). Let's join these two counts together and then cache it."
   ]
  },
  {
   "cell_type": "code",
   "execution_count": 30,
   "metadata": {
    "collapsed": false,
    "deletable": true,
    "editable": true,
    "scrolled": true
   },
   "outputs": [
    {
     "data": {
      "text/plain": [
       "MapPartitionsRDD[33] at join at <console>:32"
      ]
     },
     "execution_count": 30,
     "metadata": {},
     "output_type": "execute_result"
    }
   ],
   "source": [
    "val joined = readmeCount.join(pomCount)\n",
    "joined.cache()"
   ]
  },
  {
   "cell_type": "markdown",
   "metadata": {
    "deletable": true,
    "editable": true
   },
   "source": [
    "Let's see what's in the joined RDD."
   ]
  },
  {
   "cell_type": "code",
   "execution_count": 31,
   "metadata": {
    "collapsed": false,
    "deletable": true,
    "editable": true,
    "scrolled": true
   },
   "outputs": [
    {
     "name": "stdout",
     "output_type": "stream",
     "text": [
      "(file,(1,3))\n",
      "(are,(1,1))\n",
      "(Apache,(1,2))\n",
      "(is,(6,2))\n",
      "(uses,(1,1))\n",
      "(this,(1,3))\n",
      "(one,(2,1))\n",
      "(with,(4,2))\n",
      "(,(67,2931))\n",
      "(The,(1,2))\n",
      "(the,(21,10))\n",
      "(not,(1,1))\n",
      "(be,(2,1))\n",
      "(on,(6,1))\n",
      "(at,(2,1))\n",
      "(use,(3,1))\n",
      "(or,(3,3))\n",
      "(of,(5,2))\n",
      "(Spark,(14,1))\n",
      "(following,(2,1))\n",
      "(which,(2,1))\n",
      "(See,(1,2))\n",
      "(for,(12,2))\n",
      "(an,(3,1))\n",
      "(You,(3,2))\n",
      "(in,(5,3))\n",
      "(you,(4,1))\n",
      "(that,(3,1))\n",
      "(a,(10,1))\n",
      "(to,(14,5))\n",
      "(and,(10,1))\n"
     ]
    }
   ],
   "source": [
    "joined.collect.foreach(println)"
   ]
  },
  {
   "cell_type": "markdown",
   "metadata": {
    "deletable": true,
    "editable": true
   },
   "source": [
    "Let's combine the values together to get the total count. The operations in this command tells Spark to combine the values from (K,V) and (K,W) to give us(K, V+W). The ._ notation is a way to access the value on that particular index of the key value pair."
   ]
  },
  {
   "cell_type": "code",
   "execution_count": 32,
   "metadata": {
    "collapsed": false,
    "deletable": true,
    "editable": true,
    "scrolled": true
   },
   "outputs": [
    {
     "name": "stdout",
     "output_type": "stream",
     "text": [
      "(file,4)\n",
      "(are,2)\n",
      "(Apache,3)\n",
      "(is,8)\n",
      "(uses,2)\n",
      "(this,4)\n",
      "(one,3)\n",
      "(with,6)\n",
      "(,2998)\n",
      "(The,3)\n",
      "(the,31)\n",
      "(not,2)\n",
      "(be,3)\n",
      "(on,7)\n",
      "(at,3)\n",
      "(use,4)\n",
      "(or,6)\n",
      "(of,7)\n",
      "(Spark,15)\n",
      "(following,3)\n",
      "(which,3)\n",
      "(See,3)\n",
      "(for,14)\n",
      "(an,4)\n",
      "(You,5)\n",
      "(in,8)\n",
      "(you,5)\n",
      "(that,4)\n",
      "(a,11)\n",
      "(to,19)\n",
      "(and,11)\n"
     ]
    }
   ],
   "source": [
    "val joinedSum = joined.map(k => (k._1, (k._2)._1 + (k._2)._2))\n",
    "joinedSum.collect() foreach println"
   ]
  },
  {
   "cell_type": "markdown",
   "metadata": {
    "deletable": true,
    "editable": true
   },
   "source": [
    "To check if it is correct, print the first five elements from the joined and the joinedSum RDD"
   ]
  },
  {
   "cell_type": "code",
   "execution_count": 33,
   "metadata": {
    "collapsed": false,
    "deletable": true,
    "editable": true,
    "scrolled": true
   },
   "outputs": [
    {
     "name": "stdout",
     "output_type": "stream",
     "text": [
      "Joined Individial\n",
      "\n",
      "(file,(1,3))\n",
      "(are,(1,1))\n",
      "(Apache,(1,2))\n",
      "(is,(6,2))\n",
      "(uses,(1,1))\n",
      "\n",
      "\n",
      "Joined Sum\n",
      "\n",
      "(file,4)\n",
      "(are,2)\n",
      "(Apache,3)\n",
      "(is,8)\n",
      "(uses,2)\n"
     ]
    }
   ],
   "source": [
    "println(\"Joined Individial\\n\")\n",
    "joined.take(5).foreach(println)\n",
    "\n",
    "println(\"\\n\\nJoined Sum\\n\")\n",
    "joinedSum.take(5).foreach(println)"
   ]
  },
  {
   "cell_type": "markdown",
   "metadata": {
    "deletable": true,
    "editable": true
   },
   "source": [
    "## Shared variables\n",
    "\n",
    "Broadcast variables allow the programmer to keep a read-only variable cached on each worker node rather than shipping a copy of it with tasks. They can be used, for example, to give every node a copy of a large input dataset in an efficient manner. After the broadcast variable is created, it should be used instead of the value v in any functions run on the cluster so that v is not shipped to the nodes more than once. In addition, the object v should not be modified after it is broadcast in order to ensure that all nodes get the same value of the broadcast variable (e.g. if the variable is shipped to a new node later).\n",
    "\n",
    "Read more here: [http://spark.apache.org/docs/latest/programming-guide.html#broadcast-variables](http://spark.apache.org/docs/latest/programming-guide.html#broadcast-variables)\n",
    "\n",
    "Let's create a broadcast variable:"
   ]
  },
  {
   "cell_type": "code",
   "execution_count": 34,
   "metadata": {
    "collapsed": false,
    "deletable": true,
    "editable": true,
    "scrolled": true
   },
   "outputs": [],
   "source": [
    "val broadcastVar = sc.broadcast(Array(1,2,3))"
   ]
  },
  {
   "cell_type": "markdown",
   "metadata": {
    "deletable": true,
    "editable": true
   },
   "source": [
    "To get the value, type in:"
   ]
  },
  {
   "cell_type": "code",
   "execution_count": 35,
   "metadata": {
    "collapsed": false,
    "deletable": true,
    "editable": true,
    "scrolled": true
   },
   "outputs": [
    {
     "data": {
      "text/plain": [
       "Array(1, 2, 3)"
      ]
     },
     "execution_count": 35,
     "metadata": {},
     "output_type": "execute_result"
    }
   ],
   "source": [
    "broadcastVar.value"
   ]
  },
  {
   "cell_type": "markdown",
   "metadata": {
    "deletable": true,
    "editable": true
   },
   "source": [
    "Accumulators are variables that can only be added through an associative operation. It is used to implement counters and sum efficiently in parallel. Spark natively supports numeric type accumulators and standard mutable collections. Programmers can extend these for new types. Only the driver can read the values of the accumulators. The workers can only invoke it to increment the value.\n",
    "\n",
    "Create the accumulator variable. Type in:"
   ]
  },
  {
   "cell_type": "code",
   "execution_count": 36,
   "metadata": {
    "collapsed": true,
    "deletable": true,
    "editable": true,
    "scrolled": true
   },
   "outputs": [],
   "source": [
    "val accum = sc.accumulator(0)"
   ]
  },
  {
   "cell_type": "markdown",
   "metadata": {
    "deletable": true,
    "editable": true
   },
   "source": [
    "Next parallelize an array of four integers and run it through a loop to add each integer value to the accumulator variable. Type in:"
   ]
  },
  {
   "cell_type": "code",
   "execution_count": 37,
   "metadata": {
    "collapsed": false,
    "deletable": true,
    "editable": true,
    "scrolled": true
   },
   "outputs": [],
   "source": [
    "sc.parallelize(Array(1,2,3,4)).foreach(x => accum += x)"
   ]
  },
  {
   "cell_type": "markdown",
   "metadata": {
    "deletable": true,
    "editable": true
   },
   "source": [
    "To get the current value of the accumulator variable, type in:"
   ]
  },
  {
   "cell_type": "code",
   "execution_count": 38,
   "metadata": {
    "collapsed": false,
    "deletable": true,
    "editable": true,
    "scrolled": true
   },
   "outputs": [
    {
     "data": {
      "text/plain": [
       "10"
      ]
     },
     "execution_count": 38,
     "metadata": {},
     "output_type": "execute_result"
    }
   ],
   "source": [
    "accum.value"
   ]
  },
  {
   "cell_type": "markdown",
   "metadata": {
    "deletable": true,
    "editable": true
   },
   "source": [
    "You should get a value of 10.\n",
    "This command can only be invoked on the driver side. The worker nodes can only increment the accumulator."
   ]
  },
  {
   "cell_type": "markdown",
   "metadata": {
    "deletable": true,
    "editable": true
   },
   "source": [
    "## Key-value pairs\n",
    "\n",
    "You have already seen a bit about key-value pairs in the Joining RDD section. Here is a brief example of how to create a key-value pair and access its values. Remember that certain operations such as map and reduce only works on key-value pairs.\n",
    "\n",
    "Create a key-value pair of two characters. Type in:"
   ]
  },
  {
   "cell_type": "code",
   "execution_count": 39,
   "metadata": {
    "collapsed": true,
    "deletable": true,
    "editable": true,
    "scrolled": true
   },
   "outputs": [],
   "source": [
    "val pair = ('a', 'b')"
   ]
  },
  {
   "cell_type": "markdown",
   "metadata": {
    "deletable": true,
    "editable": true
   },
   "source": [
    "To access the value of the first index using the *._1* method and *._2* method for the 2nd."
   ]
  },
  {
   "cell_type": "code",
   "execution_count": 40,
   "metadata": {
    "collapsed": false,
    "deletable": true,
    "editable": true,
    "scrolled": true
   },
   "outputs": [
    {
     "data": {
      "text/plain": [
       "a"
      ]
     },
     "execution_count": 40,
     "metadata": {},
     "output_type": "execute_result"
    }
   ],
   "source": [
    "pair._1"
   ]
  },
  {
   "cell_type": "code",
   "execution_count": 41,
   "metadata": {
    "collapsed": false,
    "deletable": true,
    "editable": true,
    "scrolled": true
   },
   "outputs": [
    {
     "data": {
      "text/plain": [
       "b"
      ]
     },
     "execution_count": 41,
     "metadata": {},
     "output_type": "execute_result"
    }
   ],
   "source": [
    "pair._2"
   ]
  },
  {
   "cell_type": "markdown",
   "metadata": {
    "collapsed": true,
    "deletable": true,
    "editable": true
   },
   "source": [
    "## Sample Application\n",
    "\n",
    "In this section, you will be using a subset of a data for taxi trips that will determine the top 10 medallion numbers based on the number of trips."
   ]
  },
  {
   "cell_type": "code",
   "execution_count": 42,
   "metadata": {
    "collapsed": false,
    "deletable": true,
    "editable": true,
    "scrolled": true
   },
   "outputs": [],
   "source": [
    "val taxi = sc.textFile(\"/resources/jupyter/labs/BD0211EN/LabData/nyctaxi.csv\")"
   ]
  },
  {
   "cell_type": "markdown",
   "metadata": {
    "deletable": true,
    "editable": true
   },
   "source": [
    "To view the five rows of content, invoke the take function. Type in:"
   ]
  },
  {
   "cell_type": "code",
   "execution_count": 43,
   "metadata": {
    "collapsed": false,
    "deletable": true,
    "editable": true,
    "scrolled": true
   },
   "outputs": [
    {
     "name": "stdout",
     "output_type": "stream",
     "text": [
      "\"_id\",\"_rev\",\"dropoff_datetime\",\"dropoff_latitude\",\"dropoff_longitude\",\"hack_license\",\"medallion\",\"passenger_count\",\"pickup_datetime\",\"pickup_latitude\",\"pickup_longitude\",\"rate_code\",\"store_and_fwd_flag\",\"trip_distance\",\"trip_time_in_secs\",\"vendor_id\"\n",
      "\"29b3f4a30dea6688d4c289c9672cb996\",\"1-ddfdec8050c7ef4dc694eeeda6c4625e\",\"2013-01-11 22:03:00\",+4.07033460000000E+001,-7.40144200000000E+001,\"A93D1F7F8998FFB75EEF477EB6077516\",\"68BC16A99E915E44ADA7E639B4DD5F59\",2,\"2013-01-11 21:48:00\",+4.06760670000000E+001,-7.39810790000000E+001,1,,+4.08000000000000E+000,900,\"VTS\"\n",
      "\"2a80cfaa425dcec0861e02ae44354500\",\"1-b72234b58a7b0018a1ec5d2ea0797e32\",\"2013-01-11 04:28:00\",+4.08190960000000E+001,-7.39467470000000E+001,\"64CE1B03FDE343BB8DFB512123A525A4\",\"60150AA39B2F654ED6F0C3AF8174A48A\",1,\"2013-01-11 04:07:00\",+4.07280540000000E+001,-7.40020370000000E+001,1,,+8.53000000000000E+000,1260,\"VTS\"\n",
      "\"29b3f4a30dea6688d4c289c96758d87e\",\"1-387ec30eac5abda89d2abefdf947b2c1\",\"2013-01-11 22:02:00\",+4.07277180000000E+001,-7.39942860000000E+001,\"2D73B0C44F1699C67AB8AE322433BDB7\",\"6F907BC9A85B7034C8418A24A0A75489\",5,\"2013-01-11 21:46:00\",+4.07577480000000E+001,-7.39649810000000E+001,1,,+3.01000000000000E+000,960,\"VTS\"\n",
      "\"2a80cfaa425dcec0861e02ae446226e4\",\"1-aa8b16d6ae44ad906a46cc6581ffea50\",\"2013-01-11 10:03:00\",+4.07643050000000E+001,-7.39544600000000E+001,\"E90018250F0A009433F03BD1E4A4CE53\",\"1AFFD48CC07161DA651625B562FE4D06\",5,\"2013-01-11 09:44:00\",+4.07308080000000E+001,-7.39928280000000E+001,1,,+3.64000000000000E+000,1140,\"VTS\"\n"
     ]
    }
   ],
   "source": [
    "taxi.take(5).foreach(println)"
   ]
  },
  {
   "cell_type": "markdown",
   "metadata": {
    "deletable": true,
    "editable": true
   },
   "source": [
    "Note that the first line is the headers. Normally, you would want to filter that out, but since it will not affect our results, we can leave it in.\n",
    "\n",
    "To parse out the values, including the medallion numbers, you need to first create a new RDD by splitting the lines of the RDD using the comma as the delimiter. Type in:"
   ]
  },
  {
   "cell_type": "code",
   "execution_count": 44,
   "metadata": {
    "collapsed": true,
    "deletable": true,
    "editable": true,
    "scrolled": true
   },
   "outputs": [],
   "source": [
    "val taxiParse = taxi.map(line=>line.split(\",\"))"
   ]
  },
  {
   "cell_type": "markdown",
   "metadata": {
    "deletable": true,
    "editable": true
   },
   "source": [
    "Now create the key-value pairs where the key is the medallion number and the value is 1. We use this model to later sum up all the keys to find out the number of trips a particular taxi took and in particular, will be able to see which taxi took the most trips. Map each of the medallions to the value of one. Type in:"
   ]
  },
  {
   "cell_type": "code",
   "execution_count": 45,
   "metadata": {
    "collapsed": true,
    "deletable": true,
    "editable": true,
    "scrolled": true
   },
   "outputs": [],
   "source": [
    "val taxiMedKey = taxiParse.map(vals=>(vals(6), 1))"
   ]
  },
  {
   "cell_type": "markdown",
   "metadata": {
    "deletable": true,
    "editable": true
   },
   "source": [
    "vals(6) corresponds to the column where the medallion key is located\n",
    "\n",
    "Next use the reduceByKey function to count the number of occurrence for each key."
   ]
  },
  {
   "cell_type": "code",
   "execution_count": 46,
   "metadata": {
    "collapsed": false,
    "deletable": true,
    "editable": true,
    "scrolled": true
   },
   "outputs": [
    {
     "name": "stdout",
     "output_type": "stream",
     "text": [
      "\r",
      "                                                                                \r",
      "(\"A9907052C8BBDED5079252EFE6177ECF\",195)\n",
      "(\"26DE3DC2FCBB37A233BE231BA6F7364E\",173)\n",
      "(\"BA60553FAA4FE1A36BBF77B4C10D3003\",171)\n",
      "(\"67DD83EA2A67933B2724269121BF45BB\",196)\n",
      "(\"AD57F6329C387766186E1B3838A9CEDD\",214)\n"
     ]
    }
   ],
   "source": [
    "val taxiMedCounts = taxiMedKey.reduceByKey((v1,v2)=>v1+v2)\n",
    "\n",
    "taxiMedCounts.take(5).foreach(println)"
   ]
  },
  {
   "cell_type": "markdown",
   "metadata": {
    "deletable": true,
    "editable": true
   },
   "source": [
    "Finally, the values are swapped so they can be ordered in descending order and the results are presented correctly."
   ]
  },
  {
   "cell_type": "code",
   "execution_count": 47,
   "metadata": {
    "collapsed": false,
    "deletable": true,
    "editable": true,
    "scrolled": true
   },
   "outputs": [
    {
     "name": "stdout",
     "output_type": "stream",
     "text": [
      "\r",
      "                                                                                \r",
      "Taxi Medallion \"FE4C521F3C1AC6F2598DEF00DDD43029\" had 415 Trips\n",
      "Taxi Medallion \"F5BB809E7858A669C9A1E8A12A3CCF81\" had 411 Trips\n",
      "Taxi Medallion \"8CE240F0796D072D5DCFE06A364FB5A0\" had 406 Trips\n",
      "Taxi Medallion \"0310297769C8B049C0EA8E87C697F755\" had 402 Trips\n",
      "Taxi Medallion \"B6585890F68EE02702F32DECDEABC2A8\" had 399 Trips\n",
      "Taxi Medallion \"33955A2FCAF62C6E91A11AE97D96C99A\" had 395 Trips\n",
      "Taxi Medallion \"4F7C132D3130970CFA892CC858F5ECB5\" had 391 Trips\n",
      "Taxi Medallion \"78833E177D45E4BC520222FFBBAC5B77\" had 383 Trips\n",
      "Taxi Medallion \"E097412FE23295A691BEEE56F28FB9E2\" had 380 Trips\n",
      "Taxi Medallion \"C14289566BAAD9AEDD0751E5E9C73FBD\" had 377 Trips\n"
     ]
    }
   ],
   "source": [
    "for (pair <-taxiMedCounts.map(_.swap).top(10)) println(\"Taxi Medallion %s had %s Trips\".format(pair._2, pair._1))\n",
    "# CL: swap , top(10) "
   ]
  },
  {
   "cell_type": "markdown",
   "metadata": {
    "deletable": true,
    "editable": true
   },
   "source": [
    "While each step above was processed one line at a time, you can just as well process everything on one line:"
   ]
  },
  {
   "cell_type": "code",
   "execution_count": 48,
   "metadata": {
    "collapsed": true,
    "deletable": true,
    "editable": true,
    "scrolled": true
   },
   "outputs": [],
   "source": [
    "val taxiMedCountsOneLine = taxi.map(line=>line.split(',')).map(vals=>(vals(6),1)).reduceByKey(_ + _)"
   ]
  },
  {
   "cell_type": "markdown",
   "metadata": {
    "deletable": true,
    "editable": true
   },
   "source": [
    "Run the same line as above to print the taxiMedCountsOneLine RDD."
   ]
  },
  {
   "cell_type": "code",
   "execution_count": 49,
   "metadata": {
    "collapsed": false,
    "deletable": true,
    "editable": true,
    "scrolled": true
   },
   "outputs": [
    {
     "name": "stdout",
     "output_type": "stream",
     "text": [
      "\r",
      "                                                                                \r",
      "Taxi Medallion \"FE4C521F3C1AC6F2598DEF00DDD43029\" had 415 Trips\n",
      "Taxi Medallion \"F5BB809E7858A669C9A1E8A12A3CCF81\" had 411 Trips\n",
      "Taxi Medallion \"8CE240F0796D072D5DCFE06A364FB5A0\" had 406 Trips\n",
      "Taxi Medallion \"0310297769C8B049C0EA8E87C697F755\" had 402 Trips\n",
      "Taxi Medallion \"B6585890F68EE02702F32DECDEABC2A8\" had 399 Trips\n",
      "Taxi Medallion \"33955A2FCAF62C6E91A11AE97D96C99A\" had 395 Trips\n",
      "Taxi Medallion \"4F7C132D3130970CFA892CC858F5ECB5\" had 391 Trips\n",
      "Taxi Medallion \"78833E177D45E4BC520222FFBBAC5B77\" had 383 Trips\n",
      "Taxi Medallion \"E097412FE23295A691BEEE56F28FB9E2\" had 380 Trips\n",
      "Taxi Medallion \"C14289566BAAD9AEDD0751E5E9C73FBD\" had 377 Trips\n"
     ]
    }
   ],
   "source": [
    "for (pair <-taxiMedCountsOneLine.map(_.swap).top(10)) println(\"Taxi Medallion %s had %s Trips\".format(pair._2, pair._1))"
   ]
  },
  {
   "cell_type": "markdown",
   "metadata": {
    "deletable": true,
    "editable": true
   },
   "source": [
    "Let's cache the taxiMedCountsOneLine to see the difference caching makes. Run it with the logs set to INFO and you can see the output of the time it takes to execute each line. First, let's cache the RDD"
   ]
  },
  {
   "cell_type": "code",
   "execution_count": 50,
   "metadata": {
    "collapsed": false,
    "deletable": true,
    "editable": true,
    "scrolled": true
   },
   "outputs": [
    {
     "data": {
      "text/plain": [
       "ShuffledRDD[45] at reduceByKey at <console>:26"
      ]
     },
     "execution_count": 50,
     "metadata": {},
     "output_type": "execute_result"
    }
   ],
   "source": [
    "taxiMedCountsOneLine.cache()"
   ]
  },
  {
   "cell_type": "markdown",
   "metadata": {
    "deletable": true,
    "editable": true
   },
   "source": [
    "Next, you have to invoke an action for it to actually cache the RDD. Note the time it takes here (either empirically using the INFO log or just notice the time it takes)"
   ]
  },
  {
   "cell_type": "code",
   "execution_count": 51,
   "metadata": {
    "collapsed": false,
    "deletable": true,
    "editable": true,
    "scrolled": true
   },
   "outputs": [
    {
     "data": {
      "text/plain": [
       "13464"
      ]
     },
     "execution_count": 51,
     "metadata": {},
     "output_type": "execute_result"
    }
   ],
   "source": [
    "taxiMedCountsOneLine.count()"
   ]
  },
  {
   "cell_type": "markdown",
   "metadata": {
    "deletable": true,
    "editable": true
   },
   "source": [
    "Run it again to see the difference."
   ]
  },
  {
   "cell_type": "code",
   "execution_count": 52,
   "metadata": {
    "collapsed": false,
    "deletable": true,
    "editable": true,
    "scrolled": true
   },
   "outputs": [
    {
     "data": {
      "text/plain": [
       "13464"
      ]
     },
     "execution_count": 52,
     "metadata": {},
     "output_type": "execute_result"
    }
   ],
   "source": [
    "taxiMedCountsOneLine.count()"
   ]
  },
  {
   "cell_type": "markdown",
   "metadata": {
    "deletable": true,
    "editable": true
   },
   "source": [
    "The bigger the dataset, the more noticeable the difference will be. In a sample file such as ours, the difference may be negligible."
   ]
  },
  {
   "cell_type": "markdown",
   "metadata": {},
   "source": [
    "<div class=\"alert alert-success alertsuccess\" style=\"margin-top: 20px\">\n",
    "**Tip**: Enjoyed using Jupyter notebooks with Spark? Get yourself a free \n",
    "    <a href=\"http://cocl.us/DSX_on_Cloud\">IBM Cloud</a> account where you can use Data Science Experience notebooks\n",
    "    and have *two* Spark executors for free!\n",
    "</div>"
   ]
  },
  {
   "cell_type": "markdown",
   "metadata": {
    "deletable": true,
    "editable": true
   },
   "source": [
    "### Summary\n",
    "Having completed this exercise, you should now be able to describe Spark’s primary data abstraction, understand how to create parallelized collections and external datasets, work with Resilient Distributed Dataset (RDD) operations, and utilize shared variables and key-value pairs."
   ]
  },
  {
   "cell_type": "markdown",
   "metadata": {
    "deletable": true,
    "editable": true
   },
   "source": [
    "This notebook is part of the free course on **Cognitive Class** called *Spark Fundamentals I*. If you accessed this notebook outside the course, you can take this free self-paced course, online by going to: http://cocl.us/Spark_Fundamentals_I"
   ]
  },
  {
   "cell_type": "markdown",
   "metadata": {
    "deletable": true,
    "editable": true
   },
   "source": [
    "### About the Authors:  \n",
    "Hi! It's [Alex Aklson](https://www.linkedin.com/in/aklson/), one of the authors of this notebook. I hope you found this lab educational! There is much more to learn about Spark but you are well on your way. Feel free to connect with me if you have any questions.\n",
    "<hr>"
   ]
  }
 ],
 "metadata": {
  "kernelspec": {
   "display_name": "Apache Toree - Scala",
   "language": "scala",
   "name": "apache_toree_scala"
  },
  "language_info": {
   "name": "scala",
   "version": "2.10.4"
  },
  "widgets": {
   "state": {},
   "version": "1.1.2"
  }
 },
 "nbformat": 4,
 "nbformat_minor": 0
}
