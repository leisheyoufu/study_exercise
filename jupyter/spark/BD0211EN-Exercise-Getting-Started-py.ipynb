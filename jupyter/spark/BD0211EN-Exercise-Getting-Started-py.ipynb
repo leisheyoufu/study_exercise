{
 "cells": [
  {
   "cell_type": "markdown",
   "metadata": {
    "deletable": true,
    "editable": true
   },
   "source": [
    "<a href=\"https://cognitiveclass.ai\"><img src = \"https://ibm.box.com/shared/static/9gegpsmnsoo25ikkbl4qzlvlyjbgxs5x.png\" width = 400> </a>"
   ]
  },
  {
   "cell_type": "markdown",
   "metadata": {
    "deletable": true,
    "editable": true
   },
   "source": [
    "<h1 align = \"center\"> Spark Fundamentals I - Introduction to Spark</h1>\n",
    "<h2 align = \"center\"> Getting Started</h2>\n",
    "<br align = \"left\">\n",
    "\n",
    "**Related free online courses:**\n",
    "\n",
    "Related courses can be found in the following learning paths:\n",
    "\n",
    "- [Spark Fundamentals path](http://cocl.us/Spark_Fundamentals_Path)\n",
    "- [Big Data Fundamentals path](http://cocl.us/Big_Data_Fundamentals_Path) \n",
    "\n",
    "<img src = \"http://spark.apache.org/images/spark-logo.png\", height = 100, align = 'left'>"
   ]
  },
  {
   "cell_type": "markdown",
   "metadata": {
    "deletable": true,
    "editable": true
   },
   "source": [
    " ## Spark is built around speed and the ease of use. In these labs you will see for yourself how easy it is to get started using Spark. \n",
    "\n",
    "Spark’s primary abstraction is a distributed collection of items called a Resilient Distributed Dataset or RDD. In a subsequent lab exercise, you will learn more about the details of RDD. RDDs have actions, which return values, and transformations, which return pointers to new RDD.\n",
    "\n",
    "This set of labs uses Cognitive Class Labs (formerly known as BDU Labs) to provide an interactive environment to develop applications and analyze data. It is available in either Scala or Python shells. Scala runs on the Java VM and is thus a good way to use existing Java libraries. In this lab exercise, we will set up our environment in preparation for the later labs.\n",
    "\n",
    "After completing this set of hands-on labs, you should be able to:\n",
    "\n",
    "1. Perform basic RDD actions and transformations\n",
    "2. Use caching to speed up repeated operations\n",
    "\n",
    "\n",
    "### Using this notebook\n",
    "\n",
    "This is an interactive environment where you can show your code through cells, and documentation through markdown.\n",
    "\n",
    "Look at the top right corner. Do you see \"Python 3\"? This indicates that you are running Python in this notebook.\n",
    "\n",
    "**To run a cell:** Shift + Enter\n",
    "\n",
    "### Try creating a new cell below.\n",
    "\n",
    "**To create a new cell:** In the menu, go to _\"Insert\" > \"Insert Cell Below\"_. Or, click outside of a cell, and press \"a\" (insert cell above) or \"b\" (insert cell below)."
   ]
  },
  {
   "cell_type": "markdown",
   "metadata": {
    "deletable": true,
    "editable": true
   },
   "source": [
    "# Lab Setup\n",
    "\n",
    "Run the following cells to get the lab data."
   ]
  },
  {
   "cell_type": "code",
   "execution_count": 23,
   "metadata": {
    "collapsed": false
   },
   "outputs": [
    {
     "name": "stdout",
     "output_type": "stream",
     "text": [
      "Data Downloaded!\n"
     ]
    }
   ],
   "source": [
    "# download the data from the IBM server\n",
    "# this may take ~30 seconds depending on your internet speed\n",
    "!wget --quiet https://ibm.box.com/shared/static/j8skrriqeqw66f51iyz911zyqai64j2g.zip\n",
    "print(\"Data Downloaded!\")"
   ]
  },
  {
   "cell_type": "markdown",
   "metadata": {},
   "source": [
    "Let's unzip the data that we just downloaded into a directory dedicated for this course. Let's choose the directory **/resources/jupyter/labs/BD0211EN/**."
   ]
  },
  {
   "cell_type": "code",
   "execution_count": 24,
   "metadata": {
    "collapsed": false,
    "deletable": true,
    "editable": true
   },
   "outputs": [
    {
     "name": "stdout",
     "output_type": "stream",
     "text": [
      "Data Extracted!\n"
     ]
    }
   ],
   "source": [
    "# this may take ~30 seconds depending on your internet speed\n",
    "!unzip -q -o -d /resources/jupyter/labs/BD0211EN/ j8skrriqeqw66f51iyz911zyqai64j2g.zip\n",
    "print(\"Data Extracted!\")"
   ]
  },
  {
   "cell_type": "markdown",
   "metadata": {},
   "source": [
    "The data is in a folder called **LabData**. Let's list all the files in the data that we just downloaded and extracted."
   ]
  },
  {
   "cell_type": "code",
   "execution_count": 25,
   "metadata": {
    "collapsed": false,
    "deletable": true,
    "editable": true
   },
   "outputs": [
    {
     "name": "stdout",
     "output_type": "stream",
     "text": [
      "followers.txt\r\n",
      "notebook.log\r\n",
      "nyctaxi100.csv\r\n",
      "nyctaxi.csv\r\n",
      "nyctaxisub.csv\r\n",
      "nycweather.csv\r\n",
      "pom.xml\r\n",
      "README.md\r\n",
      "taxistreams.py\r\n",
      "users.txt\r\n"
     ]
    }
   ],
   "source": [
    "# list the extracted files\n",
    "!ls -1 /resources/jupyter/labs/BD0211EN/LabData"
   ]
  },
  {
   "cell_type": "markdown",
   "metadata": {
    "deletable": true,
    "editable": true
   },
   "source": [
    "Should have:\n",
    "    \n",
    "* followers.txt\n",
    "* notebook.log\n",
    "* nyctaxi100.csv\n",
    "* nyctaxi.csv\n",
    "* nyctaxisub.csv\n",
    "* nycweather.csv\n",
    "* pom.xml\n",
    "* README.md\n",
    "* taxistreams.py\n",
    "* users.txt"
   ]
  },
  {
   "cell_type": "markdown",
   "metadata": {
    "deletable": true,
    "editable": true
   },
   "source": [
    "### Starting with Spark\n",
    "\n",
    "The notebooks provide code assist. For example, type in \"sc.\" followed by the Tab key to get the list of options associated with the spark context:"
   ]
  },
  {
   "cell_type": "code",
   "execution_count": null,
   "metadata": {
    "collapsed": false,
    "deletable": true,
    "editable": true
   },
   "outputs": [],
   "source": [
    "sc."
   ]
  },
  {
   "cell_type": "markdown",
   "metadata": {
    "deletable": true,
    "editable": true
   },
   "source": [
    "To run a command as code, simple select the cell you want to run and either:\n",
    "\n",
    "* Click the play button in the toolbar above\n",
    "* Press \"_Shift+Enter_\"\n",
    "\n",
    "Let's run a basic command and check the version of Spark running:"
   ]
  },
  {
   "cell_type": "code",
   "execution_count": null,
   "metadata": {
    "collapsed": false,
    "deletable": true,
    "editable": true
   },
   "outputs": [],
   "source": [
    "sc.version"
   ]
  },
  {
   "cell_type": "markdown",
   "metadata": {},
   "source": [
    "Add in the path to the *README.md* file in **LabData**."
   ]
  },
  {
   "cell_type": "code",
   "execution_count": 26,
   "metadata": {
    "collapsed": false,
    "deletable": true,
    "editable": true
   },
   "outputs": [],
   "source": [
    "readme = sc.textFile(\"/resources/jupyter/labs/BD0211EN/LabData/README.md\")"
   ]
  },
  {
   "cell_type": "markdown",
   "metadata": {
    "deletable": true,
    "editable": true
   },
   "source": [
    "Let’s perform some RDD actions on this text file. Count the number of items in the RDD using this command:"
   ]
  },
  {
   "cell_type": "code",
   "execution_count": 30,
   "metadata": {
    "collapsed": false,
    "deletable": true,
    "editable": true
   },
   "outputs": [
    {
     "data": {
      "text/plain": [
       "98"
      ]
     },
     "execution_count": 30,
     "metadata": {},
     "output_type": "execute_result"
    }
   ],
   "source": [
    "readme.count()"
   ]
  },
  {
   "cell_type": "markdown",
   "metadata": {
    "deletable": true,
    "editable": true
   },
   "source": [
    "You should see that this RDD action returned a value of 103.\n",
    "\n",
    "Let’s run another action. Run this command to find the first item in the RDD:"
   ]
  },
  {
   "cell_type": "code",
   "execution_count": 31,
   "metadata": {
    "collapsed": false,
    "deletable": true,
    "editable": true
   },
   "outputs": [
    {
     "data": {
      "text/plain": [
       "'# Apache Spark'"
      ]
     },
     "execution_count": 31,
     "metadata": {},
     "output_type": "execute_result"
    }
   ],
   "source": [
    "readme.first()"
   ]
  },
  {
   "cell_type": "markdown",
   "metadata": {
    "deletable": true,
    "editable": true
   },
   "source": [
    "Now let’s try a transformation. Use the filter transformation to return a new RDD with a subset of the items in the file. Type in this command:"
   ]
  },
  {
   "cell_type": "code",
   "execution_count": 32,
   "metadata": {
    "collapsed": false,
    "deletable": true,
    "editable": true
   },
   "outputs": [],
   "source": [
    "linesWithSpark = readme.filter(lambda line: \"Spark\" in line)"
   ]
  },
  {
   "cell_type": "markdown",
   "metadata": {
    "deletable": true,
    "editable": true
   },
   "source": [
    "You can even chain together transformations and actions. To find out how many lines contains the word “Spark”, type in:"
   ]
  },
  {
   "cell_type": "code",
   "execution_count": 33,
   "metadata": {
    "collapsed": false,
    "deletable": true,
    "editable": true
   },
   "outputs": [
    {
     "data": {
      "text/plain": [
       "18"
      ]
     },
     "execution_count": 33,
     "metadata": {},
     "output_type": "execute_result"
    }
   ],
   "source": [
    "linesWithSpark = readme.filter(lambda line: \"Spark\" in line)\n",
    "readme.filter(lambda line: \"Spark\" in line).count()"
   ]
  },
  {
   "cell_type": "markdown",
   "metadata": {
    "deletable": true,
    "editable": true
   },
   "source": [
    "# More on RDD Operations\n",
    "\n",
    "This section builds upon the previous section. In this section, you will see that RDD can be used for more complex computations. You will find the line from that \"README.md\" file with the most words in it.\n",
    "\n",
    "Run the following cell."
   ]
  },
  {
   "cell_type": "code",
   "execution_count": 34,
   "metadata": {
    "collapsed": false,
    "deletable": true,
    "editable": true
   },
   "outputs": [
    {
     "data": {
      "text/plain": [
       "14"
      ]
     },
     "execution_count": 34,
     "metadata": {},
     "output_type": "execute_result"
    }
   ],
   "source": [
    "readme.map(lambda line: len(line.split())).reduce(lambda a, b: a if (a > b) else b)\n",
    "# CL: reduce return result , not RDD"
   ]
  },
  {
   "cell_type": "markdown",
   "metadata": {
    "deletable": true,
    "editable": true
   },
   "source": [
    "There are two parts to this. The first maps a line to an integer value, the number of words in that line. In the second part reduce is called to find the line with the most words in it. The arguments to map and reduce are Python anonymous functions (lambdas), but you can use any top level Python functions. In the next step, you’ll define a max function to illustrate this feature.\n",
    "\n",
    "Define the max function. You will need to type this in:"
   ]
  },
  {
   "cell_type": "code",
   "execution_count": 35,
   "metadata": {
    "collapsed": false,
    "deletable": true,
    "editable": true
   },
   "outputs": [],
   "source": [
    "def max(a, b):\n",
    " if a > b:\n",
    "    return a\n",
    " else:\n",
    "    return b"
   ]
  },
  {
   "cell_type": "markdown",
   "metadata": {
    "deletable": true,
    "editable": true
   },
   "source": [
    "Now run the following with the max function:"
   ]
  },
  {
   "cell_type": "code",
   "execution_count": 36,
   "metadata": {
    "collapsed": false,
    "deletable": true,
    "editable": true
   },
   "outputs": [
    {
     "data": {
      "text/plain": [
       "14"
      ]
     },
     "execution_count": 36,
     "metadata": {},
     "output_type": "execute_result"
    }
   ],
   "source": [
    "readme.map(lambda line: len(line.split())).reduce(max)"
   ]
  },
  {
   "cell_type": "markdown",
   "metadata": {
    "deletable": true,
    "editable": true
   },
   "source": [
    "Spark has a MapReduce data flow pattern. We can use this to do a word count on the readme file."
   ]
  },
  {
   "cell_type": "code",
   "execution_count": 37,
   "metadata": {
    "collapsed": false,
    "deletable": true,
    "editable": true
   },
   "outputs": [],
   "source": [
    "wordCounts = readme.flatMap(lambda line: line.split()).map(lambda word: (word, 1)).reduceByKey(lambda a, b: a+b)"
   ]
  },
  {
   "cell_type": "markdown",
   "metadata": {
    "deletable": true,
    "editable": true
   },
   "source": [
    "Here we combined the flatMap, map, and the reduceByKey functions to do a word count of each word in the readme file.\n",
    "\n",
    "To collect the word counts, use the _collect_ action.\n",
    "\n",
    "#### It should be noted that the collect function brings all of the data into the driver node. For a small dataset, this is acceptable but, for a large dataset this can cause an Out Of Memory error. It is recommended to use collect() for testing only. The safer approach is to use the take() function e.g. print take(n)"
   ]
  },
  {
   "cell_type": "code",
   "execution_count": 44,
   "metadata": {
    "collapsed": false,
    "deletable": true,
    "editable": true
   },
   "outputs": [
    {
     "data": {
      "text/plain": [
       "[('guide,', 1),\n",
       " ('APIs', 1),\n",
       " ('optimized', 1),\n",
       " ('name', 1),\n",
       " ('Scala,', 1),\n",
       " ('package.', 1),\n",
       " ('particular', 3),\n",
       " ('tools', 1),\n",
       " ('must', 1),\n",
       " ('URL,', 1),\n",
       " ('params', 1),\n",
       " ('programs', 2),\n",
       " ('changed', 1),\n",
       " ('[Configuration', 1),\n",
       " ('following', 2),\n",
       " ('start', 1),\n",
       " ('computation', 1),\n",
       " ('Please', 3),\n",
       " ('SQL', 2),\n",
       " ('Spark.', 1),\n",
       " ('Hadoop,', 2),\n",
       " ('configure', 1),\n",
       " ('distributions.', 1),\n",
       " ('It', 2),\n",
       " ('run:', 1),\n",
       " ('Hive', 2),\n",
       " ('graph', 1),\n",
       " ('distribution', 1),\n",
       " ('Testing', 1),\n",
       " ('using:', 1),\n",
       " ('Building', 1),\n",
       " ('locally', 2),\n",
       " ('built,', 1),\n",
       " ('./bin/run-example', 2),\n",
       " ('have', 1),\n",
       " ('The', 1),\n",
       " ('\"local\"', 1),\n",
       " ('module,', 1),\n",
       " ('programming', 1),\n",
       " ('provides', 1),\n",
       " ('systems.', 1),\n",
       " ('scala>', 1),\n",
       " ('latest', 1),\n",
       " ('instance:', 1),\n",
       " ('machine', 1),\n",
       " ('online', 1),\n",
       " ('in', 5),\n",
       " ('against', 1),\n",
       " ('downloaded', 1),\n",
       " ('Alternatively,', 1),\n",
       " ('several', 1),\n",
       " ('project', 1),\n",
       " ('[params]`.', 1),\n",
       " ('engine', 1),\n",
       " ('[project', 2),\n",
       " ('supports', 2),\n",
       " ('uses', 1),\n",
       " ('1000:', 2),\n",
       " ('About', 1),\n",
       " ('individual', 1),\n",
       " ('version', 1),\n",
       " ('example:', 1),\n",
       " ('README', 1),\n",
       " ('Once', 1),\n",
       " ('help', 1),\n",
       " ('are', 1),\n",
       " ('learning,', 1),\n",
       " ('Spark', 14),\n",
       " ('instructions.', 1),\n",
       " ('[Apache', 1),\n",
       " ('GraphX', 1),\n",
       " ('analysis.', 1),\n",
       " ('Shell', 2),\n",
       " ('MLlib', 1),\n",
       " ('#', 1),\n",
       " ('Python', 2),\n",
       " ('abbreviated', 1),\n",
       " ('Try', 1),\n",
       " ('usage', 1),\n",
       " ('Documentation', 1),\n",
       " ('HDFS', 1),\n",
       " ('them,', 1),\n",
       " ('of', 5),\n",
       " ('only', 1),\n",
       " ('high-level', 1),\n",
       " ('YARN,', 1),\n",
       " ('Guide](http://spark.apache.org/docs/latest/configuration.html)', 1),\n",
       " ('N', 1),\n",
       " ('this', 1),\n",
       " ('[\"Third', 1),\n",
       " ('Hadoop-supported', 1),\n",
       " ('`./bin/run-example', 1),\n",
       " ('Because', 1),\n",
       " ('Spark](#building-spark).', 1),\n",
       " ('tests', 2),\n",
       " ('when', 1),\n",
       " ('basic', 1),\n",
       " ('do', 2),\n",
       " ('spark://', 1),\n",
       " ('way', 1),\n",
       " ('an', 3),\n",
       " ('different', 1),\n",
       " ('library', 1),\n",
       " ('Apache', 1),\n",
       " ('1000).count()', 1),\n",
       " ('distribution.', 1),\n",
       " ('class', 2),\n",
       " ('variable', 1),\n",
       " ('Note', 1),\n",
       " ('examples', 2),\n",
       " ('Spark\"](http://spark.apache.org/docs/latest/building-spark.html).', 1),\n",
       " ('Java,', 1),\n",
       " ('use', 3),\n",
       " ('refer', 2),\n",
       " ('storage', 1),\n",
       " ('./dev/run-tests', 1),\n",
       " ('site,', 1),\n",
       " ('Example', 1),\n",
       " ('guidance', 3),\n",
       " ('set', 2),\n",
       " ('other', 1),\n",
       " ('at', 2),\n",
       " ('documentation', 3),\n",
       " ('Interactive', 2),\n",
       " ('processing,', 1),\n",
       " ('no', 1),\n",
       " ('run', 7),\n",
       " ('is', 6),\n",
       " ('And', 1),\n",
       " ('Thriftserver', 1),\n",
       " ('versions', 1),\n",
       " ('using', 2),\n",
       " ('print', 1),\n",
       " ('overview', 1),\n",
       " ('SparkPi', 2),\n",
       " ('wiki](https://cwiki.apache.org/confluence/display/SPARK).', 1),\n",
       " ('[\"Specifying', 1),\n",
       " ('Version\"](http://spark.apache.org/docs/latest/building-spark.html#specifying-the-hadoop-version)',\n",
       "  1),\n",
       " ('mesos://', 1),\n",
       " ('for', 12),\n",
       " ('its', 1),\n",
       " ('or', 3),\n",
       " ('detailed', 2),\n",
       " ('shell:', 2),\n",
       " ('the', 21),\n",
       " ('find', 1),\n",
       " ('Running', 1),\n",
       " ('sc.parallelize(1', 1),\n",
       " ('\"local[N]\"', 1),\n",
       " ('Pi', 1),\n",
       " ('computing', 1),\n",
       " ('DataFrames,', 1),\n",
       " ('return', 2),\n",
       " ('see', 1),\n",
       " ('See', 1),\n",
       " ('Python,', 2),\n",
       " ('You', 3),\n",
       " ('core', 1),\n",
       " ('tests](https://cwiki.apache.org/confluence/display/SPARK/Useful+Developer+Tools).',\n",
       "  1),\n",
       " ('Versions', 1),\n",
       " ('rich', 1),\n",
       " ('sc.parallelize(range(1000)).count()', 1),\n",
       " ('you', 4),\n",
       " ('processing.', 1),\n",
       " ('package', 1),\n",
       " ('how', 2),\n",
       " ('MASTER', 1),\n",
       " ('works', 1),\n",
       " ('Programs', 1),\n",
       " ('one', 2),\n",
       " ('and', 10),\n",
       " ('application', 1),\n",
       " ('Distributions\"](http://spark.apache.org/docs/latest/hadoop-third-party-distributions.html)',\n",
       "  1),\n",
       " ('higher-level', 1),\n",
       " ('threads.', 1),\n",
       " ('Many', 1),\n",
       " ('`examples`', 2),\n",
       " ('Online', 1),\n",
       " ('a', 10),\n",
       " ('file', 1),\n",
       " ('Configuration', 1),\n",
       " ('also', 5),\n",
       " ('MASTER=spark://host:7077', 1),\n",
       " ('if', 4),\n",
       " ('cluster.', 1),\n",
       " ('package.)', 1),\n",
       " ('runs.', 1),\n",
       " ('page](http://spark.apache.org/documentation.html)', 1),\n",
       " ('with', 4),\n",
       " ('Data.', 1),\n",
       " ('given.', 1),\n",
       " ('[building', 1),\n",
       " ('pre-built', 1),\n",
       " ('should', 2),\n",
       " ('sample', 1),\n",
       " ('need', 1),\n",
       " ('your', 1),\n",
       " ('command,', 2),\n",
       " ('example', 3),\n",
       " ('To', 2),\n",
       " ('from', 1),\n",
       " ('same', 1),\n",
       " ('clean', 1),\n",
       " ('including', 3),\n",
       " ('can', 6),\n",
       " ('build', 3),\n",
       " ('that', 3),\n",
       " ('Maven](http://maven.apache.org/).', 1),\n",
       " ('to', 14),\n",
       " ('not', 1),\n",
       " ('Party', 1),\n",
       " ('first', 1),\n",
       " ('general', 2),\n",
       " ('environment', 1),\n",
       " ('fast', 1),\n",
       " ('build/mvn', 1),\n",
       " ('comes', 1),\n",
       " ('available', 1),\n",
       " ('(You', 1),\n",
       " ('cluster', 2),\n",
       " ('Hadoop', 4),\n",
       " ('For', 2),\n",
       " ('directory.', 1),\n",
       " ('easiest', 1),\n",
       " ('Scala', 2),\n",
       " ('data', 1),\n",
       " ('setup', 1),\n",
       " ('on', 6),\n",
       " ('prefer', 1),\n",
       " ('./bin/spark-shell', 1),\n",
       " ('running', 1),\n",
       " ('locally.', 1),\n",
       " ('which', 2),\n",
       " ('>>>', 1),\n",
       " ('requires', 1),\n",
       " ('[run', 1),\n",
       " ('-DskipTests', 1),\n",
       " ('programs,', 1),\n",
       " ('This', 2),\n",
       " ('R,', 1),\n",
       " ('built', 1),\n",
       " ('Streaming', 1),\n",
       " ('<http://spark.apache.org/>', 1),\n",
       " ('contains', 1),\n",
       " ('be', 2),\n",
       " ('More', 1),\n",
       " ('through', 1),\n",
       " ('will', 1),\n",
       " ('graphs', 1),\n",
       " ('stream', 1),\n",
       " ('system', 1),\n",
       " ('\"yarn\"', 1),\n",
       " ('[\"Building', 1),\n",
       " ('talk', 1),\n",
       " ('Big', 1),\n",
       " ('thread,', 1),\n",
       " ('./bin/pyspark', 1),\n",
       " ('web', 1),\n",
       " ('building', 3),\n",
       " ('documentation,', 1),\n",
       " ('Tests', 1),\n",
       " ('protocols', 1),\n",
       " ('submit', 1),\n",
       " ('A', 1),\n",
       " ('##', 8),\n",
       " ('<class>', 1)]"
      ]
     },
     "execution_count": 44,
     "metadata": {},
     "output_type": "execute_result"
    }
   ],
   "source": [
    "wordCounts.collect()"
   ]
  },
  {
   "cell_type": "markdown",
   "metadata": {
    "deletable": true,
    "editable": true
   },
   "source": [
    "### <span style=\"color: red\">YOUR TURN:</span> \n",
    "\n",
    "#### In the cell below, determine what is the most frequent word in the README, and how many times was it used?"
   ]
  },
  {
   "cell_type": "code",
   "execution_count": 46,
   "metadata": {
    "collapsed": false,
    "deletable": true,
    "editable": true
   },
   "outputs": [
    {
     "data": {
      "text/plain": [
       "('the', 21)"
      ]
     },
     "execution_count": 46,
     "metadata": {},
     "output_type": "execute_result"
    }
   ],
   "source": [
    "# WRITE YOUR CODE BELOW\n",
    "wordCounts.reduce(lambda a, b: a if a[1]>b[1] else b)"
   ]
  },
  {
   "cell_type": "markdown",
   "metadata": {
    "collapsed": false,
    "deletable": true,
    "editable": true
   },
   "source": [
    "Highlight text field for answer:\n",
    "\n",
    "<input type=\"text\" size=\"80\" value=\"wordCounts.reduce(lambda a, b: a if (a[1] > b[1]) else b)\" style=\"color: white\">"
   ]
  },
  {
   "cell_type": "markdown",
   "metadata": {
    "deletable": true,
    "editable": true
   },
   "source": [
    "## Using Spark caching\n",
    "\n",
    "In this short section, you’ll see how Spark caching can be used to pull data sets into a cluster-wide in-memory cache. This is very useful for accessing repeated data, such as querying a small “hot” dataset or when running an iterative algorithm. Both Python and Scala use the same commands.\n",
    "\n",
    "As a simple example, let’s mark our linesWithSpark dataset to be cached and then invoke the first count operation to tell Spark to cache it. Remember that transformation operations such as cache does not get processed until some action like count() is called. Once you run the second count() operation, you should notice a small increase in speed.\n"
   ]
  },
  {
   "cell_type": "code",
   "execution_count": 47,
   "metadata": {
    "collapsed": false,
    "deletable": true,
    "editable": true
   },
   "outputs": [
    {
     "name": "stdout",
     "output_type": "stream",
     "text": [
      "18\n"
     ]
    }
   ],
   "source": [
    "print(linesWithSpark.count())"
   ]
  },
  {
   "cell_type": "code",
   "execution_count": 48,
   "metadata": {
    "collapsed": false,
    "deletable": true,
    "editable": true
   },
   "outputs": [],
   "source": [
    "from timeit import Timer\n",
    "def count():\n",
    "    return linesWithSpark.count()\n",
    "t = Timer(lambda: count())"
   ]
  },
  {
   "cell_type": "code",
   "execution_count": 49,
   "metadata": {
    "collapsed": false,
    "deletable": true,
    "editable": true
   },
   "outputs": [
    {
     "name": "stdout",
     "output_type": "stream",
     "text": [
      "4.001863089972176\n"
     ]
    }
   ],
   "source": [
    "print(t.timeit(number=50))"
   ]
  },
  {
   "cell_type": "code",
   "execution_count": 50,
   "metadata": {
    "collapsed": false,
    "deletable": true,
    "editable": true
   },
   "outputs": [
    {
     "name": "stdout",
     "output_type": "stream",
     "text": [
      "3.4135989549104124\n"
     ]
    }
   ],
   "source": [
    "linesWithSpark.cache()\n",
    "print(t.timeit(number=50))"
   ]
  },
  {
   "cell_type": "markdown",
   "metadata": {
    "deletable": true,
    "editable": true
   },
   "source": [
    "It may seem silly to cache such a small file, but for larger data sets across tens or hundreds of nodes, this would still work. The second linesWithSpark.count() action runs against the cache and would perform significantly better for large datasets."
   ]
  },
  {
   "cell_type": "markdown",
   "metadata": {},
   "source": [
    "<div class=\"alert alert-success alertsuccess\" style=\"margin-top: 20px\">\n",
    "**Tip**: Enjoyed using Jupyter notebooks with Spark? Get yourself a free \n",
    "    <a href=\"http://cocl.us/DSX_on_Cloud\">IBM Cloud</a> account where you can use Data Science Experience notebooks\n",
    "    and have *two* Spark executors for free!\n",
    "</div>"
   ]
  },
  {
   "cell_type": "markdown",
   "metadata": {},
   "source": [
    "### Summary\n",
    "Having completed this exercise, you should now be able to log in to your environment and use the Spark shell to run simple actions and transformations for Scala and/or Python. You understand that Spark caching can be used to cache large datasets and subsequent operations on it will utilize the data in the cache rather than re-fetching it from HDFS."
   ]
  },
  {
   "cell_type": "markdown",
   "metadata": {
    "deletable": true,
    "editable": true
   },
   "source": [
    "This notebook is part of the free course on **Cognitive Class** called *Spark Fundamentals I*. If you accessed this notebook outside the course, you can take this free self-paced course, online by going to: http://cocl.us/Spark_Fundamentals_I"
   ]
  },
  {
   "cell_type": "markdown",
   "metadata": {
    "deletable": true,
    "editable": true
   },
   "source": [
    "### About the Authors:  \n",
    "Hi! It's [Alex Aklson](https://www.linkedin.com/in/aklson/), one of the authors of this notebook. I hope you found this lab educational! There is much more to learn about Spark but you are well on your way. Feel free to connect with me if you have any questions.\n",
    "<hr>"
   ]
  }
 ],
 "metadata": {
  "kernelspec": {
   "display_name": "Python 3",
   "language": "python",
   "name": "python3"
  },
  "language_info": {
   "codemirror_mode": {
    "name": "ipython",
    "version": 3
   },
   "file_extension": ".py",
   "mimetype": "text/x-python",
   "name": "python",
   "nbconvert_exporter": "python",
   "pygments_lexer": "ipython3",
   "version": "3.5.2"
  },
  "widgets": {
   "state": {},
   "version": "1.1.2"
  }
 },
 "nbformat": 4,
 "nbformat_minor": 0
}
